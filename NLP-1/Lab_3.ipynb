{
  "nbformat": 4,
  "nbformat_minor": 0,
  "metadata": {
    "colab": {
      "provenance": []
    },
    "kernelspec": {
      "name": "python3",
      "display_name": "Python 3"
    },
    "language_info": {
      "name": "python"
    },
    "widgets": {
      "application/vnd.jupyter.widget-state+json": {
        "7f2212958aec4a68acb69e70163b1907": {
          "model_module": "@jupyter-widgets/controls",
          "model_name": "HBoxModel",
          "model_module_version": "1.5.0",
          "state": {
            "_dom_classes": [],
            "_model_module": "@jupyter-widgets/controls",
            "_model_module_version": "1.5.0",
            "_model_name": "HBoxModel",
            "_view_count": null,
            "_view_module": "@jupyter-widgets/controls",
            "_view_module_version": "1.5.0",
            "_view_name": "HBoxView",
            "box_style": "",
            "children": [
              "IPY_MODEL_72bea528270f4fdbbf62e359d7d4a2f1",
              "IPY_MODEL_acedde7d14ec43c985301df30cbf3bac",
              "IPY_MODEL_800bf1f9feba4627841a3dde46e97851"
            ],
            "layout": "IPY_MODEL_f28f294f1a0e4e05bf7e3f5b0fe956ca"
          }
        },
        "72bea528270f4fdbbf62e359d7d4a2f1": {
          "model_module": "@jupyter-widgets/controls",
          "model_name": "HTMLModel",
          "model_module_version": "1.5.0",
          "state": {
            "_dom_classes": [],
            "_model_module": "@jupyter-widgets/controls",
            "_model_module_version": "1.5.0",
            "_model_name": "HTMLModel",
            "_view_count": null,
            "_view_module": "@jupyter-widgets/controls",
            "_view_module_version": "1.5.0",
            "_view_name": "HTMLView",
            "description": "",
            "description_tooltip": null,
            "layout": "IPY_MODEL_105864fcdede4048883419d43b159b2b",
            "placeholder": "​",
            "style": "IPY_MODEL_e1b2d47a73fd4daa94f54afa23f7044e",
            "value": "Downloading (…)solve/main/vocab.txt: 100%"
          }
        },
        "acedde7d14ec43c985301df30cbf3bac": {
          "model_module": "@jupyter-widgets/controls",
          "model_name": "FloatProgressModel",
          "model_module_version": "1.5.0",
          "state": {
            "_dom_classes": [],
            "_model_module": "@jupyter-widgets/controls",
            "_model_module_version": "1.5.0",
            "_model_name": "FloatProgressModel",
            "_view_count": null,
            "_view_module": "@jupyter-widgets/controls",
            "_view_module_version": "1.5.0",
            "_view_name": "ProgressView",
            "bar_style": "success",
            "description": "",
            "description_tooltip": null,
            "layout": "IPY_MODEL_b497acb53bd04c689dd3b21730f04928",
            "max": 213450,
            "min": 0,
            "orientation": "horizontal",
            "style": "IPY_MODEL_06bd5ea9666b401c89c2ff0de6076aa8",
            "value": 213450
          }
        },
        "800bf1f9feba4627841a3dde46e97851": {
          "model_module": "@jupyter-widgets/controls",
          "model_name": "HTMLModel",
          "model_module_version": "1.5.0",
          "state": {
            "_dom_classes": [],
            "_model_module": "@jupyter-widgets/controls",
            "_model_module_version": "1.5.0",
            "_model_name": "HTMLModel",
            "_view_count": null,
            "_view_module": "@jupyter-widgets/controls",
            "_view_module_version": "1.5.0",
            "_view_name": "HTMLView",
            "description": "",
            "description_tooltip": null,
            "layout": "IPY_MODEL_ba8f7c1cc8f6427998ed74493c8fd81a",
            "placeholder": "​",
            "style": "IPY_MODEL_836dca331e8c4ee1bcebc36c0c55a468",
            "value": " 213k/213k [00:00&lt;00:00, 2.47MB/s]"
          }
        },
        "f28f294f1a0e4e05bf7e3f5b0fe956ca": {
          "model_module": "@jupyter-widgets/base",
          "model_name": "LayoutModel",
          "model_module_version": "1.2.0",
          "state": {
            "_model_module": "@jupyter-widgets/base",
            "_model_module_version": "1.2.0",
            "_model_name": "LayoutModel",
            "_view_count": null,
            "_view_module": "@jupyter-widgets/base",
            "_view_module_version": "1.2.0",
            "_view_name": "LayoutView",
            "align_content": null,
            "align_items": null,
            "align_self": null,
            "border": null,
            "bottom": null,
            "display": null,
            "flex": null,
            "flex_flow": null,
            "grid_area": null,
            "grid_auto_columns": null,
            "grid_auto_flow": null,
            "grid_auto_rows": null,
            "grid_column": null,
            "grid_gap": null,
            "grid_row": null,
            "grid_template_areas": null,
            "grid_template_columns": null,
            "grid_template_rows": null,
            "height": null,
            "justify_content": null,
            "justify_items": null,
            "left": null,
            "margin": null,
            "max_height": null,
            "max_width": null,
            "min_height": null,
            "min_width": null,
            "object_fit": null,
            "object_position": null,
            "order": null,
            "overflow": null,
            "overflow_x": null,
            "overflow_y": null,
            "padding": null,
            "right": null,
            "top": null,
            "visibility": null,
            "width": null
          }
        },
        "105864fcdede4048883419d43b159b2b": {
          "model_module": "@jupyter-widgets/base",
          "model_name": "LayoutModel",
          "model_module_version": "1.2.0",
          "state": {
            "_model_module": "@jupyter-widgets/base",
            "_model_module_version": "1.2.0",
            "_model_name": "LayoutModel",
            "_view_count": null,
            "_view_module": "@jupyter-widgets/base",
            "_view_module_version": "1.2.0",
            "_view_name": "LayoutView",
            "align_content": null,
            "align_items": null,
            "align_self": null,
            "border": null,
            "bottom": null,
            "display": null,
            "flex": null,
            "flex_flow": null,
            "grid_area": null,
            "grid_auto_columns": null,
            "grid_auto_flow": null,
            "grid_auto_rows": null,
            "grid_column": null,
            "grid_gap": null,
            "grid_row": null,
            "grid_template_areas": null,
            "grid_template_columns": null,
            "grid_template_rows": null,
            "height": null,
            "justify_content": null,
            "justify_items": null,
            "left": null,
            "margin": null,
            "max_height": null,
            "max_width": null,
            "min_height": null,
            "min_width": null,
            "object_fit": null,
            "object_position": null,
            "order": null,
            "overflow": null,
            "overflow_x": null,
            "overflow_y": null,
            "padding": null,
            "right": null,
            "top": null,
            "visibility": null,
            "width": null
          }
        },
        "e1b2d47a73fd4daa94f54afa23f7044e": {
          "model_module": "@jupyter-widgets/controls",
          "model_name": "DescriptionStyleModel",
          "model_module_version": "1.5.0",
          "state": {
            "_model_module": "@jupyter-widgets/controls",
            "_model_module_version": "1.5.0",
            "_model_name": "DescriptionStyleModel",
            "_view_count": null,
            "_view_module": "@jupyter-widgets/base",
            "_view_module_version": "1.2.0",
            "_view_name": "StyleView",
            "description_width": ""
          }
        },
        "b497acb53bd04c689dd3b21730f04928": {
          "model_module": "@jupyter-widgets/base",
          "model_name": "LayoutModel",
          "model_module_version": "1.2.0",
          "state": {
            "_model_module": "@jupyter-widgets/base",
            "_model_module_version": "1.2.0",
            "_model_name": "LayoutModel",
            "_view_count": null,
            "_view_module": "@jupyter-widgets/base",
            "_view_module_version": "1.2.0",
            "_view_name": "LayoutView",
            "align_content": null,
            "align_items": null,
            "align_self": null,
            "border": null,
            "bottom": null,
            "display": null,
            "flex": null,
            "flex_flow": null,
            "grid_area": null,
            "grid_auto_columns": null,
            "grid_auto_flow": null,
            "grid_auto_rows": null,
            "grid_column": null,
            "grid_gap": null,
            "grid_row": null,
            "grid_template_areas": null,
            "grid_template_columns": null,
            "grid_template_rows": null,
            "height": null,
            "justify_content": null,
            "justify_items": null,
            "left": null,
            "margin": null,
            "max_height": null,
            "max_width": null,
            "min_height": null,
            "min_width": null,
            "object_fit": null,
            "object_position": null,
            "order": null,
            "overflow": null,
            "overflow_x": null,
            "overflow_y": null,
            "padding": null,
            "right": null,
            "top": null,
            "visibility": null,
            "width": null
          }
        },
        "06bd5ea9666b401c89c2ff0de6076aa8": {
          "model_module": "@jupyter-widgets/controls",
          "model_name": "ProgressStyleModel",
          "model_module_version": "1.5.0",
          "state": {
            "_model_module": "@jupyter-widgets/controls",
            "_model_module_version": "1.5.0",
            "_model_name": "ProgressStyleModel",
            "_view_count": null,
            "_view_module": "@jupyter-widgets/base",
            "_view_module_version": "1.2.0",
            "_view_name": "StyleView",
            "bar_color": null,
            "description_width": ""
          }
        },
        "ba8f7c1cc8f6427998ed74493c8fd81a": {
          "model_module": "@jupyter-widgets/base",
          "model_name": "LayoutModel",
          "model_module_version": "1.2.0",
          "state": {
            "_model_module": "@jupyter-widgets/base",
            "_model_module_version": "1.2.0",
            "_model_name": "LayoutModel",
            "_view_count": null,
            "_view_module": "@jupyter-widgets/base",
            "_view_module_version": "1.2.0",
            "_view_name": "LayoutView",
            "align_content": null,
            "align_items": null,
            "align_self": null,
            "border": null,
            "bottom": null,
            "display": null,
            "flex": null,
            "flex_flow": null,
            "grid_area": null,
            "grid_auto_columns": null,
            "grid_auto_flow": null,
            "grid_auto_rows": null,
            "grid_column": null,
            "grid_gap": null,
            "grid_row": null,
            "grid_template_areas": null,
            "grid_template_columns": null,
            "grid_template_rows": null,
            "height": null,
            "justify_content": null,
            "justify_items": null,
            "left": null,
            "margin": null,
            "max_height": null,
            "max_width": null,
            "min_height": null,
            "min_width": null,
            "object_fit": null,
            "object_position": null,
            "order": null,
            "overflow": null,
            "overflow_x": null,
            "overflow_y": null,
            "padding": null,
            "right": null,
            "top": null,
            "visibility": null,
            "width": null
          }
        },
        "836dca331e8c4ee1bcebc36c0c55a468": {
          "model_module": "@jupyter-widgets/controls",
          "model_name": "DescriptionStyleModel",
          "model_module_version": "1.5.0",
          "state": {
            "_model_module": "@jupyter-widgets/controls",
            "_model_module_version": "1.5.0",
            "_model_name": "DescriptionStyleModel",
            "_view_count": null,
            "_view_module": "@jupyter-widgets/base",
            "_view_module_version": "1.2.0",
            "_view_name": "StyleView",
            "description_width": ""
          }
        },
        "b3f58b94a7134190b94c009a0398827b": {
          "model_module": "@jupyter-widgets/controls",
          "model_name": "HBoxModel",
          "model_module_version": "1.5.0",
          "state": {
            "_dom_classes": [],
            "_model_module": "@jupyter-widgets/controls",
            "_model_module_version": "1.5.0",
            "_model_name": "HBoxModel",
            "_view_count": null,
            "_view_module": "@jupyter-widgets/controls",
            "_view_module_version": "1.5.0",
            "_view_name": "HBoxView",
            "box_style": "",
            "children": [
              "IPY_MODEL_a88923aedf5b41db802bd68e1931a85c",
              "IPY_MODEL_e6d382f0256c4729b5d357b848d08b4a",
              "IPY_MODEL_bdeb839dacbf462583877402fae0ffad"
            ],
            "layout": "IPY_MODEL_ca3460cd03304a8f9a64c7b2d443ce7a"
          }
        },
        "a88923aedf5b41db802bd68e1931a85c": {
          "model_module": "@jupyter-widgets/controls",
          "model_name": "HTMLModel",
          "model_module_version": "1.5.0",
          "state": {
            "_dom_classes": [],
            "_model_module": "@jupyter-widgets/controls",
            "_model_module_version": "1.5.0",
            "_model_name": "HTMLModel",
            "_view_count": null,
            "_view_module": "@jupyter-widgets/controls",
            "_view_module_version": "1.5.0",
            "_view_name": "HTMLView",
            "description": "",
            "description_tooltip": null,
            "layout": "IPY_MODEL_e5b768de637d43f284810ebec4ccf31e",
            "placeholder": "​",
            "style": "IPY_MODEL_c55e45d4f0264a02abf2477997307227",
            "value": "Downloading (…)okenizer_config.json: 100%"
          }
        },
        "e6d382f0256c4729b5d357b848d08b4a": {
          "model_module": "@jupyter-widgets/controls",
          "model_name": "FloatProgressModel",
          "model_module_version": "1.5.0",
          "state": {
            "_dom_classes": [],
            "_model_module": "@jupyter-widgets/controls",
            "_model_module_version": "1.5.0",
            "_model_name": "FloatProgressModel",
            "_view_count": null,
            "_view_module": "@jupyter-widgets/controls",
            "_view_module_version": "1.5.0",
            "_view_name": "ProgressView",
            "bar_style": "success",
            "description": "",
            "description_tooltip": null,
            "layout": "IPY_MODEL_d1857c2ab5e1465e941bb0abbfbcb772",
            "max": 29,
            "min": 0,
            "orientation": "horizontal",
            "style": "IPY_MODEL_52ab1622648d44998dd8e3557feba0f5",
            "value": 29
          }
        },
        "bdeb839dacbf462583877402fae0ffad": {
          "model_module": "@jupyter-widgets/controls",
          "model_name": "HTMLModel",
          "model_module_version": "1.5.0",
          "state": {
            "_dom_classes": [],
            "_model_module": "@jupyter-widgets/controls",
            "_model_module_version": "1.5.0",
            "_model_name": "HTMLModel",
            "_view_count": null,
            "_view_module": "@jupyter-widgets/controls",
            "_view_module_version": "1.5.0",
            "_view_name": "HTMLView",
            "description": "",
            "description_tooltip": null,
            "layout": "IPY_MODEL_b754d8c572e940499e52cdac1acee24b",
            "placeholder": "​",
            "style": "IPY_MODEL_1046f8398d494d60a85b76cba8848fb0",
            "value": " 29.0/29.0 [00:00&lt;00:00, 1.09kB/s]"
          }
        },
        "ca3460cd03304a8f9a64c7b2d443ce7a": {
          "model_module": "@jupyter-widgets/base",
          "model_name": "LayoutModel",
          "model_module_version": "1.2.0",
          "state": {
            "_model_module": "@jupyter-widgets/base",
            "_model_module_version": "1.2.0",
            "_model_name": "LayoutModel",
            "_view_count": null,
            "_view_module": "@jupyter-widgets/base",
            "_view_module_version": "1.2.0",
            "_view_name": "LayoutView",
            "align_content": null,
            "align_items": null,
            "align_self": null,
            "border": null,
            "bottom": null,
            "display": null,
            "flex": null,
            "flex_flow": null,
            "grid_area": null,
            "grid_auto_columns": null,
            "grid_auto_flow": null,
            "grid_auto_rows": null,
            "grid_column": null,
            "grid_gap": null,
            "grid_row": null,
            "grid_template_areas": null,
            "grid_template_columns": null,
            "grid_template_rows": null,
            "height": null,
            "justify_content": null,
            "justify_items": null,
            "left": null,
            "margin": null,
            "max_height": null,
            "max_width": null,
            "min_height": null,
            "min_width": null,
            "object_fit": null,
            "object_position": null,
            "order": null,
            "overflow": null,
            "overflow_x": null,
            "overflow_y": null,
            "padding": null,
            "right": null,
            "top": null,
            "visibility": null,
            "width": null
          }
        },
        "e5b768de637d43f284810ebec4ccf31e": {
          "model_module": "@jupyter-widgets/base",
          "model_name": "LayoutModel",
          "model_module_version": "1.2.0",
          "state": {
            "_model_module": "@jupyter-widgets/base",
            "_model_module_version": "1.2.0",
            "_model_name": "LayoutModel",
            "_view_count": null,
            "_view_module": "@jupyter-widgets/base",
            "_view_module_version": "1.2.0",
            "_view_name": "LayoutView",
            "align_content": null,
            "align_items": null,
            "align_self": null,
            "border": null,
            "bottom": null,
            "display": null,
            "flex": null,
            "flex_flow": null,
            "grid_area": null,
            "grid_auto_columns": null,
            "grid_auto_flow": null,
            "grid_auto_rows": null,
            "grid_column": null,
            "grid_gap": null,
            "grid_row": null,
            "grid_template_areas": null,
            "grid_template_columns": null,
            "grid_template_rows": null,
            "height": null,
            "justify_content": null,
            "justify_items": null,
            "left": null,
            "margin": null,
            "max_height": null,
            "max_width": null,
            "min_height": null,
            "min_width": null,
            "object_fit": null,
            "object_position": null,
            "order": null,
            "overflow": null,
            "overflow_x": null,
            "overflow_y": null,
            "padding": null,
            "right": null,
            "top": null,
            "visibility": null,
            "width": null
          }
        },
        "c55e45d4f0264a02abf2477997307227": {
          "model_module": "@jupyter-widgets/controls",
          "model_name": "DescriptionStyleModel",
          "model_module_version": "1.5.0",
          "state": {
            "_model_module": "@jupyter-widgets/controls",
            "_model_module_version": "1.5.0",
            "_model_name": "DescriptionStyleModel",
            "_view_count": null,
            "_view_module": "@jupyter-widgets/base",
            "_view_module_version": "1.2.0",
            "_view_name": "StyleView",
            "description_width": ""
          }
        },
        "d1857c2ab5e1465e941bb0abbfbcb772": {
          "model_module": "@jupyter-widgets/base",
          "model_name": "LayoutModel",
          "model_module_version": "1.2.0",
          "state": {
            "_model_module": "@jupyter-widgets/base",
            "_model_module_version": "1.2.0",
            "_model_name": "LayoutModel",
            "_view_count": null,
            "_view_module": "@jupyter-widgets/base",
            "_view_module_version": "1.2.0",
            "_view_name": "LayoutView",
            "align_content": null,
            "align_items": null,
            "align_self": null,
            "border": null,
            "bottom": null,
            "display": null,
            "flex": null,
            "flex_flow": null,
            "grid_area": null,
            "grid_auto_columns": null,
            "grid_auto_flow": null,
            "grid_auto_rows": null,
            "grid_column": null,
            "grid_gap": null,
            "grid_row": null,
            "grid_template_areas": null,
            "grid_template_columns": null,
            "grid_template_rows": null,
            "height": null,
            "justify_content": null,
            "justify_items": null,
            "left": null,
            "margin": null,
            "max_height": null,
            "max_width": null,
            "min_height": null,
            "min_width": null,
            "object_fit": null,
            "object_position": null,
            "order": null,
            "overflow": null,
            "overflow_x": null,
            "overflow_y": null,
            "padding": null,
            "right": null,
            "top": null,
            "visibility": null,
            "width": null
          }
        },
        "52ab1622648d44998dd8e3557feba0f5": {
          "model_module": "@jupyter-widgets/controls",
          "model_name": "ProgressStyleModel",
          "model_module_version": "1.5.0",
          "state": {
            "_model_module": "@jupyter-widgets/controls",
            "_model_module_version": "1.5.0",
            "_model_name": "ProgressStyleModel",
            "_view_count": null,
            "_view_module": "@jupyter-widgets/base",
            "_view_module_version": "1.2.0",
            "_view_name": "StyleView",
            "bar_color": null,
            "description_width": ""
          }
        },
        "b754d8c572e940499e52cdac1acee24b": {
          "model_module": "@jupyter-widgets/base",
          "model_name": "LayoutModel",
          "model_module_version": "1.2.0",
          "state": {
            "_model_module": "@jupyter-widgets/base",
            "_model_module_version": "1.2.0",
            "_model_name": "LayoutModel",
            "_view_count": null,
            "_view_module": "@jupyter-widgets/base",
            "_view_module_version": "1.2.0",
            "_view_name": "LayoutView",
            "align_content": null,
            "align_items": null,
            "align_self": null,
            "border": null,
            "bottom": null,
            "display": null,
            "flex": null,
            "flex_flow": null,
            "grid_area": null,
            "grid_auto_columns": null,
            "grid_auto_flow": null,
            "grid_auto_rows": null,
            "grid_column": null,
            "grid_gap": null,
            "grid_row": null,
            "grid_template_areas": null,
            "grid_template_columns": null,
            "grid_template_rows": null,
            "height": null,
            "justify_content": null,
            "justify_items": null,
            "left": null,
            "margin": null,
            "max_height": null,
            "max_width": null,
            "min_height": null,
            "min_width": null,
            "object_fit": null,
            "object_position": null,
            "order": null,
            "overflow": null,
            "overflow_x": null,
            "overflow_y": null,
            "padding": null,
            "right": null,
            "top": null,
            "visibility": null,
            "width": null
          }
        },
        "1046f8398d494d60a85b76cba8848fb0": {
          "model_module": "@jupyter-widgets/controls",
          "model_name": "DescriptionStyleModel",
          "model_module_version": "1.5.0",
          "state": {
            "_model_module": "@jupyter-widgets/controls",
            "_model_module_version": "1.5.0",
            "_model_name": "DescriptionStyleModel",
            "_view_count": null,
            "_view_module": "@jupyter-widgets/base",
            "_view_module_version": "1.2.0",
            "_view_name": "StyleView",
            "description_width": ""
          }
        },
        "7ac1e030a9b14e8ea650f4c1cc866f0f": {
          "model_module": "@jupyter-widgets/controls",
          "model_name": "HBoxModel",
          "model_module_version": "1.5.0",
          "state": {
            "_dom_classes": [],
            "_model_module": "@jupyter-widgets/controls",
            "_model_module_version": "1.5.0",
            "_model_name": "HBoxModel",
            "_view_count": null,
            "_view_module": "@jupyter-widgets/controls",
            "_view_module_version": "1.5.0",
            "_view_name": "HBoxView",
            "box_style": "",
            "children": [
              "IPY_MODEL_8b3ba0133b07402fbcd6b72774c521b7",
              "IPY_MODEL_bfe2d4f2d8964058b952e2c66c19e351",
              "IPY_MODEL_0dbca5096e2449a4abb8483630f48d27"
            ],
            "layout": "IPY_MODEL_2f78273a88cb47ec9e2455c3394e3d56"
          }
        },
        "8b3ba0133b07402fbcd6b72774c521b7": {
          "model_module": "@jupyter-widgets/controls",
          "model_name": "HTMLModel",
          "model_module_version": "1.5.0",
          "state": {
            "_dom_classes": [],
            "_model_module": "@jupyter-widgets/controls",
            "_model_module_version": "1.5.0",
            "_model_name": "HTMLModel",
            "_view_count": null,
            "_view_module": "@jupyter-widgets/controls",
            "_view_module_version": "1.5.0",
            "_view_name": "HTMLView",
            "description": "",
            "description_tooltip": null,
            "layout": "IPY_MODEL_16dad53d75b44528a34187320c12bf51",
            "placeholder": "​",
            "style": "IPY_MODEL_25aec4b14f4b4368bc94e268b19f7b64",
            "value": "Downloading (…)lve/main/config.json: 100%"
          }
        },
        "bfe2d4f2d8964058b952e2c66c19e351": {
          "model_module": "@jupyter-widgets/controls",
          "model_name": "FloatProgressModel",
          "model_module_version": "1.5.0",
          "state": {
            "_dom_classes": [],
            "_model_module": "@jupyter-widgets/controls",
            "_model_module_version": "1.5.0",
            "_model_name": "FloatProgressModel",
            "_view_count": null,
            "_view_module": "@jupyter-widgets/controls",
            "_view_module_version": "1.5.0",
            "_view_name": "ProgressView",
            "bar_style": "success",
            "description": "",
            "description_tooltip": null,
            "layout": "IPY_MODEL_edf6adb3fad642f0a33a645ee231a9b5",
            "max": 570,
            "min": 0,
            "orientation": "horizontal",
            "style": "IPY_MODEL_c0cdab83cc8a4379af37858b857655b6",
            "value": 570
          }
        },
        "0dbca5096e2449a4abb8483630f48d27": {
          "model_module": "@jupyter-widgets/controls",
          "model_name": "HTMLModel",
          "model_module_version": "1.5.0",
          "state": {
            "_dom_classes": [],
            "_model_module": "@jupyter-widgets/controls",
            "_model_module_version": "1.5.0",
            "_model_name": "HTMLModel",
            "_view_count": null,
            "_view_module": "@jupyter-widgets/controls",
            "_view_module_version": "1.5.0",
            "_view_name": "HTMLView",
            "description": "",
            "description_tooltip": null,
            "layout": "IPY_MODEL_8a579e4b581f40d2bf537283691e1773",
            "placeholder": "​",
            "style": "IPY_MODEL_8c6724880d7c4ee7a2dfada56ccb5c5b",
            "value": " 570/570 [00:00&lt;00:00, 25.0kB/s]"
          }
        },
        "2f78273a88cb47ec9e2455c3394e3d56": {
          "model_module": "@jupyter-widgets/base",
          "model_name": "LayoutModel",
          "model_module_version": "1.2.0",
          "state": {
            "_model_module": "@jupyter-widgets/base",
            "_model_module_version": "1.2.0",
            "_model_name": "LayoutModel",
            "_view_count": null,
            "_view_module": "@jupyter-widgets/base",
            "_view_module_version": "1.2.0",
            "_view_name": "LayoutView",
            "align_content": null,
            "align_items": null,
            "align_self": null,
            "border": null,
            "bottom": null,
            "display": null,
            "flex": null,
            "flex_flow": null,
            "grid_area": null,
            "grid_auto_columns": null,
            "grid_auto_flow": null,
            "grid_auto_rows": null,
            "grid_column": null,
            "grid_gap": null,
            "grid_row": null,
            "grid_template_areas": null,
            "grid_template_columns": null,
            "grid_template_rows": null,
            "height": null,
            "justify_content": null,
            "justify_items": null,
            "left": null,
            "margin": null,
            "max_height": null,
            "max_width": null,
            "min_height": null,
            "min_width": null,
            "object_fit": null,
            "object_position": null,
            "order": null,
            "overflow": null,
            "overflow_x": null,
            "overflow_y": null,
            "padding": null,
            "right": null,
            "top": null,
            "visibility": null,
            "width": null
          }
        },
        "16dad53d75b44528a34187320c12bf51": {
          "model_module": "@jupyter-widgets/base",
          "model_name": "LayoutModel",
          "model_module_version": "1.2.0",
          "state": {
            "_model_module": "@jupyter-widgets/base",
            "_model_module_version": "1.2.0",
            "_model_name": "LayoutModel",
            "_view_count": null,
            "_view_module": "@jupyter-widgets/base",
            "_view_module_version": "1.2.0",
            "_view_name": "LayoutView",
            "align_content": null,
            "align_items": null,
            "align_self": null,
            "border": null,
            "bottom": null,
            "display": null,
            "flex": null,
            "flex_flow": null,
            "grid_area": null,
            "grid_auto_columns": null,
            "grid_auto_flow": null,
            "grid_auto_rows": null,
            "grid_column": null,
            "grid_gap": null,
            "grid_row": null,
            "grid_template_areas": null,
            "grid_template_columns": null,
            "grid_template_rows": null,
            "height": null,
            "justify_content": null,
            "justify_items": null,
            "left": null,
            "margin": null,
            "max_height": null,
            "max_width": null,
            "min_height": null,
            "min_width": null,
            "object_fit": null,
            "object_position": null,
            "order": null,
            "overflow": null,
            "overflow_x": null,
            "overflow_y": null,
            "padding": null,
            "right": null,
            "top": null,
            "visibility": null,
            "width": null
          }
        },
        "25aec4b14f4b4368bc94e268b19f7b64": {
          "model_module": "@jupyter-widgets/controls",
          "model_name": "DescriptionStyleModel",
          "model_module_version": "1.5.0",
          "state": {
            "_model_module": "@jupyter-widgets/controls",
            "_model_module_version": "1.5.0",
            "_model_name": "DescriptionStyleModel",
            "_view_count": null,
            "_view_module": "@jupyter-widgets/base",
            "_view_module_version": "1.2.0",
            "_view_name": "StyleView",
            "description_width": ""
          }
        },
        "edf6adb3fad642f0a33a645ee231a9b5": {
          "model_module": "@jupyter-widgets/base",
          "model_name": "LayoutModel",
          "model_module_version": "1.2.0",
          "state": {
            "_model_module": "@jupyter-widgets/base",
            "_model_module_version": "1.2.0",
            "_model_name": "LayoutModel",
            "_view_count": null,
            "_view_module": "@jupyter-widgets/base",
            "_view_module_version": "1.2.0",
            "_view_name": "LayoutView",
            "align_content": null,
            "align_items": null,
            "align_self": null,
            "border": null,
            "bottom": null,
            "display": null,
            "flex": null,
            "flex_flow": null,
            "grid_area": null,
            "grid_auto_columns": null,
            "grid_auto_flow": null,
            "grid_auto_rows": null,
            "grid_column": null,
            "grid_gap": null,
            "grid_row": null,
            "grid_template_areas": null,
            "grid_template_columns": null,
            "grid_template_rows": null,
            "height": null,
            "justify_content": null,
            "justify_items": null,
            "left": null,
            "margin": null,
            "max_height": null,
            "max_width": null,
            "min_height": null,
            "min_width": null,
            "object_fit": null,
            "object_position": null,
            "order": null,
            "overflow": null,
            "overflow_x": null,
            "overflow_y": null,
            "padding": null,
            "right": null,
            "top": null,
            "visibility": null,
            "width": null
          }
        },
        "c0cdab83cc8a4379af37858b857655b6": {
          "model_module": "@jupyter-widgets/controls",
          "model_name": "ProgressStyleModel",
          "model_module_version": "1.5.0",
          "state": {
            "_model_module": "@jupyter-widgets/controls",
            "_model_module_version": "1.5.0",
            "_model_name": "ProgressStyleModel",
            "_view_count": null,
            "_view_module": "@jupyter-widgets/base",
            "_view_module_version": "1.2.0",
            "_view_name": "StyleView",
            "bar_color": null,
            "description_width": ""
          }
        },
        "8a579e4b581f40d2bf537283691e1773": {
          "model_module": "@jupyter-widgets/base",
          "model_name": "LayoutModel",
          "model_module_version": "1.2.0",
          "state": {
            "_model_module": "@jupyter-widgets/base",
            "_model_module_version": "1.2.0",
            "_model_name": "LayoutModel",
            "_view_count": null,
            "_view_module": "@jupyter-widgets/base",
            "_view_module_version": "1.2.0",
            "_view_name": "LayoutView",
            "align_content": null,
            "align_items": null,
            "align_self": null,
            "border": null,
            "bottom": null,
            "display": null,
            "flex": null,
            "flex_flow": null,
            "grid_area": null,
            "grid_auto_columns": null,
            "grid_auto_flow": null,
            "grid_auto_rows": null,
            "grid_column": null,
            "grid_gap": null,
            "grid_row": null,
            "grid_template_areas": null,
            "grid_template_columns": null,
            "grid_template_rows": null,
            "height": null,
            "justify_content": null,
            "justify_items": null,
            "left": null,
            "margin": null,
            "max_height": null,
            "max_width": null,
            "min_height": null,
            "min_width": null,
            "object_fit": null,
            "object_position": null,
            "order": null,
            "overflow": null,
            "overflow_x": null,
            "overflow_y": null,
            "padding": null,
            "right": null,
            "top": null,
            "visibility": null,
            "width": null
          }
        },
        "8c6724880d7c4ee7a2dfada56ccb5c5b": {
          "model_module": "@jupyter-widgets/controls",
          "model_name": "DescriptionStyleModel",
          "model_module_version": "1.5.0",
          "state": {
            "_model_module": "@jupyter-widgets/controls",
            "_model_module_version": "1.5.0",
            "_model_name": "DescriptionStyleModel",
            "_view_count": null,
            "_view_module": "@jupyter-widgets/base",
            "_view_module_version": "1.2.0",
            "_view_name": "StyleView",
            "description_width": ""
          }
        },
        "237ee03007f9485699b664d4b4e5f2a8": {
          "model_module": "@jupyter-widgets/controls",
          "model_name": "HBoxModel",
          "model_module_version": "1.5.0",
          "state": {
            "_dom_classes": [],
            "_model_module": "@jupyter-widgets/controls",
            "_model_module_version": "1.5.0",
            "_model_name": "HBoxModel",
            "_view_count": null,
            "_view_module": "@jupyter-widgets/controls",
            "_view_module_version": "1.5.0",
            "_view_name": "HBoxView",
            "box_style": "",
            "children": [
              "IPY_MODEL_44cc04122111416abbfcd63013ea16c2",
              "IPY_MODEL_48ce2188dd6346bf97d27d2b7dffa777",
              "IPY_MODEL_11fecaa4bd68494dbb1fb44521514199"
            ],
            "layout": "IPY_MODEL_b24f099aaaef42b0ab5d9bf30e83dd68"
          }
        },
        "44cc04122111416abbfcd63013ea16c2": {
          "model_module": "@jupyter-widgets/controls",
          "model_name": "HTMLModel",
          "model_module_version": "1.5.0",
          "state": {
            "_dom_classes": [],
            "_model_module": "@jupyter-widgets/controls",
            "_model_module_version": "1.5.0",
            "_model_name": "HTMLModel",
            "_view_count": null,
            "_view_module": "@jupyter-widgets/controls",
            "_view_module_version": "1.5.0",
            "_view_name": "HTMLView",
            "description": "",
            "description_tooltip": null,
            "layout": "IPY_MODEL_31a95509e67b4f9a9445b1a4cbd7b811",
            "placeholder": "​",
            "style": "IPY_MODEL_970400e1f0d24f88ac9ac7d0ddd97009",
            "value": "Downloading pytorch_model.bin: 100%"
          }
        },
        "48ce2188dd6346bf97d27d2b7dffa777": {
          "model_module": "@jupyter-widgets/controls",
          "model_name": "FloatProgressModel",
          "model_module_version": "1.5.0",
          "state": {
            "_dom_classes": [],
            "_model_module": "@jupyter-widgets/controls",
            "_model_module_version": "1.5.0",
            "_model_name": "FloatProgressModel",
            "_view_count": null,
            "_view_module": "@jupyter-widgets/controls",
            "_view_module_version": "1.5.0",
            "_view_name": "ProgressView",
            "bar_style": "success",
            "description": "",
            "description_tooltip": null,
            "layout": "IPY_MODEL_f208730614f04e7fb0d9bbab654604ac",
            "max": 435779157,
            "min": 0,
            "orientation": "horizontal",
            "style": "IPY_MODEL_860881c210aa453d8028444468a7933a",
            "value": 435779157
          }
        },
        "11fecaa4bd68494dbb1fb44521514199": {
          "model_module": "@jupyter-widgets/controls",
          "model_name": "HTMLModel",
          "model_module_version": "1.5.0",
          "state": {
            "_dom_classes": [],
            "_model_module": "@jupyter-widgets/controls",
            "_model_module_version": "1.5.0",
            "_model_name": "HTMLModel",
            "_view_count": null,
            "_view_module": "@jupyter-widgets/controls",
            "_view_module_version": "1.5.0",
            "_view_name": "HTMLView",
            "description": "",
            "description_tooltip": null,
            "layout": "IPY_MODEL_90b382c673194cfb921c8c7bb03cfbd2",
            "placeholder": "​",
            "style": "IPY_MODEL_c12be4ef933c4ca0b1e664e99610f54f",
            "value": " 436M/436M [00:03&lt;00:00, 135MB/s]"
          }
        },
        "b24f099aaaef42b0ab5d9bf30e83dd68": {
          "model_module": "@jupyter-widgets/base",
          "model_name": "LayoutModel",
          "model_module_version": "1.2.0",
          "state": {
            "_model_module": "@jupyter-widgets/base",
            "_model_module_version": "1.2.0",
            "_model_name": "LayoutModel",
            "_view_count": null,
            "_view_module": "@jupyter-widgets/base",
            "_view_module_version": "1.2.0",
            "_view_name": "LayoutView",
            "align_content": null,
            "align_items": null,
            "align_self": null,
            "border": null,
            "bottom": null,
            "display": null,
            "flex": null,
            "flex_flow": null,
            "grid_area": null,
            "grid_auto_columns": null,
            "grid_auto_flow": null,
            "grid_auto_rows": null,
            "grid_column": null,
            "grid_gap": null,
            "grid_row": null,
            "grid_template_areas": null,
            "grid_template_columns": null,
            "grid_template_rows": null,
            "height": null,
            "justify_content": null,
            "justify_items": null,
            "left": null,
            "margin": null,
            "max_height": null,
            "max_width": null,
            "min_height": null,
            "min_width": null,
            "object_fit": null,
            "object_position": null,
            "order": null,
            "overflow": null,
            "overflow_x": null,
            "overflow_y": null,
            "padding": null,
            "right": null,
            "top": null,
            "visibility": null,
            "width": null
          }
        },
        "31a95509e67b4f9a9445b1a4cbd7b811": {
          "model_module": "@jupyter-widgets/base",
          "model_name": "LayoutModel",
          "model_module_version": "1.2.0",
          "state": {
            "_model_module": "@jupyter-widgets/base",
            "_model_module_version": "1.2.0",
            "_model_name": "LayoutModel",
            "_view_count": null,
            "_view_module": "@jupyter-widgets/base",
            "_view_module_version": "1.2.0",
            "_view_name": "LayoutView",
            "align_content": null,
            "align_items": null,
            "align_self": null,
            "border": null,
            "bottom": null,
            "display": null,
            "flex": null,
            "flex_flow": null,
            "grid_area": null,
            "grid_auto_columns": null,
            "grid_auto_flow": null,
            "grid_auto_rows": null,
            "grid_column": null,
            "grid_gap": null,
            "grid_row": null,
            "grid_template_areas": null,
            "grid_template_columns": null,
            "grid_template_rows": null,
            "height": null,
            "justify_content": null,
            "justify_items": null,
            "left": null,
            "margin": null,
            "max_height": null,
            "max_width": null,
            "min_height": null,
            "min_width": null,
            "object_fit": null,
            "object_position": null,
            "order": null,
            "overflow": null,
            "overflow_x": null,
            "overflow_y": null,
            "padding": null,
            "right": null,
            "top": null,
            "visibility": null,
            "width": null
          }
        },
        "970400e1f0d24f88ac9ac7d0ddd97009": {
          "model_module": "@jupyter-widgets/controls",
          "model_name": "DescriptionStyleModel",
          "model_module_version": "1.5.0",
          "state": {
            "_model_module": "@jupyter-widgets/controls",
            "_model_module_version": "1.5.0",
            "_model_name": "DescriptionStyleModel",
            "_view_count": null,
            "_view_module": "@jupyter-widgets/base",
            "_view_module_version": "1.2.0",
            "_view_name": "StyleView",
            "description_width": ""
          }
        },
        "f208730614f04e7fb0d9bbab654604ac": {
          "model_module": "@jupyter-widgets/base",
          "model_name": "LayoutModel",
          "model_module_version": "1.2.0",
          "state": {
            "_model_module": "@jupyter-widgets/base",
            "_model_module_version": "1.2.0",
            "_model_name": "LayoutModel",
            "_view_count": null,
            "_view_module": "@jupyter-widgets/base",
            "_view_module_version": "1.2.0",
            "_view_name": "LayoutView",
            "align_content": null,
            "align_items": null,
            "align_self": null,
            "border": null,
            "bottom": null,
            "display": null,
            "flex": null,
            "flex_flow": null,
            "grid_area": null,
            "grid_auto_columns": null,
            "grid_auto_flow": null,
            "grid_auto_rows": null,
            "grid_column": null,
            "grid_gap": null,
            "grid_row": null,
            "grid_template_areas": null,
            "grid_template_columns": null,
            "grid_template_rows": null,
            "height": null,
            "justify_content": null,
            "justify_items": null,
            "left": null,
            "margin": null,
            "max_height": null,
            "max_width": null,
            "min_height": null,
            "min_width": null,
            "object_fit": null,
            "object_position": null,
            "order": null,
            "overflow": null,
            "overflow_x": null,
            "overflow_y": null,
            "padding": null,
            "right": null,
            "top": null,
            "visibility": null,
            "width": null
          }
        },
        "860881c210aa453d8028444468a7933a": {
          "model_module": "@jupyter-widgets/controls",
          "model_name": "ProgressStyleModel",
          "model_module_version": "1.5.0",
          "state": {
            "_model_module": "@jupyter-widgets/controls",
            "_model_module_version": "1.5.0",
            "_model_name": "ProgressStyleModel",
            "_view_count": null,
            "_view_module": "@jupyter-widgets/base",
            "_view_module_version": "1.2.0",
            "_view_name": "StyleView",
            "bar_color": null,
            "description_width": ""
          }
        },
        "90b382c673194cfb921c8c7bb03cfbd2": {
          "model_module": "@jupyter-widgets/base",
          "model_name": "LayoutModel",
          "model_module_version": "1.2.0",
          "state": {
            "_model_module": "@jupyter-widgets/base",
            "_model_module_version": "1.2.0",
            "_model_name": "LayoutModel",
            "_view_count": null,
            "_view_module": "@jupyter-widgets/base",
            "_view_module_version": "1.2.0",
            "_view_name": "LayoutView",
            "align_content": null,
            "align_items": null,
            "align_self": null,
            "border": null,
            "bottom": null,
            "display": null,
            "flex": null,
            "flex_flow": null,
            "grid_area": null,
            "grid_auto_columns": null,
            "grid_auto_flow": null,
            "grid_auto_rows": null,
            "grid_column": null,
            "grid_gap": null,
            "grid_row": null,
            "grid_template_areas": null,
            "grid_template_columns": null,
            "grid_template_rows": null,
            "height": null,
            "justify_content": null,
            "justify_items": null,
            "left": null,
            "margin": null,
            "max_height": null,
            "max_width": null,
            "min_height": null,
            "min_width": null,
            "object_fit": null,
            "object_position": null,
            "order": null,
            "overflow": null,
            "overflow_x": null,
            "overflow_y": null,
            "padding": null,
            "right": null,
            "top": null,
            "visibility": null,
            "width": null
          }
        },
        "c12be4ef933c4ca0b1e664e99610f54f": {
          "model_module": "@jupyter-widgets/controls",
          "model_name": "DescriptionStyleModel",
          "model_module_version": "1.5.0",
          "state": {
            "_model_module": "@jupyter-widgets/controls",
            "_model_module_version": "1.5.0",
            "_model_name": "DescriptionStyleModel",
            "_view_count": null,
            "_view_module": "@jupyter-widgets/base",
            "_view_module_version": "1.2.0",
            "_view_name": "StyleView",
            "description_width": ""
          }
        }
      }
    }
  },
  "cells": [
    {
      "cell_type": "markdown",
      "source": [
        "# Word embeddings"
      ],
      "metadata": {
        "id": "RWD-YEKTFZVT"
      }
    },
    {
      "cell_type": "markdown",
      "source": [
        "### Resources\n",
        "\n",
        "- Word2vec (Mikolov et al., 2013): https://code.google.com/archive/p/word2vec/\n",
        "- Fasttext: http://www.fasttext.cc/ (+sub-word information, +multilingual)\n",
        "- Glove (Pennington, Socher, Manning, 2014): http://nlp.stanford.edu/projects/glove/\n",
        "\n",
        "\n",
        "\n",
        "Gensim documentation: https://radimrehurek.com/gensim/models/word2vec.html#gensim.models.word2vec.Word2Vec\n",
        "\n",
        "Embeddings visualizer: https://projector.tensorflow.org/\n"
      ],
      "metadata": {
        "id": "0Oi2DL5bUFWE"
      }
    },
    {
      "cell_type": "markdown",
      "source": [
        "## Loading and using word embeddings"
      ],
      "metadata": {
        "id": "95_40GnjUOgX"
      }
    },
    {
      "cell_type": "code",
      "source": [
        "import gensim\n"
      ],
      "metadata": {
        "id": "gvax3VPDoiFZ"
      },
      "execution_count": null,
      "outputs": []
    },
    {
      "cell_type": "code",
      "execution_count": null,
      "metadata": {
        "id": "cS7UF5qBZ9qR",
        "colab": {
          "base_uri": "https://localhost:8080/"
        },
        "outputId": "366ffd8b-c031-433e-e90f-51f1ae7361b7"
      },
      "outputs": [
        {
          "output_type": "stream",
          "name": "stdout",
          "text": [
            "['fasttext-wiki-news-subwords-300', 'conceptnet-numberbatch-17-06-300', 'word2vec-ruscorpora-300', 'word2vec-google-news-300', 'glove-wiki-gigaword-50', 'glove-wiki-gigaword-100', 'glove-wiki-gigaword-200', 'glove-wiki-gigaword-300', 'glove-twitter-25', 'glove-twitter-50', 'glove-twitter-100', 'glove-twitter-200', '__testing_word2vec-matrix-synopsis']\n"
          ]
        }
      ],
      "source": [
        "# Show all available models in gensim-data\n",
        "import gensim.downloader\n",
        "print(list(gensim.downloader.info()['models'].keys()))"
      ]
    },
    {
      "cell_type": "code",
      "source": [
        "# Download the \"GloVe 25\" embeddings\n",
        "embeddings_twitter = gensim.downloader.load('glove-twitter-200')\n",
        "embeddings = gensim.downloader.load('fasttext-wiki-news-subwords-300')"
      ],
      "metadata": {
        "id": "I1bVWes-ogo1",
        "colab": {
          "base_uri": "https://localhost:8080/"
        },
        "outputId": "97c9cf18-c49c-4210-ff41-a888b4ad6167"
      },
      "execution_count": null,
      "outputs": [
        {
          "output_type": "stream",
          "name": "stdout",
          "text": [
            "[==================================================] 100.0% 758.5/758.5MB downloaded\n",
            "[==================================================] 100.0% 958.5/958.4MB downloaded\n"
          ]
        }
      ]
    },
    {
      "cell_type": "code",
      "source": [
        "# embeddings = gensim.downloader.load('fasttext-wiki-news-subwords-300')"
      ],
      "metadata": {
        "id": "NMZ9on80pA4w"
      },
      "execution_count": null,
      "outputs": []
    },
    {
      "cell_type": "code",
      "source": [
        "print(len(embeddings.index_to_key))\n",
        "print(len(embeddings_twitter.index_to_key))"
      ],
      "metadata": {
        "colab": {
          "base_uri": "https://localhost:8080/"
        },
        "id": "PsZXM3PmpGk5",
        "outputId": "1478f72d-2789-4664-9408-3f8526b0f5d7"
      },
      "execution_count": null,
      "outputs": [
        {
          "output_type": "stream",
          "name": "stdout",
          "text": [
            "999999\n",
            "1193514\n"
          ]
        }
      ]
    },
    {
      "cell_type": "code",
      "source": [
        "embeddings.get_vector('cat')"
      ],
      "metadata": {
        "colab": {
          "base_uri": "https://localhost:8080/"
        },
        "id": "NqB8mnkVg4ww",
        "outputId": "b153b026-2d0b-463a-f140-5d2ca020ce15"
      },
      "execution_count": null,
      "outputs": [
        {
          "output_type": "execute_result",
          "data": {
            "text/plain": [
              "array([ 4.7426e-02, -4.2203e-02,  2.8491e-02, -4.4481e-02, -2.6467e-02,\n",
              "        3.3557e-02,  1.7173e-01, -1.4773e-01,  7.1133e-02,  3.8385e-02,\n",
              "       -7.9921e-02, -1.3236e-03,  1.6185e-01, -1.6389e-01, -6.5456e-02,\n",
              "        2.7030e-02,  1.2193e-01, -7.1632e-02,  7.9642e-02, -1.4602e-01,\n",
              "        1.0369e-02, -1.0468e-01,  3.6734e-02,  7.9116e-02,  1.8241e-01,\n",
              "       -2.4902e-03,  1.3818e-02,  1.2378e-01,  1.7348e-04,  1.6646e-02,\n",
              "       -1.3513e-02, -7.5532e-02,  1.0060e-01,  7.1226e-02, -2.7468e-02,\n",
              "       -7.8517e-02,  3.3769e-02, -1.6082e-01, -2.2747e-02, -1.3238e-01,\n",
              "        1.1198e-02, -1.2838e-01, -5.8910e-02, -5.1399e-02,  3.9177e-02,\n",
              "        5.8243e-02,  2.2071e-02,  7.1876e-02,  2.8166e-02, -1.8918e-02,\n",
              "        3.4445e-02,  1.5664e-01,  6.9836e-02, -2.0858e-01,  2.4413e-03,\n",
              "       -8.9110e-02, -6.0705e-02,  6.5106e-02, -8.3036e-02,  1.7491e-02,\n",
              "       -3.4527e-02, -2.5026e-01,  1.8777e-01, -3.6235e-02,  1.2452e-01,\n",
              "        2.4356e-02, -4.4517e-03,  5.5572e-02, -8.6161e-03, -1.6188e-01,\n",
              "        1.8468e-02,  3.3442e-02,  6.2601e-02, -6.4390e-02,  4.9347e-02,\n",
              "        4.0229e-02, -1.0841e-01, -7.1824e-02,  2.8520e-03, -2.3045e-02,\n",
              "        4.4209e-02, -7.7235e-02,  1.1654e-01,  7.0451e-02,  6.8801e-02,\n",
              "       -1.5605e-01, -6.6329e-02,  2.5411e-02,  1.8099e-01,  1.8025e-02,\n",
              "       -1.3115e-02,  3.9657e-02, -1.4402e-01, -3.2715e-02,  1.5651e-01,\n",
              "        1.9193e-01,  5.5521e-02,  8.3402e-02,  3.1470e-02,  3.8014e-02,\n",
              "        7.7720e-02,  2.3055e-02,  1.3798e-02,  2.9269e-02, -4.0150e-02,\n",
              "       -2.2689e-01, -1.0853e-01,  4.8246e-02, -1.1478e-02, -3.3596e-02,\n",
              "       -2.2763e-02,  4.4926e-02,  4.3869e-02, -2.2687e-02, -5.7857e-02,\n",
              "       -9.0331e-02,  4.0408e-02,  2.3637e-02, -4.9092e-02,  7.6129e-02,\n",
              "       -5.6087e-02,  1.3707e-01,  6.7951e-03, -9.9982e-02,  1.1920e-01,\n",
              "        1.2967e-01, -1.1956e-02, -1.6192e-01, -1.1653e-01,  8.6265e-02,\n",
              "       -4.6044e-02, -4.1525e-02, -5.4869e-02,  1.3872e-01, -5.8306e-02,\n",
              "       -1.0037e-03, -4.7553e-02,  9.7019e-02,  6.6086e-02, -4.2082e-02,\n",
              "       -1.4740e-02,  7.6810e-02,  6.4693e-02, -5.0720e-02, -3.4010e-02,\n",
              "       -1.8386e-01,  6.8373e-03, -8.1774e-02, -2.5614e-02, -8.7315e-02,\n",
              "       -2.2828e-02,  8.1626e-02,  2.9836e-02, -2.3802e-02, -7.9236e-02,\n",
              "       -6.1760e-02, -7.5404e-02, -8.7516e-02, -1.0102e-01, -3.1656e-02,\n",
              "       -2.2954e-02,  4.2454e-02, -5.7946e-02,  9.3254e-02, -6.7006e-04,\n",
              "       -4.3120e-02,  2.5232e-03,  3.4711e-02, -9.8615e-02, -6.0120e-02,\n",
              "       -6.7252e-02,  1.1061e-01, -1.2473e-01,  1.0016e-01, -6.0412e-02,\n",
              "        1.3936e-01, -3.7146e-03,  4.3347e-02,  2.1273e-02,  4.6771e-03,\n",
              "        9.4169e-02, -1.5631e-01,  2.0714e-02, -1.3038e-01,  1.0644e-02,\n",
              "       -1.0240e-01,  1.8860e-02,  1.4838e-01, -2.6096e-02, -1.9504e-01,\n",
              "       -1.0817e-01,  4.9979e-02, -3.9784e-02, -7.4161e-02, -7.7483e-03,\n",
              "        1.3766e-01, -4.5317e-02,  1.3089e-01, -1.0939e-02,  6.2601e-02,\n",
              "       -1.9160e-01,  1.5974e-01, -2.2695e-02, -3.6044e-02,  8.5172e-03,\n",
              "       -5.9913e-02,  2.5738e-02, -1.4296e-02, -1.0799e-01, -8.0345e-02,\n",
              "        2.3639e-01, -7.1429e-02, -3.1922e-02, -4.9206e-02, -1.4092e-02,\n",
              "        5.2687e-02,  4.9890e-02, -8.2620e-02,  7.4192e-02,  4.9126e-02,\n",
              "        9.6644e-03,  6.2958e-02, -4.6600e-02,  1.3632e-01,  3.2190e-02,\n",
              "        1.1145e-01, -6.8493e-02,  1.1836e-01,  9.7115e-02, -5.9462e-03,\n",
              "       -3.9682e-02, -1.1015e-01, -8.3191e-02, -6.9569e-02,  1.7800e-02,\n",
              "       -7.3179e-02,  1.4049e-01,  3.6892e-03, -5.4191e-02, -2.3150e-02,\n",
              "        8.9252e-02, -5.5929e-04,  2.0313e-02, -1.3092e-02,  3.9476e-02,\n",
              "        2.0953e-01,  4.4137e-02,  5.8339e-02, -8.8616e-02, -7.2534e-02,\n",
              "        5.6144e-04, -1.2490e-01, -5.5088e-02,  8.0493e-02,  7.3815e-02,\n",
              "       -7.2982e-02,  7.6267e-02, -6.0362e-02,  4.7157e-02,  1.1720e-01,\n",
              "       -3.5231e-02, -8.4633e-02,  8.5297e-02, -8.7477e-02, -2.9710e-02,\n",
              "       -4.2450e-02, -8.1470e-03,  1.4035e-02,  9.5844e-02,  2.5391e-02,\n",
              "       -1.6090e-01,  1.4980e-01, -1.5577e-01, -5.9259e-02,  6.8384e-02,\n",
              "       -2.2155e-02,  3.9042e-02, -1.1343e-01,  8.8454e-03, -1.2065e-02,\n",
              "        1.2282e-01,  1.6502e-02,  1.0734e-01, -2.6010e-02, -2.9067e-02,\n",
              "        7.2578e-02, -6.0300e-02, -5.0048e-02, -7.1067e-04,  2.6096e-02,\n",
              "        3.7569e-02,  2.2775e-02, -1.8111e-01, -1.2339e-01,  3.6638e-02,\n",
              "        8.9385e-02,  3.8261e-02,  1.7148e-01,  1.4416e-02,  1.3847e-01],\n",
              "      dtype=float32)"
            ]
          },
          "metadata": {},
          "execution_count": 6
        }
      ]
    },
    {
      "cell_type": "code",
      "source": [
        "embeddings.most_similar('cat')"
      ],
      "metadata": {
        "colab": {
          "base_uri": "https://localhost:8080/"
        },
        "id": "IMCBJgyJDYQi",
        "outputId": "d6847eae-e77f-49df-fe8f-82854de3d7d7"
      },
      "execution_count": null,
      "outputs": [
        {
          "output_type": "execute_result",
          "data": {
            "text/plain": [
              "[('cats', 0.8368596434593201),\n",
              " ('housecat', 0.767471194267273),\n",
              " ('-cat', 0.7602992057800293),\n",
              " ('dog', 0.7502298951148987),\n",
              " ('kitten', 0.7480817437171936),\n",
              " ('feline', 0.7353992462158203),\n",
              " ('super-cat', 0.7305206060409546),\n",
              " ('supercat', 0.7163284420967102),\n",
              " ('pet', 0.7090284824371338),\n",
              " ('moggy', 0.7057286500930786)]"
            ]
          },
          "metadata": {},
          "execution_count": 7
        }
      ]
    },
    {
      "cell_type": "code",
      "source": [
        "embeddings_twitter.most_similar('cat')"
      ],
      "metadata": {
        "colab": {
          "base_uri": "https://localhost:8080/"
        },
        "id": "Y8IDXZlgDcwH",
        "outputId": "d921a1fc-ec00-4c0a-953d-d7b0efe01531"
      },
      "execution_count": null,
      "outputs": [
        {
          "output_type": "execute_result",
          "data": {
            "text/plain": [
              "[('dog', 0.8324302434921265),\n",
              " ('cats', 0.7685185074806213),\n",
              " ('kitty', 0.750445544719696),\n",
              " ('kitten', 0.7489697933197021),\n",
              " ('pet', 0.7319862842559814),\n",
              " ('puppy', 0.7023192644119263),\n",
              " ('dogs', 0.7016381621360779),\n",
              " ('animal', 0.6421106457710266),\n",
              " ('bear', 0.6309184432029724),\n",
              " ('meow', 0.6304775476455688)]"
            ]
          },
          "metadata": {},
          "execution_count": 8
        }
      ]
    },
    {
      "cell_type": "code",
      "source": [
        "from sklearn.metrics.pairwise import cosine_similarity\n",
        "cosine_similarity(\n",
        "    embeddings.get_vector('cat').reshape(1,-1),\n",
        "    embeddings.get_vector('kitten').reshape(1,-1)\n",
        "    )[0][0]"
      ],
      "metadata": {
        "colab": {
          "base_uri": "https://localhost:8080/"
        },
        "id": "QQzhs_7sg-Cn",
        "outputId": "50dc3290-b747-4d00-a3a1-82c898ce907a"
      },
      "execution_count": null,
      "outputs": [
        {
          "output_type": "execute_result",
          "data": {
            "text/plain": [
              "0.7480817"
            ]
          },
          "metadata": {},
          "execution_count": 9
        }
      ]
    },
    {
      "cell_type": "code",
      "source": [
        "import numpy as np"
      ],
      "metadata": {
        "id": "_EldfvfGZeD8"
      },
      "execution_count": null,
      "outputs": []
    },
    {
      "cell_type": "code",
      "source": [
        "exar = np.array([1,2,3,4])\n",
        "exar.reshape(-1, 1)\n",
        "# Documentation: https://numpy.org/doc/stable/reference/generated/numpy.reshape.html"
      ],
      "metadata": {
        "colab": {
          "base_uri": "https://localhost:8080/"
        },
        "id": "GXmB47PpZf_l",
        "outputId": "85d8e466-16de-449d-98c4-ab6ed2ba88aa"
      },
      "execution_count": null,
      "outputs": [
        {
          "output_type": "execute_result",
          "data": {
            "text/plain": [
              "array([[1],\n",
              "       [2],\n",
              "       [3],\n",
              "       [4]])"
            ]
          },
          "metadata": {},
          "execution_count": 11
        }
      ]
    },
    {
      "cell_type": "code",
      "source": [
        "exar.reshape??"
      ],
      "metadata": {
        "id": "WW1i_3IxZkYL"
      },
      "execution_count": null,
      "outputs": []
    },
    {
      "cell_type": "code",
      "source": [
        "embeddings.similarity('cat', 'kitten')"
      ],
      "metadata": {
        "colab": {
          "base_uri": "https://localhost:8080/"
        },
        "id": "urAcLbyz7SZ4",
        "outputId": "0ca540c3-86d4-4fbc-aec3-efc525b39d65"
      },
      "execution_count": null,
      "outputs": [
        {
          "output_type": "execute_result",
          "data": {
            "text/plain": [
              "0.74808174"
            ]
          },
          "metadata": {},
          "execution_count": 13
        }
      ]
    },
    {
      "cell_type": "code",
      "source": [
        "embeddings.similarity('cat', 'puppy')"
      ],
      "metadata": {
        "colab": {
          "base_uri": "https://localhost:8080/"
        },
        "id": "w8Ezm0n9MlvV",
        "outputId": "4a53742f-c45d-48e6-e058-a1b206aba99a"
      },
      "execution_count": null,
      "outputs": [
        {
          "output_type": "execute_result",
          "data": {
            "text/plain": [
              "0.6651119"
            ]
          },
          "metadata": {},
          "execution_count": 14
        }
      ]
    },
    {
      "cell_type": "code",
      "source": [
        "embeddings.closer_than('cat', 'puppy')"
      ],
      "metadata": {
        "colab": {
          "base_uri": "https://localhost:8080/"
        },
        "id": "HvfeP6PFT7uV",
        "outputId": "fb42bc92-899e-4ddc-d95a-06dadaf66a01"
      },
      "execution_count": null,
      "outputs": [
        {
          "output_type": "execute_result",
          "data": {
            "text/plain": [
              "['dog',\n",
              " 'cats',\n",
              " 'Cat',\n",
              " 'pet',\n",
              " 'kitten',\n",
              " 'feline',\n",
              " 'kitty',\n",
              " 'subcat',\n",
              " 'felines',\n",
              " 'beagle',\n",
              " 'sub-cat',\n",
              " 'tomcat',\n",
              " 'moggy',\n",
              " 'housecat',\n",
              " 'supercat',\n",
              " 'moggie',\n",
              " 'she-cat',\n",
              " 're-cat',\n",
              " 'cat-',\n",
              " 'kittypet',\n",
              " 'super-cat',\n",
              " '-cat']"
            ]
          },
          "metadata": {},
          "execution_count": 15
        }
      ]
    },
    {
      "cell_type": "markdown",
      "source": [
        "#### Synonymy vs relatedness"
      ],
      "metadata": {
        "id": "P7XVQu1qCnm2"
      }
    },
    {
      "cell_type": "code",
      "source": [
        "embeddings.similarity('uncle', 'sister')"
      ],
      "metadata": {
        "colab": {
          "base_uri": "https://localhost:8080/"
        },
        "id": "nCtTxVah7ZZi",
        "outputId": "61adbe98-1325-4e28-98a8-a306eeecd50c"
      },
      "execution_count": null,
      "outputs": [
        {
          "output_type": "execute_result",
          "data": {
            "text/plain": [
              "0.7174434"
            ]
          },
          "metadata": {},
          "execution_count": 16
        }
      ]
    },
    {
      "cell_type": "code",
      "source": [
        "embeddings_twitter.similarity('uncle', 'sister')"
      ],
      "metadata": {
        "colab": {
          "base_uri": "https://localhost:8080/"
        },
        "id": "FDpR1n8yiPk8",
        "outputId": "62dcdeda-27cc-41ba-c8fe-befaaf5bd470"
      },
      "execution_count": null,
      "outputs": [
        {
          "output_type": "execute_result",
          "data": {
            "text/plain": [
              "0.6477544"
            ]
          },
          "metadata": {},
          "execution_count": 17
        }
      ]
    },
    {
      "cell_type": "code",
      "source": [
        "embeddings_twitter.similarity('sibling', 'sister')"
      ],
      "metadata": {
        "colab": {
          "base_uri": "https://localhost:8080/"
        },
        "id": "JMre1u9tiS6o",
        "outputId": "548f2f4b-a56d-4b84-9e05-0dd019dd1e0a"
      },
      "execution_count": null,
      "outputs": [
        {
          "output_type": "execute_result",
          "data": {
            "text/plain": [
              "0.517647"
            ]
          },
          "metadata": {},
          "execution_count": 18
        }
      ]
    },
    {
      "cell_type": "code",
      "source": [
        "embeddings_twitter.similarity('good', 'bad')"
      ],
      "metadata": {
        "colab": {
          "base_uri": "https://localhost:8080/"
        },
        "id": "ecnLiWeqicRF",
        "outputId": "2857657a-a25b-42ed-a758-7a70e3ed5164"
      },
      "execution_count": null,
      "outputs": [
        {
          "output_type": "execute_result",
          "data": {
            "text/plain": [
              "0.7983508"
            ]
          },
          "metadata": {},
          "execution_count": 19
        }
      ]
    },
    {
      "cell_type": "code",
      "source": [
        "embeddings.similarity('good', 'bad')"
      ],
      "metadata": {
        "colab": {
          "base_uri": "https://localhost:8080/"
        },
        "id": "-9T1Etta7qQG",
        "outputId": "ae4d55fe-d215-4cf3-d902-bfb1d9525e6a"
      },
      "execution_count": null,
      "outputs": [
        {
          "output_type": "execute_result",
          "data": {
            "text/plain": [
              "0.8503089"
            ]
          },
          "metadata": {},
          "execution_count": 20
        }
      ]
    },
    {
      "cell_type": "code",
      "source": [
        "embeddings.similarity('sister', 'sibling')"
      ],
      "metadata": {
        "colab": {
          "base_uri": "https://localhost:8080/"
        },
        "id": "ZdS-s-hCcdpW",
        "outputId": "15eaa9fc-9f86-4ba2-bd58-787824e4202c"
      },
      "execution_count": null,
      "outputs": [
        {
          "output_type": "execute_result",
          "data": {
            "text/plain": [
              "0.76012087"
            ]
          },
          "metadata": {},
          "execution_count": 21
        }
      ]
    },
    {
      "cell_type": "code",
      "source": [
        "embeddings.similarity('sister', 'mother')"
      ],
      "metadata": {
        "colab": {
          "base_uri": "https://localhost:8080/"
        },
        "id": "0ccv9EpQc5if",
        "outputId": "a9fb30b8-cf10-4107-96c6-b8a1cb1d83ea"
      },
      "execution_count": null,
      "outputs": [
        {
          "output_type": "execute_result",
          "data": {
            "text/plain": [
              "0.76116526"
            ]
          },
          "metadata": {},
          "execution_count": 22
        }
      ]
    },
    {
      "cell_type": "code",
      "source": [
        "embeddings.similarity('Monday', 'Sunday')"
      ],
      "metadata": {
        "colab": {
          "base_uri": "https://localhost:8080/"
        },
        "id": "--V6s53A7vDg",
        "outputId": "985d6fd6-955d-4fed-9cf6-a51c9fb2fdaf"
      },
      "execution_count": null,
      "outputs": [
        {
          "output_type": "execute_result",
          "data": {
            "text/plain": [
              "0.85126"
            ]
          },
          "metadata": {},
          "execution_count": 23
        }
      ]
    },
    {
      "cell_type": "markdown",
      "source": [
        "#### Normalization"
      ],
      "metadata": {
        "id": "ibiKtGIPenFi"
      }
    },
    {
      "cell_type": "code",
      "source": [
        "embeddings.most_similar(\"defenitly\")"
      ],
      "metadata": {
        "colab": {
          "base_uri": "https://localhost:8080/"
        },
        "id": "iV1jF15JpeMD",
        "outputId": "22cc4527-f7e9-4c7e-e182-1705aa889d7e"
      },
      "execution_count": null,
      "outputs": [
        {
          "output_type": "execute_result",
          "data": {
            "text/plain": [
              "[('defenitely', 0.8840630650520325),\n",
              " ('defenetly', 0.8451886177062988),\n",
              " ('defently', 0.8433688282966614),\n",
              " ('definitly', 0.7705455422401428),\n",
              " ('definetly', 0.7526832818984985),\n",
              " ('politly', 0.7457023859024048),\n",
              " ('defnitely', 0.7323918342590332),\n",
              " ('probebly', 0.7254762649536133),\n",
              " ('definatly', 0.7249115109443665),\n",
              " ('usuallly', 0.7225544452667236)]"
            ]
          },
          "metadata": {},
          "execution_count": 24
        }
      ]
    },
    {
      "cell_type": "code",
      "source": [
        "embeddings.most_similar(\"hiii\")"
      ],
      "metadata": {
        "colab": {
          "base_uri": "https://localhost:8080/"
        },
        "id": "Hxcw4ASLpyz6",
        "outputId": "29287b38-f161-48fe-b835-a5285d329286"
      },
      "execution_count": null,
      "outputs": [
        {
          "output_type": "execute_result",
          "data": {
            "text/plain": [
              "[('hiiii', 0.942829430103302),\n",
              " ('Hiii', 0.8571421504020691),\n",
              " ('Hiiii', 0.8538976311683655),\n",
              " ('hii', 0.7178280353546143),\n",
              " ('iiii', 0.7104865908622742),\n",
              " ('plzzz', 0.6919779181480408),\n",
              " ('plzzzz', 0.6852996945381165),\n",
              " ('hhh', 0.6836094260215759),\n",
              " ('wazzup', 0.6829248070716858),\n",
              " ('plzz', 0.6775454878807068)]"
            ]
          },
          "metadata": {},
          "execution_count": 25
        }
      ]
    },
    {
      "cell_type": "markdown",
      "source": [
        "#### Word analogies"
      ],
      "metadata": {
        "id": "L0N_xItsCruF"
      }
    },
    {
      "cell_type": "code",
      "source": [
        "# king - man + woman\n",
        "embeddings.most_similar_cosmul(positive=['king', 'woman'], negative=['man'])"
      ],
      "metadata": {
        "colab": {
          "base_uri": "https://localhost:8080/"
        },
        "id": "-mn_AXBVXSil",
        "outputId": "c5fd4b49-9deb-4dd0-fcad-0b529b6f78a5"
      },
      "execution_count": null,
      "outputs": [
        {
          "output_type": "execute_result",
          "data": {
            "text/plain": [
              "[('queen', 0.9390855431556702),\n",
              " ('queen-mother', 0.9078598618507385),\n",
              " ('king-', 0.8828966617584229),\n",
              " ('queen-consort', 0.882541835308075),\n",
              " ('child-king', 0.8680858016014099),\n",
              " ('monarch', 0.8670082688331604),\n",
              " ('ex-queen', 0.8654637932777405),\n",
              " ('princess', 0.8628991842269897),\n",
              " ('queen-', 0.8613532781600952),\n",
              " ('boy-king', 0.860465943813324)]"
            ]
          },
          "metadata": {},
          "execution_count": 26
        }
      ]
    },
    {
      "cell_type": "code",
      "source": [
        "# king - man + woman\n",
        "embeddings.most_similar_cosmul(positive=['king', 'woman'], negative=['man'])"
      ],
      "metadata": {
        "id": "GSOT2iLncSBv",
        "outputId": "55992e0f-faa5-4689-d8b9-d56eab74f389",
        "colab": {
          "base_uri": "https://localhost:8080/"
        }
      },
      "execution_count": null,
      "outputs": [
        {
          "output_type": "execute_result",
          "data": {
            "text/plain": [
              "[('queen', 0.9390855431556702),\n",
              " ('queen-mother', 0.9078598618507385),\n",
              " ('king-', 0.8828966617584229),\n",
              " ('queen-consort', 0.882541835308075),\n",
              " ('child-king', 0.8680858016014099),\n",
              " ('monarch', 0.8670082688331604),\n",
              " ('ex-queen', 0.8654637932777405),\n",
              " ('princess', 0.8628991842269897),\n",
              " ('queen-', 0.8613532781600952),\n",
              " ('boy-king', 0.860465943813324)]"
            ]
          },
          "metadata": {},
          "execution_count": 27
        }
      ]
    },
    {
      "cell_type": "code",
      "source": [
        "# Rome - Italy + France\n",
        "embeddings.most_similar_cosmul(positive=['Rome', 'France'], negative=['Italy'])"
      ],
      "metadata": {
        "colab": {
          "base_uri": "https://localhost:8080/"
        },
        "id": "E2ChBzS5T-8I",
        "outputId": "65c73efb-c888-41f6-8a2c-2a15ce8ebe35"
      },
      "execution_count": null,
      "outputs": [
        {
          "output_type": "execute_result",
          "data": {
            "text/plain": [
              "[('Paris', 0.9433915019035339),\n",
              " ('Meaux', 0.8968006372451782),\n",
              " ('Avignon', 0.8785353302955627),\n",
              " ('Saint-Denis', 0.8744450807571411),\n",
              " ('Rouen', 0.8729321956634521),\n",
              " ('Lyon', 0.8724958300590515),\n",
              " ('Louville', 0.8714753985404968),\n",
              " ('Toulouse', 0.8713099360466003),\n",
              " ('Beauvais', 0.8704253435134888),\n",
              " ('Blois', 0.8698782920837402)]"
            ]
          },
          "metadata": {},
          "execution_count": 29
        }
      ]
    },
    {
      "cell_type": "code",
      "source": [
        "# pasta - Italian + Romanian\n",
        "embeddings.most_similar_cosmul(positive=['pasta', 'Romanian'], negative=['Italian'])"
      ],
      "metadata": {
        "colab": {
          "base_uri": "https://localhost:8080/"
        },
        "id": "8vNj9sHBYKOA",
        "outputId": "68e64b01-c9f6-43d9-9288-2357e28c6c9b"
      },
      "execution_count": null,
      "outputs": [
        {
          "output_type": "execute_result",
          "data": {
            "text/plain": [
              "[('polenta', 0.7852737307548523),\n",
              " ('bulgar', 0.7823466658592224),\n",
              " ('bulgur', 0.7699621915817261),\n",
              " ('babka', 0.766016960144043),\n",
              " ('soup', 0.7643554210662842),\n",
              " ('mămăligă', 0.7633044719696045),\n",
              " ('cereal', 0.7588525414466858),\n",
              " ('pelmeni', 0.7585715651512146),\n",
              " ('masa', 0.7559653520584106),\n",
              " ('tin', 0.7554841041564941)]"
            ]
          },
          "metadata": {},
          "execution_count": 30
        }
      ]
    },
    {
      "cell_type": "code",
      "source": [
        "# cat - dog + puppy\n",
        "embeddings.most_similar_cosmul(positive=['cat', 'puppy'], negative=['dog'])"
      ],
      "metadata": {
        "colab": {
          "base_uri": "https://localhost:8080/"
        },
        "id": "HPZkmJ75UAxl",
        "outputId": "39e98380-eb70-456a-9570-23658f58e98c"
      },
      "execution_count": null,
      "outputs": [
        {
          "output_type": "execute_result",
          "data": {
            "text/plain": [
              "[('kitten', 0.9267358779907227),\n",
              " ('kitty', 0.8846307396888733),\n",
              " ('cats', 0.8722013235092163),\n",
              " ('kittens', 0.8703644871711731),\n",
              " ('kitties', 0.8619921803474426),\n",
              " ('kitteh', 0.8562358021736145),\n",
              " ('housecat', 0.8552347421646118),\n",
              " ('moggy', 0.8512866497039795),\n",
              " ('-cat', 0.8492761850357056),\n",
              " ('moggie', 0.847593367099762)]"
            ]
          },
          "metadata": {},
          "execution_count": 31
        }
      ]
    },
    {
      "cell_type": "code",
      "source": [
        "# purple - blue + yellow\n",
        "# green - blue + red?\n",
        "embeddings.most_similar_cosmul(positive=['purple', 'yellow'], negative=['blue'])"
      ],
      "metadata": {
        "colab": {
          "base_uri": "https://localhost:8080/"
        },
        "id": "EAu5v1Fx5oj0",
        "outputId": "380d4f30-bf95-4e1d-86b7-bb58994b1888"
      },
      "execution_count": null,
      "outputs": [
        {
          "output_type": "execute_result",
          "data": {
            "text/plain": [
              "[('orange', 0.9281182289123535),\n",
              " ('green-yellow', 0.9220715761184692),\n",
              " ('pink', 0.9197203516960144),\n",
              " ('orange-yellow', 0.9192143678665161),\n",
              " ('white-yellow', 0.9170408844947815),\n",
              " ('red-yellow', 0.9141272306442261),\n",
              " ('purple-blue', 0.9109879732131958),\n",
              " ('purple-red', 0.9094882607460022),\n",
              " ('yellow-orange', 0.9063596725463867),\n",
              " ('yellow-green', 0.9045568108558655)]"
            ]
          },
          "metadata": {},
          "execution_count": 32
        }
      ]
    },
    {
      "cell_type": "code",
      "source": [
        "embeddings_twitter.most_similar_cosmul(positive=['brother', 'woman'], negative=['man'])"
      ],
      "metadata": {
        "colab": {
          "base_uri": "https://localhost:8080/"
        },
        "id": "IP1bXhBfoxdM",
        "outputId": "244d014f-52a3-4eaa-df28-e889739012c8"
      },
      "execution_count": null,
      "outputs": [
        {
          "output_type": "execute_result",
          "data": {
            "text/plain": [
              "[('sister', 0.9794360399246216),\n",
              " ('daughter', 0.9412024617195129),\n",
              " ('mother', 0.9372841715812683),\n",
              " ('mom', 0.9262226223945618),\n",
              " ('husband', 0.91740882396698),\n",
              " ('friend', 0.9102033376693726),\n",
              " ('wife', 0.9087694883346558),\n",
              " ('dad', 0.9083817005157471),\n",
              " ('sisters', 0.9073351621627808),\n",
              " ('father', 0.9037760496139526)]"
            ]
          },
          "metadata": {},
          "execution_count": 33
        }
      ]
    },
    {
      "cell_type": "code",
      "source": [
        "embeddings_twitter.most_similar_cosmul(positive=['cat', 'puppy'], negative=['dog'])"
      ],
      "metadata": {
        "colab": {
          "base_uri": "https://localhost:8080/"
        },
        "id": "pExfdaOwtJw-",
        "outputId": "c9bb5d0c-fb3c-4beb-b889-bab76ef804a0"
      },
      "execution_count": null,
      "outputs": [
        {
          "output_type": "execute_result",
          "data": {
            "text/plain": [
              "[('kitten', 0.9388771653175354),\n",
              " ('kitty', 0.9139494895935059),\n",
              " ('pup', 0.8514729738235474),\n",
              " ('puppies', 0.8475602269172668),\n",
              " ('kittens', 0.8263034224510193),\n",
              " ('pug', 0.8220088481903076),\n",
              " ('cute', 0.8175343871116638),\n",
              " ('cats', 0.8136031031608582),\n",
              " ('husky', 0.8109297156333923),\n",
              " ('pet', 0.8099460005760193)]"
            ]
          },
          "metadata": {},
          "execution_count": 34
        }
      ]
    },
    {
      "cell_type": "code",
      "source": [
        "# computer_progammer - man + woman ... homemaker?\n",
        "embeddings.most_similar_cosmul(positive=['programmer', 'woman'], negative=['man'])"
      ],
      "metadata": {
        "colab": {
          "base_uri": "https://localhost:8080/"
        },
        "id": "X41jpFYVtyW2",
        "outputId": "e5bf9911-69b4-4664-fe1c-62574512beba"
      },
      "execution_count": null,
      "outputs": [
        {
          "output_type": "execute_result",
          "data": {
            "text/plain": [
              "[('non-programmer', 0.8644444346427917),\n",
              " ('programmers', 0.8571239113807678),\n",
              " ('Programmer', 0.8313320875167847),\n",
              " ('non-programmers', 0.8269446492195129),\n",
              " ('writer', 0.8260435461997986),\n",
              " ('coder', 0.8254762291908264),\n",
              " ('programer', 0.8239933848381042),\n",
              " ('nonprogrammers', 0.8238458633422852),\n",
              " ('web-designer', 0.819828987121582),\n",
              " ('researcher', 0.8139449954032898)]"
            ]
          },
          "metadata": {},
          "execution_count": 35
        }
      ]
    },
    {
      "cell_type": "code",
      "source": [
        "embeddings.doesnt_match((('dog', 'cat', 'mouse', 'cake')))"
      ],
      "metadata": {
        "id": "rQZOIwxQF2xi",
        "colab": {
          "base_uri": "https://localhost:8080/",
          "height": 35
        },
        "outputId": "5b3173bd-910e-4e2e-8eec-10bc5f1522dc"
      },
      "execution_count": null,
      "outputs": [
        {
          "output_type": "execute_result",
          "data": {
            "text/plain": [
              "'cake'"
            ],
            "application/vnd.google.colaboratory.intrinsic+json": {
              "type": "string"
            }
          },
          "metadata": {},
          "execution_count": 36
        }
      ]
    },
    {
      "cell_type": "markdown",
      "source": [
        "#### Multilingual embeddings & false friends"
      ],
      "metadata": {
        "id": "HsCY90Wyfc0u"
      }
    },
    {
      "cell_type": "code",
      "source": [
        "!wget https://dl.fbaipublicfiles.com/arrival/vectors/wiki.multi.en.vec # English embeddings, prealigned\n",
        "!wget https://dl.fbaipublicfiles.com/arrival/vectors/wiki.multi.es.vec # Spanish embeddings, prealigned"
      ],
      "metadata": {
        "colab": {
          "base_uri": "https://localhost:8080/"
        },
        "id": "e3N9PtT2bgG1",
        "outputId": "2cc0221d-8f4a-4313-8332-136fc157408c"
      },
      "execution_count": null,
      "outputs": [
        {
          "output_type": "stream",
          "name": "stdout",
          "text": [
            "--2023-04-09 18:46:32--  https://dl.fbaipublicfiles.com/arrival/vectors/wiki.multi.en.vec\n",
            "Resolving dl.fbaipublicfiles.com (dl.fbaipublicfiles.com)... 99.84.160.46, 99.84.160.80, 99.84.160.108, ...\n",
            "Connecting to dl.fbaipublicfiles.com (dl.fbaipublicfiles.com)|99.84.160.46|:443... connected.\n",
            "HTTP request sent, awaiting response... 200 OK\n",
            "Length: 628614720 (599M) [text/plain]\n",
            "Saving to: ‘wiki.multi.en.vec’\n",
            "\n",
            "wiki.multi.en.vec   100%[===================>] 599.49M   128MB/s    in 4.7s    \n",
            "\n",
            "2023-04-09 18:46:37 (128 MB/s) - ‘wiki.multi.en.vec’ saved [628614720/628614720]\n",
            "\n",
            "--2023-04-09 18:46:37--  https://dl.fbaipublicfiles.com/arrival/vectors/wiki.multi.es.vec\n",
            "Resolving dl.fbaipublicfiles.com (dl.fbaipublicfiles.com)... 99.84.160.46, 99.84.160.80, 99.84.160.108, ...\n",
            "Connecting to dl.fbaipublicfiles.com (dl.fbaipublicfiles.com)|99.84.160.46|:443... connected.\n",
            "HTTP request sent, awaiting response... 200 OK\n",
            "Length: 628826336 (600M) [text/plain]\n",
            "Saving to: ‘wiki.multi.es.vec’\n",
            "\n",
            "wiki.multi.es.vec   100%[===================>] 599.70M  55.4MB/s    in 10s     \n",
            "\n",
            "2023-04-09 18:46:48 (59.3 MB/s) - ‘wiki.multi.es.vec’ saved [628826336/628826336]\n",
            "\n"
          ]
        }
      ]
    },
    {
      "cell_type": "markdown",
      "source": [
        "Loading pretrained embeddings from local files"
      ],
      "metadata": {
        "id": "e1DVfyMTKeus"
      }
    },
    {
      "cell_type": "code",
      "source": [
        "from gensim.models import KeyedVectors\n",
        "en_model = KeyedVectors.load_word2vec_format('wiki.multi.en.vec')  # Watch out for your RAM...\n",
        "es_model = KeyedVectors.load_word2vec_format('wiki.multi.es.vec')\n"
      ],
      "metadata": {
        "id": "EYwwny90chkz"
      },
      "execution_count": null,
      "outputs": []
    },
    {
      "cell_type": "code",
      "source": [
        "embarrassed_vec = en_model.get_vector(\"embarassed\")\n",
        "pregnant_vec = en_model.get_vector(\"pregnant\")\n",
        "embarazada_vec = es_model.get_vector(\"embarazada\")"
      ],
      "metadata": {
        "id": "WPU54CMudDoX"
      },
      "execution_count": null,
      "outputs": []
    },
    {
      "cell_type": "code",
      "source": [
        "from sklearn.metrics.pairwise import cosine_similarity\n",
        "similarity_matrix = cosine_similarity([embarrassed_vec, pregnant_vec, embarazada_vec])\n",
        "\n",
        "words = (\"embarrassed\", \"pregnant\", \"embarazada\")\n",
        "print(\"%27s %15s %15s\" % words)\n",
        "for i, row in enumerate(similarity_matrix):\n",
        "  print(\"%15s %.13f %.13f %.13f\" % (words[i], *row))"
      ],
      "metadata": {
        "colab": {
          "base_uri": "https://localhost:8080/"
        },
        "id": "ag4xannLddR-",
        "outputId": "26083fa6-73e7-4164-ffd6-a5871c63424e"
      },
      "execution_count": null,
      "outputs": [
        {
          "output_type": "stream",
          "name": "stdout",
          "text": [
            "                embarrassed        pregnant      embarazada\n",
            "    embarrassed 0.9999999403954 0.2995810210705 0.3134102821350\n",
            "       pregnant 0.2995810210705 1.0000000000000 0.8302524089813\n",
            "     embarazada 0.3134102821350 0.8302524089813 1.0000000000000\n"
          ]
        }
      ]
    },
    {
      "cell_type": "code",
      "source": [
        "es_model.similar_by_vector(embarrassed_vec)"
      ],
      "metadata": {
        "colab": {
          "base_uri": "https://localhost:8080/"
        },
        "id": "o14wPO0ugqMa",
        "outputId": "efaf588b-1884-4429-89c4-8d5c565999c0"
      },
      "execution_count": null,
      "outputs": [
        {
          "output_type": "execute_result",
          "data": {
            "text/plain": [
              "[('parecerme', 0.6807215213775635),\n",
              " ('insultarme', 0.6778432726860046),\n",
              " ('sinceramente', 0.675748884677887),\n",
              " ('discúlpame', 0.6600538492202759),\n",
              " ('equivocarme', 0.6517462134361267),\n",
              " ('digo', 0.6503289937973022),\n",
              " ('diciéndome', 0.6467952132225037),\n",
              " ('disculpo', 0.6451693177223206),\n",
              " ('disculparme', 0.6407719850540161),\n",
              " ('ridículo', 0.6402308940887451)]"
            ]
          },
          "metadata": {},
          "execution_count": 41
        }
      ]
    },
    {
      "cell_type": "code",
      "source": [
        "en_model.similar_by_vector(embarazada_vec)"
      ],
      "metadata": {
        "colab": {
          "base_uri": "https://localhost:8080/"
        },
        "id": "jYoRiKvhimVk",
        "outputId": "b0d29f3e-f380-4d51-f42a-a60054ee33ce"
      },
      "execution_count": null,
      "outputs": [
        {
          "output_type": "execute_result",
          "data": {
            "text/plain": [
              "[('pregnant', 0.8302525877952576),\n",
              " ('miscarried', 0.715323269367218),\n",
              " ('miscarries', 0.6865615844726562),\n",
              " ('miscarriage', 0.664211094379425),\n",
              " ('stepmother', 0.6626667976379395),\n",
              " ('fiancé', 0.6595430970191956),\n",
              " ('mother', 0.6589699387550354),\n",
              " ('stepdaughter', 0.6581923365592957),\n",
              " ('pregnancy', 0.6562281250953674),\n",
              " ('distraught', 0.6525552868843079)]"
            ]
          },
          "metadata": {},
          "execution_count": 42
        }
      ]
    },
    {
      "cell_type": "markdown",
      "source": [
        "## Training embeddings"
      ],
      "metadata": {
        "id": "jD7s90_asUVq"
      }
    },
    {
      "cell_type": "code",
      "source": [
        "gensim.models.Word2Vec(sentences=None, corpus_file=None, # Your corpus here!\n",
        "                                vector_size=100, alpha=0.025, window=5, min_count=5,\n",
        "                                max_vocab_size=None, sample=0.001, seed=1, workers=3, min_alpha=0.0001, sg=0, hs=0,\n",
        "                                negative=5, ns_exponent=0.75, cbow_mean=1, null_word=0, trim_rule=None,\n",
        "                                sorted_vocab=1, batch_words=10000, compute_loss=False, callbacks=(),\n",
        "                                max_final_vocab=None)\n"
      ],
      "metadata": {
        "colab": {
          "base_uri": "https://localhost:8080/"
        },
        "id": "hWnZgfmrsVzP",
        "outputId": "ab5fd8d5-226b-41dd-a230-060a4d36706e"
      },
      "execution_count": null,
      "outputs": [
        {
          "output_type": "execute_result",
          "data": {
            "text/plain": [
              "<gensim.models.word2vec.Word2Vec at 0x7f730287f880>"
            ]
          },
          "metadata": {},
          "execution_count": 43
        }
      ]
    },
    {
      "cell_type": "code",
      "source": [
        "gensim.models.Word2Vec??"
      ],
      "metadata": {
        "id": "pJYyPnjyfjOG"
      },
      "execution_count": null,
      "outputs": []
    },
    {
      "cell_type": "code",
      "source": [
        "sentences = [[\"cat\", \"say\", \"meow\"], [\"dog\", \"say\", \"woof\"]]\n",
        "model = gensim.models.Word2Vec(sentences, min_count=1)"
      ],
      "metadata": {
        "id": "ypw74Fe5CvLO"
      },
      "execution_count": null,
      "outputs": []
    },
    {
      "cell_type": "code",
      "source": [
        "model.wv.similarity('dog', 'cat')"
      ],
      "metadata": {
        "colab": {
          "base_uri": "https://localhost:8080/"
        },
        "id": "4adhm1moEYRF",
        "outputId": "a1653c98-b4db-4324-985a-089237cd4cef"
      },
      "execution_count": null,
      "outputs": [
        {
          "output_type": "execute_result",
          "data": {
            "text/plain": [
              "0.17018887"
            ]
          },
          "metadata": {},
          "execution_count": 46
        }
      ]
    },
    {
      "cell_type": "code",
      "source": [
        "model.wv.get_vector('cat')"
      ],
      "metadata": {
        "colab": {
          "base_uri": "https://localhost:8080/"
        },
        "id": "tC_Ff6E-ExXr",
        "outputId": "31286eaa-2794-4bf1-ad0d-bc10f8bf54e0"
      },
      "execution_count": null,
      "outputs": [
        {
          "output_type": "execute_result",
          "data": {
            "text/plain": [
              "array([-0.00713902,  0.00124103, -0.00717672, -0.00224462,  0.0037193 ,\n",
              "        0.00583312,  0.00119818,  0.00210273, -0.00411039,  0.00722533,\n",
              "       -0.00630704,  0.00464722, -0.00821997,  0.00203647, -0.00497705,\n",
              "       -0.00424769, -0.00310898,  0.00565521,  0.0057984 , -0.00497465,\n",
              "        0.00077333, -0.00849578,  0.00780981,  0.00925729, -0.00274233,\n",
              "        0.00080022,  0.00074665,  0.00547788, -0.00860608,  0.00058446,\n",
              "        0.00686942,  0.00223159,  0.00112468, -0.00932216,  0.00848237,\n",
              "       -0.00626413, -0.00299237,  0.00349379, -0.00077263,  0.00141129,\n",
              "        0.00178199, -0.0068289 , -0.00972481,  0.00904058,  0.00619805,\n",
              "       -0.00691293,  0.00340348,  0.00020606,  0.00475375, -0.00711994,\n",
              "        0.00402695,  0.00434743,  0.00995737, -0.00447374, -0.00138926,\n",
              "       -0.00731732, -0.00969783, -0.00908026, -0.00102275, -0.00650329,\n",
              "        0.00484973, -0.00616403,  0.00251919,  0.00073944, -0.00339215,\n",
              "       -0.00097922,  0.00997913,  0.00914589, -0.00446183,  0.00908303,\n",
              "       -0.00564176,  0.00593092, -0.00309722,  0.00343175,  0.00301723,\n",
              "        0.00690046, -0.00237388,  0.00877504,  0.00758943, -0.00954765,\n",
              "       -0.00800821, -0.0076379 ,  0.00292326, -0.00279472, -0.00692952,\n",
              "       -0.00812826,  0.00830918,  0.00199049, -0.00932802, -0.00479272,\n",
              "        0.00313674, -0.00471321,  0.00528084, -0.00423344,  0.0026418 ,\n",
              "       -0.00804569,  0.00620989,  0.00481889,  0.00078719,  0.00301345],\n",
              "      dtype=float32)"
            ]
          },
          "metadata": {},
          "execution_count": 47
        }
      ]
    },
    {
      "cell_type": "code",
      "source": [
        "model.wv.save_word2vec_format(\"cats_model.bin\")"
      ],
      "metadata": {
        "id": "E1qslPu1CzP_"
      },
      "execution_count": null,
      "outputs": []
    },
    {
      "cell_type": "code",
      "source": [
        "loaded_model = gensim.models.KeyedVectors.load_word2vec_format(\"cats_model.bin\")"
      ],
      "metadata": {
        "id": "MDdA-uCu0M7g"
      },
      "execution_count": null,
      "outputs": []
    },
    {
      "cell_type": "code",
      "source": [
        "loaded_model.index_to_key # vocabulary"
      ],
      "metadata": {
        "colab": {
          "base_uri": "https://localhost:8080/"
        },
        "id": "DZhIJkehESta",
        "outputId": "28f32f59-8494-435f-e9bc-623159c0ce2e"
      },
      "execution_count": null,
      "outputs": [
        {
          "output_type": "execute_result",
          "data": {
            "text/plain": [
              "['say', 'woof', 'dog', 'meow', 'cat']"
            ]
          },
          "metadata": {},
          "execution_count": 50
        }
      ]
    },
    {
      "cell_type": "code",
      "source": [
        "loaded_model.similarity('dog', 'cat')"
      ],
      "metadata": {
        "colab": {
          "base_uri": "https://localhost:8080/"
        },
        "id": "EwEtNCjREmeH",
        "outputId": "4657fed8-d77b-4ea6-a915-a27fba8dcc4f"
      },
      "execution_count": null,
      "outputs": [
        {
          "output_type": "execute_result",
          "data": {
            "text/plain": [
              "0.17018887"
            ]
          },
          "metadata": {},
          "execution_count": 51
        }
      ]
    },
    {
      "cell_type": "markdown",
      "source": [
        "# Contextual embeddings and language models"
      ],
      "metadata": {
        "id": "q3XYBoeTTpVM"
      }
    },
    {
      "cell_type": "code",
      "source": [
        "!pip install transformers\n"
      ],
      "metadata": {
        "colab": {
          "base_uri": "https://localhost:8080/"
        },
        "id": "DESIyVDYgnI7",
        "outputId": "296c8df0-87e3-4bdc-d88f-b6fed8830e0a"
      },
      "execution_count": null,
      "outputs": [
        {
          "output_type": "stream",
          "name": "stdout",
          "text": [
            "Looking in indexes: https://pypi.org/simple, https://us-python.pkg.dev/colab-wheels/public/simple/\n",
            "Collecting transformers\n",
            "  Downloading transformers-4.27.4-py3-none-any.whl (6.8 MB)\n",
            "\u001b[2K     \u001b[90m━━━━━━━━━━━━━━━━━━━━━━━━━━━━━━━━━━━━━━━━\u001b[0m \u001b[32m6.8/6.8 MB\u001b[0m \u001b[31m49.4 MB/s\u001b[0m eta \u001b[36m0:00:00\u001b[0m\n",
            "\u001b[?25hRequirement already satisfied: requests in /usr/local/lib/python3.9/dist-packages (from transformers) (2.27.1)\n",
            "Requirement already satisfied: pyyaml>=5.1 in /usr/local/lib/python3.9/dist-packages (from transformers) (6.0)\n",
            "Requirement already satisfied: filelock in /usr/local/lib/python3.9/dist-packages (from transformers) (3.10.7)\n",
            "Requirement already satisfied: tqdm>=4.27 in /usr/local/lib/python3.9/dist-packages (from transformers) (4.65.0)\n",
            "Requirement already satisfied: regex!=2019.12.17 in /usr/local/lib/python3.9/dist-packages (from transformers) (2022.10.31)\n",
            "Collecting huggingface-hub<1.0,>=0.11.0\n",
            "  Downloading huggingface_hub-0.13.4-py3-none-any.whl (200 kB)\n",
            "\u001b[2K     \u001b[90m━━━━━━━━━━━━━━━━━━━━━━━━━━━━━━━━━━━━━━\u001b[0m \u001b[32m200.1/200.1 KB\u001b[0m \u001b[31m21.4 MB/s\u001b[0m eta \u001b[36m0:00:00\u001b[0m\n",
            "\u001b[?25hRequirement already satisfied: numpy>=1.17 in /usr/local/lib/python3.9/dist-packages (from transformers) (1.22.4)\n",
            "Requirement already satisfied: packaging>=20.0 in /usr/local/lib/python3.9/dist-packages (from transformers) (23.0)\n",
            "Collecting tokenizers!=0.11.3,<0.14,>=0.11.1\n",
            "  Downloading tokenizers-0.13.3-cp39-cp39-manylinux_2_17_x86_64.manylinux2014_x86_64.whl (7.8 MB)\n",
            "\u001b[2K     \u001b[90m━━━━━━━━━━━━━━━━━━━━━━━━━━━━━━━━━━━━━━━━\u001b[0m \u001b[32m7.8/7.8 MB\u001b[0m \u001b[31m63.2 MB/s\u001b[0m eta \u001b[36m0:00:00\u001b[0m\n",
            "\u001b[?25hRequirement already satisfied: typing-extensions>=3.7.4.3 in /usr/local/lib/python3.9/dist-packages (from huggingface-hub<1.0,>=0.11.0->transformers) (4.5.0)\n",
            "Requirement already satisfied: certifi>=2017.4.17 in /usr/local/lib/python3.9/dist-packages (from requests->transformers) (2022.12.7)\n",
            "Requirement already satisfied: charset-normalizer~=2.0.0 in /usr/local/lib/python3.9/dist-packages (from requests->transformers) (2.0.12)\n",
            "Requirement already satisfied: urllib3<1.27,>=1.21.1 in /usr/local/lib/python3.9/dist-packages (from requests->transformers) (1.26.15)\n",
            "Requirement already satisfied: idna<4,>=2.5 in /usr/local/lib/python3.9/dist-packages (from requests->transformers) (3.4)\n",
            "Installing collected packages: tokenizers, huggingface-hub, transformers\n",
            "Successfully installed huggingface-hub-0.13.4 tokenizers-0.13.3 transformers-4.27.4\n"
          ]
        }
      ]
    },
    {
      "cell_type": "code",
      "source": [
        "import matplotlib.pyplot as plt\n",
        "import numpy as np\n",
        "import torch\n",
        "\n",
        "from transformers import BertModel, BertTokenizer"
      ],
      "metadata": {
        "id": "Yqhp8fMQgxoS"
      },
      "execution_count": null,
      "outputs": []
    },
    {
      "cell_type": "markdown",
      "source": [
        "**Disclaimer**: Each pretrained transformer model (e.g. BERT base) has its own tokenizer, where the vocabulary of types (possible values for the tokens) is determined automatically based on the corpus and might not all be words in the dictionary (also includes subwords etc). You can learn more about transformers using the resources below, or at next year's NLP courses."
      ],
      "metadata": {
        "id": "oRT061Nm5peK"
      }
    },
    {
      "cell_type": "code",
      "source": [
        "# Load pre-trained model\n",
        "tokenizer = BertTokenizer.from_pretrained('bert-base-cased')\n",
        "model = BertModel.from_pretrained('bert-base-cased', return_dict=True)"
      ],
      "metadata": {
        "colab": {
          "base_uri": "https://localhost:8080/",
          "height": 217,
          "referenced_widgets": [
            "7f2212958aec4a68acb69e70163b1907",
            "72bea528270f4fdbbf62e359d7d4a2f1",
            "acedde7d14ec43c985301df30cbf3bac",
            "800bf1f9feba4627841a3dde46e97851",
            "f28f294f1a0e4e05bf7e3f5b0fe956ca",
            "105864fcdede4048883419d43b159b2b",
            "e1b2d47a73fd4daa94f54afa23f7044e",
            "b497acb53bd04c689dd3b21730f04928",
            "06bd5ea9666b401c89c2ff0de6076aa8",
            "ba8f7c1cc8f6427998ed74493c8fd81a",
            "836dca331e8c4ee1bcebc36c0c55a468",
            "b3f58b94a7134190b94c009a0398827b",
            "a88923aedf5b41db802bd68e1931a85c",
            "e6d382f0256c4729b5d357b848d08b4a",
            "bdeb839dacbf462583877402fae0ffad",
            "ca3460cd03304a8f9a64c7b2d443ce7a",
            "e5b768de637d43f284810ebec4ccf31e",
            "c55e45d4f0264a02abf2477997307227",
            "d1857c2ab5e1465e941bb0abbfbcb772",
            "52ab1622648d44998dd8e3557feba0f5",
            "b754d8c572e940499e52cdac1acee24b",
            "1046f8398d494d60a85b76cba8848fb0",
            "7ac1e030a9b14e8ea650f4c1cc866f0f",
            "8b3ba0133b07402fbcd6b72774c521b7",
            "bfe2d4f2d8964058b952e2c66c19e351",
            "0dbca5096e2449a4abb8483630f48d27",
            "2f78273a88cb47ec9e2455c3394e3d56",
            "16dad53d75b44528a34187320c12bf51",
            "25aec4b14f4b4368bc94e268b19f7b64",
            "edf6adb3fad642f0a33a645ee231a9b5",
            "c0cdab83cc8a4379af37858b857655b6",
            "8a579e4b581f40d2bf537283691e1773",
            "8c6724880d7c4ee7a2dfada56ccb5c5b",
            "237ee03007f9485699b664d4b4e5f2a8",
            "44cc04122111416abbfcd63013ea16c2",
            "48ce2188dd6346bf97d27d2b7dffa777",
            "11fecaa4bd68494dbb1fb44521514199",
            "b24f099aaaef42b0ab5d9bf30e83dd68",
            "31a95509e67b4f9a9445b1a4cbd7b811",
            "970400e1f0d24f88ac9ac7d0ddd97009",
            "f208730614f04e7fb0d9bbab654604ac",
            "860881c210aa453d8028444468a7933a",
            "90b382c673194cfb921c8c7bb03cfbd2",
            "c12be4ef933c4ca0b1e664e99610f54f"
          ]
        },
        "id": "l4VwWkpggoKF",
        "outputId": "12d45ded-4b22-4d6d-8681-86ac8b4d24e9"
      },
      "execution_count": null,
      "outputs": [
        {
          "output_type": "display_data",
          "data": {
            "text/plain": [
              "Downloading (…)solve/main/vocab.txt:   0%|          | 0.00/213k [00:00<?, ?B/s]"
            ],
            "application/vnd.jupyter.widget-view+json": {
              "version_major": 2,
              "version_minor": 0,
              "model_id": "7f2212958aec4a68acb69e70163b1907"
            }
          },
          "metadata": {}
        },
        {
          "output_type": "display_data",
          "data": {
            "text/plain": [
              "Downloading (…)okenizer_config.json:   0%|          | 0.00/29.0 [00:00<?, ?B/s]"
            ],
            "application/vnd.jupyter.widget-view+json": {
              "version_major": 2,
              "version_minor": 0,
              "model_id": "b3f58b94a7134190b94c009a0398827b"
            }
          },
          "metadata": {}
        },
        {
          "output_type": "display_data",
          "data": {
            "text/plain": [
              "Downloading (…)lve/main/config.json:   0%|          | 0.00/570 [00:00<?, ?B/s]"
            ],
            "application/vnd.jupyter.widget-view+json": {
              "version_major": 2,
              "version_minor": 0,
              "model_id": "7ac1e030a9b14e8ea650f4c1cc866f0f"
            }
          },
          "metadata": {}
        },
        {
          "output_type": "display_data",
          "data": {
            "text/plain": [
              "Downloading pytorch_model.bin:   0%|          | 0.00/436M [00:00<?, ?B/s]"
            ],
            "application/vnd.jupyter.widget-view+json": {
              "version_major": 2,
              "version_minor": 0,
              "model_id": "237ee03007f9485699b664d4b4e5f2a8"
            }
          },
          "metadata": {}
        },
        {
          "output_type": "stream",
          "name": "stderr",
          "text": [
            "Some weights of the model checkpoint at bert-base-cased were not used when initializing BertModel: ['cls.predictions.transform.dense.weight', 'cls.predictions.transform.LayerNorm.weight', 'cls.predictions.decoder.weight', 'cls.seq_relationship.weight', 'cls.predictions.bias', 'cls.seq_relationship.bias', 'cls.predictions.transform.dense.bias', 'cls.predictions.transform.LayerNorm.bias']\n",
            "- This IS expected if you are initializing BertModel from the checkpoint of a model trained on another task or with another architecture (e.g. initializing a BertForSequenceClassification model from a BertForPreTraining model).\n",
            "- This IS NOT expected if you are initializing BertModel from the checkpoint of a model that you expect to be exactly identical (initializing a BertForSequenceClassification model from a BertForSequenceClassification model).\n"
          ]
        }
      ]
    },
    {
      "cell_type": "markdown",
      "source": [
        "![bert-contexualized-embeddings.png](data:image/png;base64,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)"
      ],
      "metadata": {
        "id": "OvhjOeU7xGFO"
      }
    },
    {
      "cell_type": "markdown",
      "source": [
        "We want our model to return the hidden states, so we can capture them. The output_hidden_states parameter needs to be set to True for this.\n",
        "\n",
        "There are 13 hidden states, the first corresponding to the embedding (projecting the vocabulary word to the (768,) embedding) and the rest corresponding to the 12 layers in the BERT-base model.\n",
        "\n",
        "Output of each hidden state is (batch_size, number_of_tokens, 768).\n",
        "\n",
        "Additional visualizations: https://jalammar.github.io/illustrated-bert/"
      ],
      "metadata": {
        "id": "SHlo-cSKg5qV"
      }
    },
    {
      "cell_type": "code",
      "source": [
        "text = \"I never acted in a play before.\"\n",
        "inputs = tokenizer(text, return_tensors=\"pt\")\n",
        "outputs = model(**inputs, output_hidden_states=True)"
      ],
      "metadata": {
        "id": "nF1B_SLzg6qS"
      },
      "execution_count": null,
      "outputs": []
    },
    {
      "cell_type": "code",
      "source": [
        "inputs"
      ],
      "metadata": {
        "colab": {
          "base_uri": "https://localhost:8080/"
        },
        "id": "FQgaDcTomaKp",
        "outputId": "c6e278cc-4aac-44f8-8905-a00de3365384"
      },
      "execution_count": null,
      "outputs": [
        {
          "output_type": "execute_result",
          "data": {
            "text/plain": [
              "{'input_ids': tensor([[ 101,  146, 1309, 5376, 1107,  170, 1505, 1196,  119,  102]]), 'token_type_ids': tensor([[0, 0, 0, 0, 0, 0, 0, 0, 0, 0]]), 'attention_mask': tensor([[1, 1, 1, 1, 1, 1, 1, 1, 1, 1]])}"
            ]
          },
          "metadata": {},
          "execution_count": 56
        }
      ]
    },
    {
      "cell_type": "code",
      "source": [
        "outputs\n"
      ],
      "metadata": {
        "colab": {
          "base_uri": "https://localhost:8080/"
        },
        "id": "bh2BWPKuhBll",
        "outputId": "97897170-8af5-42b6-989e-9915677a32f9"
      },
      "execution_count": null,
      "outputs": [
        {
          "output_type": "execute_result",
          "data": {
            "text/plain": [
              "BaseModelOutputWithPoolingAndCrossAttentions(last_hidden_state=tensor([[[ 0.6465, -0.0340, -0.0343,  ..., -0.2017,  0.4150, -0.0688],\n",
              "         [ 0.5861, -0.4964,  0.3969,  ..., -0.0649,  0.0623,  0.3182],\n",
              "         [ 0.3198, -0.0435, -0.3961,  ...,  0.5159, -0.0444, -0.0523],\n",
              "         ...,\n",
              "         [ 0.3881, -0.5949,  0.0154,  ...,  0.0614,  0.3631, -0.2837],\n",
              "         [ 0.5163, -0.2328, -0.0715,  ..., -0.1547,  0.1601, -0.1654],\n",
              "         [ 0.8123,  0.1996, -0.2672,  ..., -0.4530,  0.1853, -0.3697]]],\n",
              "       grad_fn=<NativeLayerNormBackward0>), pooler_output=tensor([[-6.8066e-01,  4.4834e-01,  9.9995e-01, -9.9714e-01,  9.7919e-01,\n",
              "          8.8241e-01,  9.9458e-01, -9.9277e-01, -9.8259e-01, -7.1344e-01,\n",
              "          9.9216e-01,  9.9932e-01, -9.9824e-01, -9.9990e-01,  8.6363e-01,\n",
              "         -9.9137e-01,  9.9463e-01, -6.2191e-01, -9.9998e-01, -8.6428e-01,\n",
              "         -4.8440e-01, -9.9994e-01,  3.3618e-01,  9.7413e-01,  9.8518e-01,\n",
              "          1.1825e-02,  9.9423e-01,  9.9998e-01,  9.4406e-01, -4.1438e-01,\n",
              "          3.3188e-01, -9.9281e-01,  7.8988e-01, -9.9945e-01,  2.0951e-01,\n",
              "          4.6604e-02,  6.7574e-01, -2.9401e-01,  8.3024e-01, -9.5778e-01,\n",
              "         -7.4449e-01, -8.6965e-01,  7.3120e-01, -5.8982e-01,  9.4154e-01,\n",
              "          2.3448e-01,  2.5691e-02, -1.6296e-01, -9.9423e-02,  9.9988e-01,\n",
              "         -9.8075e-01,  9.9934e-01, -9.9625e-01,  9.9824e-01,  9.9795e-01,\n",
              "          3.5071e-01,  9.9771e-01,  1.6064e-01, -9.9896e-01,  3.0488e-01,\n",
              "          9.7048e-01,  2.1981e-01,  9.5499e-01, -1.5889e-01,  2.0271e-01,\n",
              "         -4.0449e-01, -8.8718e-01,  2.2255e-01, -5.2082e-01,  4.2642e-01,\n",
              "          3.9298e-01,  3.9781e-01,  9.9552e-01, -9.4377e-01,  5.8932e-02,\n",
              "         -9.3431e-01,  1.7151e-01, -9.9994e-01,  9.7293e-01,  9.9998e-01,\n",
              "          7.7694e-01, -9.9980e-01,  9.9728e-01, -2.5140e-01, -8.0287e-01,\n",
              "          5.2710e-01, -9.9915e-01, -9.9971e-01,  8.8802e-03, -7.9335e-01,\n",
              "          8.6694e-01, -9.9434e-01,  6.3636e-01, -9.3324e-01,  9.9999e-01,\n",
              "         -9.1995e-01, -7.7983e-02,  3.9451e-01,  9.0328e-01, -5.6231e-01,\n",
              "         -8.0692e-01,  8.9778e-01,  9.9929e-01, -9.9777e-01,  9.9878e-01,\n",
              "          5.9213e-01, -9.3961e-01, -8.6180e-01,  7.5560e-01,  2.2540e-02,\n",
              "          9.9555e-01, -9.9644e-01, -7.3447e-01, -1.5745e-02,  9.0052e-01,\n",
              "         -9.2018e-01,  9.9519e-01,  9.1594e-01, -2.7980e-01,  9.9999e-01,\n",
              "         -1.1511e-01,  9.8116e-01,  9.9925e-01,  9.4117e-01, -8.3923e-01,\n",
              "         -2.9378e-01, -7.1957e-01,  9.1293e-01, -5.4383e-01, -4.3257e-01,\n",
              "          8.2283e-01, -9.9457e-01, -9.9876e-01,  9.9967e-01, -2.7786e-01,\n",
              "          9.9998e-01, -9.9945e-01,  9.9370e-01, -9.9997e-01, -8.5575e-01,\n",
              "         -6.7533e-01, -8.8778e-02, -9.8985e-01,  1.7911e-01,  9.9557e-01,\n",
              "          1.1143e-02, -9.0950e-01, -7.3183e-01,  4.7598e-01, -7.5160e-01,\n",
              "          6.6277e-01,  7.8793e-01, -9.7724e-01,  9.9837e-01,  9.9719e-01,\n",
              "          9.6812e-01,  9.8795e-01,  1.6851e-01, -9.6968e-01,  9.2547e-01,\n",
              "          9.9308e-01, -9.9976e-01,  8.9968e-01, -9.9549e-01,  9.9952e-01,\n",
              "          9.8169e-01,  8.3426e-01, -9.9635e-01,  9.9996e-01, -4.5359e-01,\n",
              "         -2.9189e-01, -1.6235e-01, -3.6543e-01, -9.9948e-01,  4.6839e-01,\n",
              "          4.6655e-01,  8.2136e-01,  9.9970e-01, -9.9781e-01,  9.9980e-01,\n",
              "          9.3605e-01,  1.6652e-01,  7.6524e-01,  9.9891e-01, -9.9811e-01,\n",
              "         -9.8962e-01, -9.9237e-01,  3.4066e-01,  7.2627e-01,  7.5871e-01,\n",
              "          2.3562e-01,  9.8334e-01,  9.9914e-01,  8.0533e-01, -9.9862e-01,\n",
              "         -3.9794e-01,  9.8990e-01, -1.6824e-01,  9.9999e-01, -2.3980e-01,\n",
              "         -9.9989e-01, -7.6499e-01,  9.5384e-01,  9.9471e-01, -2.8187e-01,\n",
              "          9.9189e-01, -6.5893e-01, -1.6034e-01,  9.8427e-01, -9.9710e-01,\n",
              "          9.9902e-01, -1.8699e-02,  7.8411e-01,  9.3119e-01,  9.9607e-01,\n",
              "         -8.7936e-01, -5.3395e-02,  1.7906e-01, -7.3194e-01,  9.9992e-01,\n",
              "         -9.9973e-01, -2.0951e-01,  5.8937e-01, -9.9653e-01, -9.9884e-01,\n",
              "          9.9075e-01, -1.1978e-02, -6.6727e-01, -2.5673e-01,  6.3098e-01,\n",
              "          2.3949e-01,  9.3440e-01,  9.9259e-01, -7.1705e-01, -6.9277e-01,\n",
              "         -9.9987e-01, -9.9827e-01, -9.2429e-01, -9.7353e-01,  6.9525e-02,\n",
              "          7.2514e-01, -4.0677e-01, -9.6135e-01, -9.9888e-01,  9.7855e-01,\n",
              "          8.5657e-01, -9.0512e-01, -9.3209e-02, -6.5795e-01, -9.9887e-01,\n",
              "          7.2851e-01, -8.6068e-01, -9.9934e-01,  9.9975e-01, -8.1614e-01,\n",
              "          9.9757e-01,  9.8601e-01, -9.9681e-01,  7.4952e-01, -9.9918e-01,\n",
              "         -1.6216e-01, -9.9850e-01,  4.1192e-01,  7.2014e-01, -7.9617e-01,\n",
              "         -1.3726e-01,  9.9694e-01, -9.8492e-01, -6.7246e-01,  8.7070e-01,\n",
              "         -9.9995e-01,  9.5671e-01, -2.2478e-01,  9.9950e-01,  9.3911e-01,\n",
              "         -6.4271e-02,  9.9242e-01,  9.2891e-01, -9.9318e-01, -9.9988e-01,\n",
              "          9.1050e-01,  9.8002e-01, -9.9572e-01, -2.5988e-01,  9.9997e-01,\n",
              "         -9.9905e-01, -8.7638e-01, -9.6978e-01, -9.9685e-01, -9.9986e-01,\n",
              "          2.4062e-01, -8.9957e-01,  1.4943e-01,  9.9213e-01,  1.4707e-01,\n",
              "          2.6789e-01,  9.9573e-01,  9.9762e-01,  2.1894e-01, -2.8401e-01,\n",
              "          4.9546e-02, -9.8529e-01, -9.8787e-01,  6.4702e-01,  2.5477e-01,\n",
              "         -9.9998e-01,  9.9992e-01, -9.9734e-01,  9.9890e-01,  9.2645e-01,\n",
              "         -9.9588e-01,  8.9993e-01,  1.5607e-01, -9.7833e-01,  3.2588e-02,\n",
              "          9.9996e-01,  9.9291e-01,  1.5245e-03,  1.6145e-01,  8.5900e-01,\n",
              "         -2.8091e-01,  6.4488e-01, -8.3047e-01, -7.0716e-01,  1.6929e-01,\n",
              "         -9.4489e-01,  9.9457e-01,  7.3481e-01, -9.9448e-01,  9.9761e-01,\n",
              "          1.9254e-02,  7.8109e-01, -8.3572e-01,  9.2585e-01,  9.9513e-01,\n",
              "          9.2173e-02, -3.6729e-01, -1.0527e-01, -5.9477e-01, -9.8598e-01,\n",
              "          2.3734e-01, -9.9809e-01, -3.1526e-01,  9.5992e-01,  9.9457e-01,\n",
              "         -9.9567e-01,  9.9784e-01, -1.9860e-01,  8.9054e-01, -9.9877e-01,\n",
              "          9.9999e-01, -9.9930e-01,  6.7853e-02,  7.9721e-01, -9.3428e-01,\n",
              "         -3.9408e-01,  9.9451e-01,  9.8575e-01,  9.8176e-01, -9.4540e-01,\n",
              "         -6.8420e-01,  9.1002e-01,  9.8292e-01, -9.9063e-01, -6.5276e-02,\n",
              "         -9.9958e-01, -6.3838e-01,  9.9767e-01,  9.9761e-01, -7.4287e-02,\n",
              "         -1.2196e-01, -9.9808e-01,  9.8061e-01, -8.9943e-01, -8.9333e-01,\n",
              "         -1.3483e-01, -8.1800e-01,  7.0089e-01,  9.9867e-01, -6.4981e-01,\n",
              "          7.8160e-01,  2.5102e-01, -9.9420e-01,  7.0779e-01,  8.5758e-01,\n",
              "          9.9991e-01, -9.8188e-01,  4.6234e-01,  9.9127e-01, -2.2057e-01,\n",
              "         -7.3187e-01,  6.1716e-01,  9.9916e-01, -9.8290e-01, -1.5840e-01,\n",
              "         -9.9981e-01, -8.3549e-02, -8.1318e-01, -2.2999e-01, -4.3033e-01,\n",
              "          2.9472e-02, -8.3147e-01,  9.5945e-01,  1.2956e-01,  7.9029e-01,\n",
              "         -5.6542e-01,  9.8774e-01, -1.0040e-01, -1.1633e-01, -4.0589e-01,\n",
              "         -4.6485e-04,  4.4326e-01,  3.3299e-01,  9.8895e-01, -9.8560e-01,\n",
              "          9.9986e-01, -5.1140e-01, -9.9998e-01, -9.9837e-01, -8.1443e-01,\n",
              "         -9.9976e-01,  8.0521e-01, -9.9798e-01,  9.9423e-01,  9.4428e-01,\n",
              "         -9.9908e-01, -9.9949e-01, -9.9925e-01, -9.9883e-01,  8.4861e-01,\n",
              "          6.3987e-01,  4.6258e-02,  3.4406e-01,  3.7778e-01,  1.1213e-01,\n",
              "         -1.3014e-01, -1.3296e-02, -9.6344e-01, -6.5289e-01, -9.9935e-01,\n",
              "          8.0690e-01, -9.9998e-01, -7.4265e-01,  9.9789e-01, -9.9613e-01,\n",
              "         -9.6026e-01, -9.6639e-01, -8.3994e-01, -8.9327e-01,  3.0305e-01,\n",
              "          9.9323e-01,  1.8083e-01, -6.8211e-01, -9.9967e-01,  9.9390e-01,\n",
              "         -8.6159e-01,  1.6231e-01, -8.2088e-01, -9.8730e-01,  9.9984e-01,\n",
              "          8.2728e-01, -1.9999e-01, -2.3706e-01, -9.9956e-01,  9.9239e-01,\n",
              "         -9.5675e-01, -9.1498e-01, -9.9240e-01,  3.2139e-01, -9.7188e-01,\n",
              "         -9.9991e-01, -2.9137e-02,  9.9836e-01,  9.9815e-01,  9.8447e-01,\n",
              "          3.3851e-01, -4.8214e-01, -9.6729e-01,  1.3511e-01, -9.9997e-01,\n",
              "          7.8293e-01,  8.4367e-01, -9.8934e-01, -8.1864e-01,  9.9612e-01,\n",
              "          9.8727e-01, -9.5058e-01, -9.9024e-01,  8.9512e-01,  4.4138e-01,\n",
              "          9.8501e-01, -5.8932e-01, -5.5020e-01,  3.6919e-01,  2.3085e-02,\n",
              "         -9.9550e-01, -9.3913e-01,  9.9759e-01, -9.9939e-01,  9.8624e-01,\n",
              "          9.9686e-01,  9.9915e-01, -3.2269e-01, -3.5215e-02, -9.9297e-01,\n",
              "         -9.9742e-01, -7.1698e-01,  3.9239e-01, -9.9997e-01,  9.9995e-01,\n",
              "         -9.9998e-01,  5.4064e-01, -5.1771e-01,  9.0432e-01,  9.9546e-01,\n",
              "         -3.0212e-01, -9.9995e-01, -9.9989e-01,  6.5958e-01,  9.2533e-02,\n",
              "          9.9608e-01,  2.2348e-01,  2.7384e-01, -7.0742e-01,  4.3163e-03,\n",
              "          9.9870e-01, -9.2311e-01, -6.9377e-01, -9.9889e-01,  9.9984e-01,\n",
              "          7.9735e-01, -9.9906e-01,  9.9703e-01, -9.9975e-01,  8.8157e-01,\n",
              "          9.9008e-01,  8.9913e-01,  9.9076e-01, -9.9939e-01,  9.9998e-01,\n",
              "         -9.9990e-01,  9.9920e-01, -9.9999e-01, -9.9944e-01,  9.9991e-01,\n",
              "         -9.9528e-01, -7.4145e-01, -9.9987e-01, -9.9858e-01,  6.7188e-01,\n",
              "          2.2309e-01, -4.3408e-01,  9.9354e-01, -9.9992e-01, -9.9928e-01,\n",
              "          4.9767e-01, -9.5548e-01, -8.2993e-01,  9.9658e-01, -7.0160e-01,\n",
              "          9.9550e-01, -1.9157e-01,  9.7643e-01,  2.1139e-01,  9.9697e-01,\n",
              "          9.9888e-01, -8.5538e-01, -7.1298e-01, -9.9605e-01,  9.9483e-01,\n",
              "         -6.5900e-01,  3.9720e-01,  9.8150e-01,  1.7064e-01, -7.0870e-01,\n",
              "          6.0218e-01, -9.9862e-01,  5.1177e-01, -3.2308e-01,  8.4586e-01,\n",
              "          9.5683e-01,  8.5379e-01, -8.8893e-02, -5.5342e-01, -1.3026e-01,\n",
              "         -9.9641e-01,  6.1507e-01, -9.9977e-01,  9.8898e-01, -9.6733e-01,\n",
              "          5.3558e-02, -4.2255e-01,  5.0891e-01, -9.7624e-01,  9.9973e-01,\n",
              "          9.9928e-01, -9.9925e-01,  2.6996e-02,  9.9529e-01, -7.0156e-01,\n",
              "          9.8932e-01, -9.9649e-01,  2.9947e-02,  9.4268e-01, -8.5131e-01,\n",
              "          9.9267e-01,  2.1660e-01, -1.0160e-01,  9.8544e-01, -9.9761e-01,\n",
              "         -9.2310e-01, -7.8061e-01,  4.3193e-01,  7.8931e-02, -9.8515e-01,\n",
              "          3.2763e-02,  9.8998e-01, -2.6294e-01, -9.9987e-01,  9.7699e-01,\n",
              "         -9.9968e-01, -1.5082e-01,  9.8983e-01, -4.7115e-01,  9.9996e-01,\n",
              "         -7.7075e-01,  1.8022e-01,  1.5196e-01, -9.9988e-01, -9.9932e-01,\n",
              "          2.4979e-02, -9.8292e-02, -9.4943e-01,  9.9952e-01,  1.5493e-01,\n",
              "          8.4964e-01, -9.9995e-01,  4.0915e-01,  9.9784e-01,  2.7522e-01,\n",
              "          8.8668e-01, -7.8143e-01, -9.8588e-01, -9.5724e-01, -7.2927e-01,\n",
              "          6.7052e-02,  8.9992e-01, -9.9287e-01, -9.0569e-01, -8.5628e-01,\n",
              "          9.9998e-01, -9.9872e-01, -9.4701e-01, -9.9304e-01,  4.2363e-01,\n",
              "          9.0603e-01,  4.6482e-01,  1.2299e-01, -8.3961e-01,  9.2184e-01,\n",
              "         -9.1170e-01,  9.9810e-01, -9.9753e-01, -9.9808e-01,  9.9986e-01,\n",
              "          6.7248e-01, -9.9646e-01,  2.5841e-02, -3.0773e-01,  1.4896e-01,\n",
              "          1.7074e-01,  7.7890e-01, -9.6422e-01, -2.5664e-01, -9.9937e-01,\n",
              "          8.8728e-01, -8.7046e-01, -9.9528e-01, -6.5209e-01, -4.0613e-01,\n",
              "         -9.9841e-01,  9.9626e-01,  9.8284e-01,  9.9997e-01, -9.9990e-01,\n",
              "          8.7576e-01,  2.3158e-01,  9.9955e-01,  4.4685e-02, -6.6868e-01,\n",
              "          9.4663e-01,  9.9985e-01, -7.6375e-01,  9.1228e-01, -1.9963e-01,\n",
              "         -6.8380e-02,  3.7708e-01, -6.4971e-01,  9.9797e-01, -9.4422e-01,\n",
              "          2.3098e-01, -9.8676e-01, -9.9995e-01,  9.9996e-01, -2.6274e-03,\n",
              "          9.9457e-01,  3.6622e-01,  6.6291e-01, -9.2303e-01,  9.7670e-01,\n",
              "         -9.8737e-01, -9.4102e-01, -9.9999e-01,  1.6964e-01, -9.9910e-01,\n",
              "         -9.9426e-01,  7.8861e-02,  9.9271e-01, -9.9976e-01, -9.9540e-01,\n",
              "         -4.8687e-01, -9.9999e-01,  9.6576e-01, -9.9371e-01, -8.4416e-01,\n",
              "         -9.9093e-01,  9.9902e-01, -2.9289e-01, -7.0744e-01,  9.8133e-01,\n",
              "         -9.8406e-01,  9.5418e-01,  9.6899e-01,  6.6659e-02,  1.9564e-01,\n",
              "          1.7572e-01, -7.6356e-01, -9.9811e-01, -9.4912e-01, -9.7930e-01,\n",
              "          9.0922e-01, -9.9434e-01, -9.1089e-01,  9.9809e-01,  9.9469e-01,\n",
              "         -9.9946e-01, -9.9776e-01,  9.9797e-01, -2.7316e-01,  9.9436e-01,\n",
              "         -5.2667e-01, -9.9992e-01, -9.9995e-01,  2.1215e-01, -9.7849e-02,\n",
              "          9.9689e-01, -4.4507e-01,  9.9420e-01,  7.8455e-01, -3.5306e-01,\n",
              "          7.2635e-01, -4.6065e-01, -1.4534e-01, -5.0056e-01, -8.9436e-02,\n",
              "          9.9998e-01, -7.5874e-01,  9.9352e-01]], grad_fn=<TanhBackward0>), hidden_states=(tensor([[[ 0.4496,  0.0977, -0.2074,  ...,  0.0578,  0.0406, -0.0951],\n",
              "         [-1.0412,  0.2393,  0.6613,  ...,  1.1994, -0.8032,  0.5556],\n",
              "         [-1.3089,  1.2160,  0.0806,  ...,  0.2843,  0.0514, -0.6251],\n",
              "         ...,\n",
              "         [-0.0698, -0.8814, -1.4375,  ..., -0.3272,  0.7296, -0.3084],\n",
              "         [-0.6644,  0.7656,  0.7881,  ...,  0.2375,  0.6693,  0.1406],\n",
              "         [-0.0243,  0.0942,  0.3488,  ...,  0.6205, -0.5768,  0.5056]]],\n",
              "       grad_fn=<NativeLayerNormBackward0>), tensor([[[ 0.3091, -0.0160, -0.1405,  ...,  0.0668,  0.0041, -0.1153],\n",
              "         [-1.2751,  0.2171,  0.8287,  ...,  1.3497, -1.2096,  1.0887],\n",
              "         [-1.0918,  1.7747, -0.1550,  ...,  0.1273,  0.4815, -0.3566],\n",
              "         ...,\n",
              "         [ 0.1945, -1.2395, -1.5852,  ..., -0.8445,  0.4122, -0.2420],\n",
              "         [-0.1022,  0.3128,  0.2575,  ..., -0.0345,  0.3328, -0.0108],\n",
              "         [ 0.1472, -0.1796,  0.2413,  ...,  0.8151, -0.6615,  0.4650]]],\n",
              "       grad_fn=<NativeLayerNormBackward0>), tensor([[[ 0.4439,  0.0690, -0.1435,  ...,  0.0686,  0.0397, -0.2991],\n",
              "         [-0.4269,  0.3330,  0.5836,  ...,  1.3309, -1.1687,  0.9940],\n",
              "         [-0.8100,  1.1327, -0.3200,  ..., -0.2892,  0.5458, -0.9155],\n",
              "         ...,\n",
              "         [ 0.2648, -0.8447, -0.7522,  ..., -0.7205,  0.3761, -0.2156],\n",
              "         [ 0.2738, -0.0363,  0.1472,  ..., -0.3732,  0.1371,  0.1352],\n",
              "         [ 0.0453, -0.1462,  0.0612,  ...,  0.2608, -0.1950,  0.0593]]],\n",
              "       grad_fn=<NativeLayerNormBackward0>), tensor([[[ 0.7586,  0.3376,  0.0618,  ..., -0.1165,  0.1828,  0.1492],\n",
              "         [-0.1758,  0.0377,  0.4815,  ...,  0.8882, -0.8061,  1.0009],\n",
              "         [-0.3881,  1.0278, -0.8841,  ..., -0.1148,  0.7784, -0.6998],\n",
              "         ...,\n",
              "         [ 0.7015, -1.0938, -0.6919,  ..., -0.5079,  0.6004,  0.0877],\n",
              "         [ 0.4926,  0.1324,  0.2067,  ..., -0.2448,  0.0894,  0.2444],\n",
              "         [ 0.0548, -0.1032,  0.0547,  ...,  0.0166, -0.0583,  0.0616]]],\n",
              "       grad_fn=<NativeLayerNormBackward0>), tensor([[[ 0.7812,  0.1692, -0.1041,  ..., -0.3822,  0.3229,  0.0116],\n",
              "         [-0.2079, -0.4322,  0.3504,  ...,  0.8933, -0.7955,  1.3776],\n",
              "         [-0.5558,  0.8647, -0.5010,  ...,  0.2468,  0.8579, -0.4225],\n",
              "         ...,\n",
              "         [ 1.2170, -1.5008, -0.4426,  ..., -0.6912,  0.6664,  0.3291],\n",
              "         [ 0.2744, -0.0702,  0.2230,  ..., -0.1901,  0.0219,  0.5061],\n",
              "         [ 0.0308, -0.0641,  0.0182,  ..., -0.0076, -0.0438, -0.0125]]],\n",
              "       grad_fn=<NativeLayerNormBackward0>), tensor([[[ 0.8079, -0.0590, -0.2448,  ..., -0.5199,  0.3111,  0.0874],\n",
              "         [-0.4532, -0.1646,  0.3323,  ...,  0.7295, -0.7034,  1.4947],\n",
              "         [-0.4091,  0.8764, -0.1299,  ...,  0.2970,  0.3492, -0.2715],\n",
              "         ...,\n",
              "         [ 0.7904, -1.2582, -0.7064,  ..., -0.9568,  0.8547,  0.6993],\n",
              "         [ 0.5956,  0.1870,  0.3223,  ..., -0.3295, -0.0762,  0.7925],\n",
              "         [-0.0209, -0.0463,  0.0309,  ..., -0.0294, -0.0579, -0.0341]]],\n",
              "       grad_fn=<NativeLayerNormBackward0>), tensor([[[ 0.8853, -0.2392, -0.3842,  ..., -0.5922,  0.0118,  0.1268],\n",
              "         [-0.4871, -0.4431, -0.1509,  ...,  0.6138, -0.7314,  1.4559],\n",
              "         [ 0.1060,  0.9490,  0.0056,  ..., -0.0664, -0.1201, -0.2254],\n",
              "         ...,\n",
              "         [ 0.1362, -0.8065, -0.4735,  ..., -0.7007,  0.4160,  0.9482],\n",
              "         [ 0.7386,  0.1984, -0.1066,  ..., -0.3197, -0.2474,  0.9003],\n",
              "         [-0.0232, -0.0307,  0.0187,  ..., -0.0314, -0.0266, -0.0663]]],\n",
              "       grad_fn=<NativeLayerNormBackward0>), tensor([[[ 0.8297,  0.0132, -0.4994,  ..., -0.5706, -0.0384, -0.0212],\n",
              "         [-0.3748, -0.3530,  0.1098,  ...,  0.7354, -0.6403,  1.3553],\n",
              "         [ 0.0938,  0.8291, -0.2499,  ...,  0.2793, -0.0612, -0.0618],\n",
              "         ...,\n",
              "         [ 0.4243, -1.0999, -0.0063,  ..., -0.3934,  0.5529,  0.5717],\n",
              "         [ 0.6813, -0.1673,  0.0644,  ..., -0.6031, -0.2903,  1.2184],\n",
              "         [-0.0469, -0.0139,  0.0313,  ..., -0.0064, -0.0445, -0.0862]]],\n",
              "       grad_fn=<NativeLayerNormBackward0>), tensor([[[ 0.7475,  0.0465, -0.5032,  ..., -0.7347, -0.0657,  0.1422],\n",
              "         [-0.1589, -0.3087,  0.3604,  ...,  0.7721, -0.7922,  1.3588],\n",
              "         [ 0.0963,  0.6519, -0.0497,  ...,  0.7779, -0.3540,  0.0459],\n",
              "         ...,\n",
              "         [ 0.8983, -1.1376, -0.4352,  ..., -0.3882,  0.1869,  0.7793],\n",
              "         [ 0.4492, -0.3236, -0.0329,  ..., -0.6625, -0.2791,  0.9386],\n",
              "         [-0.0068,  0.0559,  0.0225,  ...,  0.0106, -0.0106, -0.1067]]],\n",
              "       grad_fn=<NativeLayerNormBackward0>), tensor([[[ 1.0078,  0.3569, -0.4351,  ..., -0.6638,  0.2264, -0.1692],\n",
              "         [ 0.1677, -0.2875,  0.1072,  ...,  0.5405, -1.1098,  1.4188],\n",
              "         [-0.1218,  0.3892, -0.2388,  ...,  0.7685, -0.5254,  0.1552],\n",
              "         ...,\n",
              "         [ 0.3321, -1.0622, -0.2405,  ..., -0.0819,  0.0413, -0.0232],\n",
              "         [ 0.5068, -0.2528, -0.0141,  ..., -0.3249, -0.5777,  0.6506],\n",
              "         [-0.0181,  0.0973,  0.0198,  ...,  0.0144, -0.0206, -0.1079]]],\n",
              "       grad_fn=<NativeLayerNormBackward0>), tensor([[[ 9.8821e-01,  2.0390e-01, -4.7200e-01,  ...,  1.6089e-03,\n",
              "           1.0222e+00,  1.3012e-01],\n",
              "         [ 2.5803e-01, -6.2879e-01,  2.8979e-01,  ...,  6.2408e-01,\n",
              "          -5.1928e-01,  1.7302e+00],\n",
              "         [-6.3532e-02, -3.0809e-01, -2.2988e-01,  ...,  1.2097e+00,\n",
              "          -3.5161e-01,  4.4886e-01],\n",
              "         ...,\n",
              "         [ 4.7112e-01, -1.0200e+00, -6.5452e-02,  ...,  3.2684e-01,\n",
              "           4.8548e-01,  4.2006e-01],\n",
              "         [ 6.8566e-01, -6.2088e-01,  3.1244e-01,  ...,  2.5891e-01,\n",
              "          -1.9224e-01,  5.2971e-01],\n",
              "         [-5.4728e-02,  5.7602e-02,  4.4360e-02,  ..., -2.8439e-02,\n",
              "          -2.1099e-02, -6.0275e-02]]], grad_fn=<NativeLayerNormBackward0>), tensor([[[ 1.2112, -0.1666, -0.1347,  ..., -0.0547,  0.9207,  0.1060],\n",
              "         [ 0.5368, -0.5636,  0.2366,  ...,  0.3024, -0.1995,  0.6995],\n",
              "         [ 0.2296, -0.1764, -0.3875,  ...,  1.2083, -0.1027,  0.0920],\n",
              "         ...,\n",
              "         [ 0.3840, -0.9015, -0.0671,  ...,  0.4624,  0.6654,  0.0257],\n",
              "         [ 0.4910, -0.6438, -0.1078,  ...,  0.0352, -0.1119,  0.0891],\n",
              "         [-0.0602,  0.0498,  0.0369,  ...,  0.0045,  0.0127, -0.0460]]],\n",
              "       grad_fn=<NativeLayerNormBackward0>), tensor([[[ 0.6465, -0.0340, -0.0343,  ..., -0.2017,  0.4150, -0.0688],\n",
              "         [ 0.5861, -0.4964,  0.3969,  ..., -0.0649,  0.0623,  0.3182],\n",
              "         [ 0.3198, -0.0435, -0.3961,  ...,  0.5159, -0.0444, -0.0523],\n",
              "         ...,\n",
              "         [ 0.3881, -0.5949,  0.0154,  ...,  0.0614,  0.3631, -0.2837],\n",
              "         [ 0.5163, -0.2328, -0.0715,  ..., -0.1547,  0.1601, -0.1654],\n",
              "         [ 0.8123,  0.1996, -0.2672,  ..., -0.4530,  0.1853, -0.3697]]],\n",
              "       grad_fn=<NativeLayerNormBackward0>)), past_key_values=None, attentions=None, cross_attentions=None)"
            ]
          },
          "metadata": {},
          "execution_count": 57
        }
      ]
    },
    {
      "cell_type": "code",
      "source": [
        "len(outputs.hidden_states)\n"
      ],
      "metadata": {
        "colab": {
          "base_uri": "https://localhost:8080/"
        },
        "id": "SCszLkrKhDzM",
        "outputId": "35563a5a-e9e6-4635-fc50-b5cc4e49c3c6"
      },
      "execution_count": null,
      "outputs": [
        {
          "output_type": "execute_result",
          "data": {
            "text/plain": [
              "13"
            ]
          },
          "metadata": {},
          "execution_count": 58
        }
      ]
    },
    {
      "cell_type": "code",
      "source": [
        "for k in outputs:\n",
        "  print(k)\n",
        "  try:\n",
        "    print(type(outputs[k]), outputs[k].shape)\n",
        "  except:\n",
        "    for t in outputs[k]:\n",
        "      print(type(t), t.shape)"
      ],
      "metadata": {
        "colab": {
          "base_uri": "https://localhost:8080/"
        },
        "id": "mYbrOzs3xcC6",
        "outputId": "34b013a0-0aa1-4ac9-b2e5-dd4c356f30ab"
      },
      "execution_count": null,
      "outputs": [
        {
          "output_type": "stream",
          "name": "stdout",
          "text": [
            "last_hidden_state\n",
            "<class 'torch.Tensor'> torch.Size([1, 10, 768])\n",
            "pooler_output\n",
            "<class 'torch.Tensor'> torch.Size([1, 768])\n",
            "hidden_states\n",
            "<class 'torch.Tensor'> torch.Size([1, 10, 768])\n",
            "<class 'torch.Tensor'> torch.Size([1, 10, 768])\n",
            "<class 'torch.Tensor'> torch.Size([1, 10, 768])\n",
            "<class 'torch.Tensor'> torch.Size([1, 10, 768])\n",
            "<class 'torch.Tensor'> torch.Size([1, 10, 768])\n",
            "<class 'torch.Tensor'> torch.Size([1, 10, 768])\n",
            "<class 'torch.Tensor'> torch.Size([1, 10, 768])\n",
            "<class 'torch.Tensor'> torch.Size([1, 10, 768])\n",
            "<class 'torch.Tensor'> torch.Size([1, 10, 768])\n",
            "<class 'torch.Tensor'> torch.Size([1, 10, 768])\n",
            "<class 'torch.Tensor'> torch.Size([1, 10, 768])\n",
            "<class 'torch.Tensor'> torch.Size([1, 10, 768])\n",
            "<class 'torch.Tensor'> torch.Size([1, 10, 768])\n"
          ]
        }
      ]
    },
    {
      "cell_type": "markdown",
      "source": [
        "`hidden_states` contains intermediary layer outputs.\n",
        "\n",
        "`last_hidden_state` contains the final output, with a 768-sized embedding for each input word.\n",
        "\n",
        "`pooler_output` combines the word embeddings from the last hidden state into one sentence-level output.\n",
        "\n",
        "For retrieving word embeddings we will use `last_hidden_state`."
      ],
      "metadata": {
        "id": "Okr7Q827x-o7"
      }
    },
    {
      "cell_type": "code",
      "source": [
        "\n",
        "# first hidden layer\n",
        "outputs.hidden_states[0].size()\n",
        "\n",
        "# last hidden layer\n",
        "outputs.hidden_states[-1].size()"
      ],
      "metadata": {
        "colab": {
          "base_uri": "https://localhost:8080/"
        },
        "id": "axyaqZqGhGIz",
        "outputId": "c2e36cff-62f5-4125-c7c2-1681609e888a"
      },
      "execution_count": null,
      "outputs": [
        {
          "output_type": "execute_result",
          "data": {
            "text/plain": [
              "torch.Size([1, 10, 768])"
            ]
          },
          "metadata": {},
          "execution_count": 60
        }
      ]
    },
    {
      "cell_type": "code",
      "source": [
        "\n",
        "embedding = model.embeddings.word_embeddings\n",
        "E = embedding.weight\n",
        "E.size()"
      ],
      "metadata": {
        "colab": {
          "base_uri": "https://localhost:8080/"
        },
        "id": "ZtUKB4V-yYV8",
        "outputId": "f1465628-bfd1-4ecc-bf1c-28cc0cefe9a9"
      },
      "execution_count": null,
      "outputs": [
        {
          "output_type": "execute_result",
          "data": {
            "text/plain": [
              "torch.Size([28996, 768])"
            ]
          },
          "metadata": {},
          "execution_count": 61
        }
      ]
    },
    {
      "cell_type": "code",
      "source": [
        "def bert_text_preparation(text, tokenizer):\n",
        "    \"\"\"Preparing the input for BERT\n",
        "\n",
        "    Takes a string argument and performs\n",
        "    pre-processing like adding special tokens,\n",
        "    tokenization, tokens to ids, and tokens to\n",
        "    segment ids. All tokens are mapped to seg-\n",
        "    ment id = 1.\n",
        "\n",
        "    Args:\n",
        "        text (str): Text to be converted\n",
        "        tokenizer (obj): Tokenizer object\n",
        "            to convert text into BERT-re-\n",
        "            adable tokens and ids\n",
        "\n",
        "    Returns:\n",
        "        list: List of BERT-readable tokens\n",
        "        obj: Torch tensor with token ids\n",
        "        obj: Torch tensor segment ids\n",
        "\n",
        "\n",
        "    \"\"\"\n",
        "    marked_text = \"[CLS] \" + text + \" [SEP]\"\n",
        "    tokenized_text = tokenizer.tokenize(marked_text)\n",
        "    indexed_tokens = tokenizer.convert_tokens_to_ids(tokenized_text)\n",
        "    segments_ids = [1]*len(indexed_tokens)\n",
        "\n",
        "    # Convert inputs to PyTorch tensors\n",
        "    tokens_tensor = torch.tensor([indexed_tokens])\n",
        "    segments_tensors = torch.tensor([segments_ids])\n",
        "\n",
        "    return tokenized_text, tokens_tensor, segments_tensors"
      ],
      "metadata": {
        "id": "r79-tauq23A_"
      },
      "execution_count": null,
      "outputs": []
    },
    {
      "cell_type": "code",
      "source": [
        "bert_text_preparation(\"I like to play football.\", tokenizer)"
      ],
      "metadata": {
        "colab": {
          "base_uri": "https://localhost:8080/"
        },
        "id": "UZEBWPpX4lo4",
        "outputId": "117811f5-d8c0-4ce1-f90c-b1b494916355"
      },
      "execution_count": null,
      "outputs": [
        {
          "output_type": "execute_result",
          "data": {
            "text/plain": [
              "(['[CLS]', 'I', 'like', 'to', 'play', 'football', '.', '[SEP]'],\n",
              " tensor([[ 101,  146, 1176, 1106, 1505, 1709,  119,  102]]),\n",
              " tensor([[1, 1, 1, 1, 1, 1, 1, 1]]))"
            ]
          },
          "metadata": {},
          "execution_count": 63
        }
      ]
    },
    {
      "cell_type": "code",
      "source": [
        "bert_text_preparation(\"I never acted in a play before.\", tokenizer)"
      ],
      "metadata": {
        "colab": {
          "base_uri": "https://localhost:8080/"
        },
        "id": "IJX6RUSinNFI",
        "outputId": "3a6644d8-ad93-4ad3-b985-a460474cc95c"
      },
      "execution_count": null,
      "outputs": [
        {
          "output_type": "execute_result",
          "data": {
            "text/plain": [
              "(['[CLS]', 'I', 'never', 'acted', 'in', 'a', 'play', 'before', '.', '[SEP]'],\n",
              " tensor([[ 101,  146, 1309, 5376, 1107,  170, 1505, 1196,  119,  102]]),\n",
              " tensor([[1, 1, 1, 1, 1, 1, 1, 1, 1, 1]]))"
            ]
          },
          "metadata": {},
          "execution_count": 64
        }
      ]
    },
    {
      "cell_type": "code",
      "source": [
        "def get_bert_embeddings(tokens_tensor, segments_tensors, model):\n",
        "    \"\"\"Get embeddings from an embedding model\n",
        "\n",
        "    Args:\n",
        "        tokens_tensor (obj): Torch tensor size [n_tokens]\n",
        "            with token ids for each token in text\n",
        "        segments_tensors (obj): Torch tensor size [n_tokens]\n",
        "            with segment ids for each token in text\n",
        "        model (obj): Embedding model to generate embeddings\n",
        "            from token and segment ids\n",
        "\n",
        "    Returns:\n",
        "        list: List of list of floats of size\n",
        "            [n_tokens, n_embedding_dimensions]\n",
        "            containing embeddings for each token\n",
        "\n",
        "    \"\"\"\n",
        "\n",
        "    # Gradient calculation id disabled\n",
        "    # Model is in inference mode\n",
        "    with torch.no_grad():\n",
        "        outputs = model(tokens_tensor, segments_tensors, output_hidden_states=True)\n",
        "        # Removing the first hidden state\n",
        "        # The first state is the input state\n",
        "        hidden_states = outputs.hidden_states[1:]\n",
        "\n",
        "    # Getting embeddings from the final BERT layer\n",
        "    token_embeddings = hidden_states[-1]\n",
        "    # Collapsing the tensor into 1-dimension\n",
        "    token_embeddings = torch.squeeze(token_embeddings, dim=0)\n",
        "    # Converting torchtensors to lists\n",
        "    list_token_embeddings = [token_embed.tolist() for token_embed in token_embeddings]\n",
        "\n",
        "    return list_token_embeddings"
      ],
      "metadata": {
        "id": "UoQKa8DC0C9s"
      },
      "execution_count": null,
      "outputs": []
    },
    {
      "cell_type": "code",
      "source": [
        "text = \"I never acted in a play before.\"\n",
        "tokenized_text, tokens_tensor, segments_tensors = bert_text_preparation(text, tokenizer)\n",
        "list_token_embeddings = get_bert_embeddings(tokens_tensor, segments_tensors, model)"
      ],
      "metadata": {
        "id": "yvDgjAPcoupo"
      },
      "execution_count": null,
      "outputs": []
    },
    {
      "cell_type": "code",
      "source": [
        "len(list_token_embeddings[0])"
      ],
      "metadata": {
        "colab": {
          "base_uri": "https://localhost:8080/"
        },
        "id": "DiPIzIKXo7j_",
        "outputId": "befa206e-75f7-4b0f-c320-2787aacd13d7"
      },
      "execution_count": null,
      "outputs": [
        {
          "output_type": "execute_result",
          "data": {
            "text/plain": [
              "768"
            ]
          },
          "metadata": {},
          "execution_count": 67
        }
      ]
    },
    {
      "cell_type": "code",
      "source": [
        "texts = [\"I have never acted in a play before.\", \"I like to play football\", \"Don't play with my feelings!\"]\n",
        "\n",
        "def get_embeddings_for_texts(texts, word):\n",
        "  # Getting embeddings for the target\n",
        "  # word in all given contexts\n",
        "  target_word_embeddings = []\n",
        "\n",
        "  for text in texts:\n",
        "      tokenized_text, tokens_tensor, segments_tensors = bert_text_preparation(text, tokenizer)\n",
        "      list_token_embeddings = get_bert_embeddings(tokens_tensor, segments_tensors, model)\n",
        "\n",
        "      # Find the position of the word in list of tokens\n",
        "      if word in tokenized_text:\n",
        "        word_index = tokenized_text.index(word)\n",
        "        # Get the embedding\n",
        "        word_embedding = list_token_embeddings[word_index]\n",
        "\n",
        "        target_word_embeddings.append(word_embedding)\n",
        "  return target_word_embeddings"
      ],
      "metadata": {
        "id": "s-Y8YJ3X2mwQ"
      },
      "execution_count": null,
      "outputs": []
    },
    {
      "cell_type": "code",
      "source": [
        "from scipy.spatial.distance import cosine\n",
        "import pandas as pd\n",
        "# Calculating the distance between the\n",
        "# embeddings of 'play' in all the\n",
        "# given contexts of the word\n",
        "target_word_embeddings = get_embeddings_for_texts(texts, 'play') + get_embeddings_for_texts(texts[2:3], 'feelings')\n",
        "all_texts = texts + texts[2:3]\n",
        "all_words = ['play']*len(texts) + ['feelings']\n",
        "list_of_distances = []\n",
        "for text1, embed1, word1 in zip(all_texts, target_word_embeddings, all_words):\n",
        "    for text2, embed2, word2 in zip(all_texts, target_word_embeddings, all_words):\n",
        "        cos_dist = 1 - cosine(embed1, embed2)\n",
        "        list_of_distances.append([text1, text2, word1, word2, cos_dist])\n",
        "\n",
        "distances_df = pd.DataFrame(list_of_distances, columns=['text1', 'text2', 'word1', 'word2', 'similarity'])"
      ],
      "metadata": {
        "id": "ZoUflrL93GRT"
      },
      "execution_count": null,
      "outputs": []
    },
    {
      "cell_type": "code",
      "source": [
        "distances_df"
      ],
      "metadata": {
        "colab": {
          "base_uri": "https://localhost:8080/",
          "height": 551
        },
        "id": "ciqRyOKbD_Gz",
        "outputId": "0d0d0595-6c44-4383-da9c-9ae44a234049"
      },
      "execution_count": null,
      "outputs": [
        {
          "output_type": "execute_result",
          "data": {
            "text/plain": [
              "                                   text1  \\\n",
              "0   I have never acted in a play before.   \n",
              "1   I have never acted in a play before.   \n",
              "2   I have never acted in a play before.   \n",
              "3   I have never acted in a play before.   \n",
              "4                I like to play football   \n",
              "5                I like to play football   \n",
              "6                I like to play football   \n",
              "7                I like to play football   \n",
              "8           Don't play with my feelings!   \n",
              "9           Don't play with my feelings!   \n",
              "10          Don't play with my feelings!   \n",
              "11          Don't play with my feelings!   \n",
              "12          Don't play with my feelings!   \n",
              "13          Don't play with my feelings!   \n",
              "14          Don't play with my feelings!   \n",
              "15          Don't play with my feelings!   \n",
              "\n",
              "                                   text2     word1     word2  similarity  \n",
              "0   I have never acted in a play before.      play      play    1.000000  \n",
              "1                I like to play football      play      play    0.701985  \n",
              "2           Don't play with my feelings!      play      play    0.656635  \n",
              "3           Don't play with my feelings!      play  feelings    0.656109  \n",
              "4   I have never acted in a play before.      play      play    0.701985  \n",
              "5                I like to play football      play      play    1.000000  \n",
              "6           Don't play with my feelings!      play      play    0.745610  \n",
              "7           Don't play with my feelings!      play  feelings    0.620524  \n",
              "8   I have never acted in a play before.      play      play    0.656635  \n",
              "9                I like to play football      play      play    0.745610  \n",
              "10          Don't play with my feelings!      play      play    1.000000  \n",
              "11          Don't play with my feelings!      play  feelings    0.566475  \n",
              "12  I have never acted in a play before.  feelings      play    0.656109  \n",
              "13               I like to play football  feelings      play    0.620524  \n",
              "14          Don't play with my feelings!  feelings      play    0.566475  \n",
              "15          Don't play with my feelings!  feelings  feelings    1.000000  "
            ],
            "text/html": [
              "\n",
              "  <div id=\"df-7c8478f7-16ec-4933-996f-1769e4aa8c2d\">\n",
              "    <div class=\"colab-df-container\">\n",
              "      <div>\n",
              "<style scoped>\n",
              "    .dataframe tbody tr th:only-of-type {\n",
              "        vertical-align: middle;\n",
              "    }\n",
              "\n",
              "    .dataframe tbody tr th {\n",
              "        vertical-align: top;\n",
              "    }\n",
              "\n",
              "    .dataframe thead th {\n",
              "        text-align: right;\n",
              "    }\n",
              "</style>\n",
              "<table border=\"1\" class=\"dataframe\">\n",
              "  <thead>\n",
              "    <tr style=\"text-align: right;\">\n",
              "      <th></th>\n",
              "      <th>text1</th>\n",
              "      <th>text2</th>\n",
              "      <th>word1</th>\n",
              "      <th>word2</th>\n",
              "      <th>similarity</th>\n",
              "    </tr>\n",
              "  </thead>\n",
              "  <tbody>\n",
              "    <tr>\n",
              "      <th>0</th>\n",
              "      <td>I have never acted in a play before.</td>\n",
              "      <td>I have never acted in a play before.</td>\n",
              "      <td>play</td>\n",
              "      <td>play</td>\n",
              "      <td>1.000000</td>\n",
              "    </tr>\n",
              "    <tr>\n",
              "      <th>1</th>\n",
              "      <td>I have never acted in a play before.</td>\n",
              "      <td>I like to play football</td>\n",
              "      <td>play</td>\n",
              "      <td>play</td>\n",
              "      <td>0.701985</td>\n",
              "    </tr>\n",
              "    <tr>\n",
              "      <th>2</th>\n",
              "      <td>I have never acted in a play before.</td>\n",
              "      <td>Don't play with my feelings!</td>\n",
              "      <td>play</td>\n",
              "      <td>play</td>\n",
              "      <td>0.656635</td>\n",
              "    </tr>\n",
              "    <tr>\n",
              "      <th>3</th>\n",
              "      <td>I have never acted in a play before.</td>\n",
              "      <td>Don't play with my feelings!</td>\n",
              "      <td>play</td>\n",
              "      <td>feelings</td>\n",
              "      <td>0.656109</td>\n",
              "    </tr>\n",
              "    <tr>\n",
              "      <th>4</th>\n",
              "      <td>I like to play football</td>\n",
              "      <td>I have never acted in a play before.</td>\n",
              "      <td>play</td>\n",
              "      <td>play</td>\n",
              "      <td>0.701985</td>\n",
              "    </tr>\n",
              "    <tr>\n",
              "      <th>5</th>\n",
              "      <td>I like to play football</td>\n",
              "      <td>I like to play football</td>\n",
              "      <td>play</td>\n",
              "      <td>play</td>\n",
              "      <td>1.000000</td>\n",
              "    </tr>\n",
              "    <tr>\n",
              "      <th>6</th>\n",
              "      <td>I like to play football</td>\n",
              "      <td>Don't play with my feelings!</td>\n",
              "      <td>play</td>\n",
              "      <td>play</td>\n",
              "      <td>0.745610</td>\n",
              "    </tr>\n",
              "    <tr>\n",
              "      <th>7</th>\n",
              "      <td>I like to play football</td>\n",
              "      <td>Don't play with my feelings!</td>\n",
              "      <td>play</td>\n",
              "      <td>feelings</td>\n",
              "      <td>0.620524</td>\n",
              "    </tr>\n",
              "    <tr>\n",
              "      <th>8</th>\n",
              "      <td>Don't play with my feelings!</td>\n",
              "      <td>I have never acted in a play before.</td>\n",
              "      <td>play</td>\n",
              "      <td>play</td>\n",
              "      <td>0.656635</td>\n",
              "    </tr>\n",
              "    <tr>\n",
              "      <th>9</th>\n",
              "      <td>Don't play with my feelings!</td>\n",
              "      <td>I like to play football</td>\n",
              "      <td>play</td>\n",
              "      <td>play</td>\n",
              "      <td>0.745610</td>\n",
              "    </tr>\n",
              "    <tr>\n",
              "      <th>10</th>\n",
              "      <td>Don't play with my feelings!</td>\n",
              "      <td>Don't play with my feelings!</td>\n",
              "      <td>play</td>\n",
              "      <td>play</td>\n",
              "      <td>1.000000</td>\n",
              "    </tr>\n",
              "    <tr>\n",
              "      <th>11</th>\n",
              "      <td>Don't play with my feelings!</td>\n",
              "      <td>Don't play with my feelings!</td>\n",
              "      <td>play</td>\n",
              "      <td>feelings</td>\n",
              "      <td>0.566475</td>\n",
              "    </tr>\n",
              "    <tr>\n",
              "      <th>12</th>\n",
              "      <td>Don't play with my feelings!</td>\n",
              "      <td>I have never acted in a play before.</td>\n",
              "      <td>feelings</td>\n",
              "      <td>play</td>\n",
              "      <td>0.656109</td>\n",
              "    </tr>\n",
              "    <tr>\n",
              "      <th>13</th>\n",
              "      <td>Don't play with my feelings!</td>\n",
              "      <td>I like to play football</td>\n",
              "      <td>feelings</td>\n",
              "      <td>play</td>\n",
              "      <td>0.620524</td>\n",
              "    </tr>\n",
              "    <tr>\n",
              "      <th>14</th>\n",
              "      <td>Don't play with my feelings!</td>\n",
              "      <td>Don't play with my feelings!</td>\n",
              "      <td>feelings</td>\n",
              "      <td>play</td>\n",
              "      <td>0.566475</td>\n",
              "    </tr>\n",
              "    <tr>\n",
              "      <th>15</th>\n",
              "      <td>Don't play with my feelings!</td>\n",
              "      <td>Don't play with my feelings!</td>\n",
              "      <td>feelings</td>\n",
              "      <td>feelings</td>\n",
              "      <td>1.000000</td>\n",
              "    </tr>\n",
              "  </tbody>\n",
              "</table>\n",
              "</div>\n",
              "      <button class=\"colab-df-convert\" onclick=\"convertToInteractive('df-7c8478f7-16ec-4933-996f-1769e4aa8c2d')\"\n",
              "              title=\"Convert this dataframe to an interactive table.\"\n",
              "              style=\"display:none;\">\n",
              "        \n",
              "  <svg xmlns=\"http://www.w3.org/2000/svg\" height=\"24px\"viewBox=\"0 0 24 24\"\n",
              "       width=\"24px\">\n",
              "    <path d=\"M0 0h24v24H0V0z\" fill=\"none\"/>\n",
              "    <path d=\"M18.56 5.44l.94 2.06.94-2.06 2.06-.94-2.06-.94-.94-2.06-.94 2.06-2.06.94zm-11 1L8.5 8.5l.94-2.06 2.06-.94-2.06-.94L8.5 2.5l-.94 2.06-2.06.94zm10 10l.94 2.06.94-2.06 2.06-.94-2.06-.94-.94-2.06-.94 2.06-2.06.94z\"/><path d=\"M17.41 7.96l-1.37-1.37c-.4-.4-.92-.59-1.43-.59-.52 0-1.04.2-1.43.59L10.3 9.45l-7.72 7.72c-.78.78-.78 2.05 0 2.83L4 21.41c.39.39.9.59 1.41.59.51 0 1.02-.2 1.41-.59l7.78-7.78 2.81-2.81c.8-.78.8-2.07 0-2.86zM5.41 20L4 18.59l7.72-7.72 1.47 1.35L5.41 20z\"/>\n",
              "  </svg>\n",
              "      </button>\n",
              "      \n",
              "  <style>\n",
              "    .colab-df-container {\n",
              "      display:flex;\n",
              "      flex-wrap:wrap;\n",
              "      gap: 12px;\n",
              "    }\n",
              "\n",
              "    .colab-df-convert {\n",
              "      background-color: #E8F0FE;\n",
              "      border: none;\n",
              "      border-radius: 50%;\n",
              "      cursor: pointer;\n",
              "      display: none;\n",
              "      fill: #1967D2;\n",
              "      height: 32px;\n",
              "      padding: 0 0 0 0;\n",
              "      width: 32px;\n",
              "    }\n",
              "\n",
              "    .colab-df-convert:hover {\n",
              "      background-color: #E2EBFA;\n",
              "      box-shadow: 0px 1px 2px rgba(60, 64, 67, 0.3), 0px 1px 3px 1px rgba(60, 64, 67, 0.15);\n",
              "      fill: #174EA6;\n",
              "    }\n",
              "\n",
              "    [theme=dark] .colab-df-convert {\n",
              "      background-color: #3B4455;\n",
              "      fill: #D2E3FC;\n",
              "    }\n",
              "\n",
              "    [theme=dark] .colab-df-convert:hover {\n",
              "      background-color: #434B5C;\n",
              "      box-shadow: 0px 1px 3px 1px rgba(0, 0, 0, 0.15);\n",
              "      filter: drop-shadow(0px 1px 2px rgba(0, 0, 0, 0.3));\n",
              "      fill: #FFFFFF;\n",
              "    }\n",
              "  </style>\n",
              "\n",
              "      <script>\n",
              "        const buttonEl =\n",
              "          document.querySelector('#df-7c8478f7-16ec-4933-996f-1769e4aa8c2d button.colab-df-convert');\n",
              "        buttonEl.style.display =\n",
              "          google.colab.kernel.accessAllowed ? 'block' : 'none';\n",
              "\n",
              "        async function convertToInteractive(key) {\n",
              "          const element = document.querySelector('#df-7c8478f7-16ec-4933-996f-1769e4aa8c2d');\n",
              "          const dataTable =\n",
              "            await google.colab.kernel.invokeFunction('convertToInteractive',\n",
              "                                                     [key], {});\n",
              "          if (!dataTable) return;\n",
              "\n",
              "          const docLinkHtml = 'Like what you see? Visit the ' +\n",
              "            '<a target=\"_blank\" href=https://colab.research.google.com/notebooks/data_table.ipynb>data table notebook</a>'\n",
              "            + ' to learn more about interactive tables.';\n",
              "          element.innerHTML = '';\n",
              "          dataTable['output_type'] = 'display_data';\n",
              "          await google.colab.output.renderOutput(dataTable, element);\n",
              "          const docLink = document.createElement('div');\n",
              "          docLink.innerHTML = docLinkHtml;\n",
              "          element.appendChild(docLink);\n",
              "        }\n",
              "      </script>\n",
              "    </div>\n",
              "  </div>\n",
              "  "
            ]
          },
          "metadata": {},
          "execution_count": 70
        }
      ]
    },
    {
      "cell_type": "markdown",
      "source": [
        "More transformer resources:\n",
        "\n",
        "- BERT paper: https://arxiv.org/abs/1810.04805\n",
        "- https://jalammar.github.io/a-visual-guide-to-using-bert-for-the-first-time/\n",
        "- Repository of pretrained models: https://huggingface.co/\n",
        "- Romanian BERT: https://huggingface.co/readerbench/RoBERT-base\n"
      ],
      "metadata": {
        "id": "eeu1wj6jEf-r"
      }
    },
    {
      "cell_type": "markdown",
      "source": [
        "# Exercises (1p)"
      ],
      "metadata": {
        "id": "KaAA6NKb0tQ9"
      }
    },
    {
      "cell_type": "markdown",
      "source": [
        "1. Find a sentence in a news article online and store it in a python variable. Lemmatize the text. Compute the semantic similarity (based on pretrained word embeddings) between each original word in the text and its lemma."
      ],
      "metadata": {
        "id": "l77Ax2bb3i-F"
      }
    },
    {
      "cell_type": "code",
      "source": [
        "import gensim\n",
        "import gensim.downloader\n",
        "embeddings = gensim.downloader.load('fasttext-wiki-news-subwords-300')"
      ],
      "metadata": {
        "id": "YFdammg9dJ8m"
      },
      "execution_count": null,
      "outputs": []
    },
    {
      "cell_type": "code",
      "source": [
        "text = \"Liverpool were much better in the second half but I only really felt like they were going to score a second goal once Roberto Firmino came on, with 12 minutes to go.\""
      ],
      "metadata": {
        "id": "pUuSfYM4eLcS"
      },
      "execution_count": null,
      "outputs": []
    },
    {
      "cell_type": "code",
      "source": [
        "import nltk\n",
        "nltk.download('punkt')\n",
        "nltk.download('wordnet')\n",
        "nltk.download('averaged_perceptron_tagger')\n",
        "\n",
        "from nltk import word_tokenize\n",
        "from nltk.stem import WordNetLemmatizer\n",
        "from nltk.corpus import wordnet as wn"
      ],
      "metadata": {
        "colab": {
          "base_uri": "https://localhost:8080/"
        },
        "id": "s0-MymJEc2fA",
        "outputId": "a3ad3716-4f69-4b7e-8c95-85613bdce4aa"
      },
      "execution_count": null,
      "outputs": [
        {
          "output_type": "stream",
          "name": "stderr",
          "text": [
            "[nltk_data] Downloading package punkt to /root/nltk_data...\n",
            "[nltk_data]   Package punkt is already up-to-date!\n",
            "[nltk_data] Downloading package wordnet to /root/nltk_data...\n",
            "[nltk_data]   Package wordnet is already up-to-date!\n",
            "[nltk_data] Downloading package averaged_perceptron_tagger to\n",
            "[nltk_data]     /root/nltk_data...\n",
            "[nltk_data]   Package averaged_perceptron_tagger is already up-to-\n",
            "[nltk_data]       date!\n"
          ]
        }
      ]
    },
    {
      "cell_type": "code",
      "source": [
        "tag_map = {\n",
        "    'J': wn.ADJ,\n",
        "    'V': wn.VERB,\n",
        "    'R': wn.ADV,\n",
        "    'N': wn.NOUN\n",
        "}"
      ],
      "metadata": {
        "id": "u2ZAGfBOqh5n"
      },
      "execution_count": null,
      "outputs": []
    },
    {
      "cell_type": "code",
      "source": [
        "lemmatizer = WordNetLemmatizer()\n",
        "original_sentence = word_tokenize(text.lower())\n",
        "lemmatized_sentence = [lemmatizer.lemmatize(w, pos=tag_map.get(p[0], wn.NOUN)) for (w, p) in nltk.pos_tag(word_tokenize(text.lower()))]"
      ],
      "metadata": {
        "id": "sA9kqzUEn0hv"
      },
      "execution_count": null,
      "outputs": []
    },
    {
      "cell_type": "code",
      "source": [
        "print(len(original_sentence), len(lemmatized_sentence))"
      ],
      "metadata": {
        "colab": {
          "base_uri": "https://localhost:8080/"
        },
        "id": "bTSw9mK0n0Tb",
        "outputId": "1756d34e-8b88-465c-9d2d-cc22ccc9d0e2"
      },
      "execution_count": null,
      "outputs": [
        {
          "output_type": "stream",
          "name": "stdout",
          "text": [
            "34 34\n"
          ]
        }
      ]
    },
    {
      "cell_type": "code",
      "source": [
        "for w1, w2 in zip(original_sentence, lemmatized_sentence):\n",
        "  if w1 != w2:\n",
        "    print(\"(%s, %s): %.4f\" % (w1, w2, embeddings.similarity(w1, w2)))"
      ],
      "metadata": {
        "colab": {
          "base_uri": "https://localhost:8080/"
        },
        "id": "k_hN7olgpdQJ",
        "outputId": "597923e0-07f9-4479-c20c-77b4da8f4b7f"
      },
      "execution_count": null,
      "outputs": [
        {
          "output_type": "stream",
          "name": "stdout",
          "text": [
            "(were, be): 0.6399\n",
            "(better, well): 0.6221\n",
            "(were, be): 0.6399\n",
            "(going, go): 0.7629\n",
            "(came, come): 0.7517\n",
            "(minutes, minute): 0.7965\n"
          ]
        }
      ]
    },
    {
      "cell_type": "markdown",
      "source": [
        "2. Download the Sim-Lex dataset: https://fh295.github.io/simlex.html, containing word pairs and similarity scores for each pair. Compute the similarities between the word pairs using word embeddings and cosine-distance. Compute the Spearman Correlation between the obtained similarities and the similarities reported in the dataset (use the `SimLex999` / `Assoc(USF)` field in the `SimLex-999.txt` file). Ignore any words not found in the chosen embeddings space.\n",
        "\n",
        "Note: you can access the file from the Colaboratory notebook by uploading it to session storage, using the lefthand button \"Files\" -> \"Upload to session storage\""
      ],
      "metadata": {
        "id": "AH00qj4s2wPj"
      }
    },
    {
      "cell_type": "code",
      "source": [
        "import scipy\n",
        "from scipy import stats\n",
        "stats.spearmanr??"
      ],
      "metadata": {
        "id": "6L99lURH106o"
      },
      "execution_count": null,
      "outputs": []
    },
    {
      "cell_type": "code",
      "source": [
        "import numpy as np\n",
        "import pandas as pd\n",
        "\n",
        "\n",
        "data = pd.read_csv('/content/SimLex-999.txt', sep=\"\\t\")\n",
        "data"
      ],
      "metadata": {
        "id": "CMhG5tGShxf9",
        "outputId": "7614a80e-5e4f-4b66-f053-6b3253f9995b",
        "colab": {
          "base_uri": "https://localhost:8080/",
          "height": 424
        }
      },
      "execution_count": null,
      "outputs": [
        {
          "output_type": "execute_result",
          "data": {
            "text/plain": [
              "      word1        word2 POS  SimLex999  conc(w1)  conc(w2)  concQ  \\\n",
              "0       old          new   A       1.58      2.72      2.81      2   \n",
              "1     smart  intelligent   A       9.20      1.75      2.46      1   \n",
              "2      hard    difficult   A       8.77      3.76      2.21      2   \n",
              "3     happy     cheerful   A       9.55      2.56      2.34      1   \n",
              "4      hard         easy   A       0.95      3.76      2.07      2   \n",
              "..      ...          ...  ..        ...       ...       ...    ...   \n",
              "994    join      acquire   V       2.85      2.86      2.93      2   \n",
              "995    send       attend   V       1.67      2.70      3.17      2   \n",
              "996  gather       attend   V       4.80      2.75      3.17      2   \n",
              "997  absorb     withdraw   V       2.97      3.11      3.04      2   \n",
              "998  attend       arrive   V       6.08      3.17      3.22      2   \n",
              "\n",
              "     Assoc(USF)  SimAssoc333  SD(SimLex)  \n",
              "0          7.25            1        0.41  \n",
              "1          7.11            1        0.67  \n",
              "2          5.94            1        1.19  \n",
              "3          5.85            1        2.18  \n",
              "4          5.82            1        0.93  \n",
              "..          ...          ...         ...  \n",
              "994        0.00            0        0.99  \n",
              "995        0.00            0        1.44  \n",
              "996        0.00            0        1.97  \n",
              "997        0.00            0        1.75  \n",
              "998        0.00            0        1.18  \n",
              "\n",
              "[999 rows x 10 columns]"
            ],
            "text/html": [
              "\n",
              "  <div id=\"df-65eb2588-55c6-45b4-a515-3cf32c778fe2\">\n",
              "    <div class=\"colab-df-container\">\n",
              "      <div>\n",
              "<style scoped>\n",
              "    .dataframe tbody tr th:only-of-type {\n",
              "        vertical-align: middle;\n",
              "    }\n",
              "\n",
              "    .dataframe tbody tr th {\n",
              "        vertical-align: top;\n",
              "    }\n",
              "\n",
              "    .dataframe thead th {\n",
              "        text-align: right;\n",
              "    }\n",
              "</style>\n",
              "<table border=\"1\" class=\"dataframe\">\n",
              "  <thead>\n",
              "    <tr style=\"text-align: right;\">\n",
              "      <th></th>\n",
              "      <th>word1</th>\n",
              "      <th>word2</th>\n",
              "      <th>POS</th>\n",
              "      <th>SimLex999</th>\n",
              "      <th>conc(w1)</th>\n",
              "      <th>conc(w2)</th>\n",
              "      <th>concQ</th>\n",
              "      <th>Assoc(USF)</th>\n",
              "      <th>SimAssoc333</th>\n",
              "      <th>SD(SimLex)</th>\n",
              "    </tr>\n",
              "  </thead>\n",
              "  <tbody>\n",
              "    <tr>\n",
              "      <th>0</th>\n",
              "      <td>old</td>\n",
              "      <td>new</td>\n",
              "      <td>A</td>\n",
              "      <td>1.58</td>\n",
              "      <td>2.72</td>\n",
              "      <td>2.81</td>\n",
              "      <td>2</td>\n",
              "      <td>7.25</td>\n",
              "      <td>1</td>\n",
              "      <td>0.41</td>\n",
              "    </tr>\n",
              "    <tr>\n",
              "      <th>1</th>\n",
              "      <td>smart</td>\n",
              "      <td>intelligent</td>\n",
              "      <td>A</td>\n",
              "      <td>9.20</td>\n",
              "      <td>1.75</td>\n",
              "      <td>2.46</td>\n",
              "      <td>1</td>\n",
              "      <td>7.11</td>\n",
              "      <td>1</td>\n",
              "      <td>0.67</td>\n",
              "    </tr>\n",
              "    <tr>\n",
              "      <th>2</th>\n",
              "      <td>hard</td>\n",
              "      <td>difficult</td>\n",
              "      <td>A</td>\n",
              "      <td>8.77</td>\n",
              "      <td>3.76</td>\n",
              "      <td>2.21</td>\n",
              "      <td>2</td>\n",
              "      <td>5.94</td>\n",
              "      <td>1</td>\n",
              "      <td>1.19</td>\n",
              "    </tr>\n",
              "    <tr>\n",
              "      <th>3</th>\n",
              "      <td>happy</td>\n",
              "      <td>cheerful</td>\n",
              "      <td>A</td>\n",
              "      <td>9.55</td>\n",
              "      <td>2.56</td>\n",
              "      <td>2.34</td>\n",
              "      <td>1</td>\n",
              "      <td>5.85</td>\n",
              "      <td>1</td>\n",
              "      <td>2.18</td>\n",
              "    </tr>\n",
              "    <tr>\n",
              "      <th>4</th>\n",
              "      <td>hard</td>\n",
              "      <td>easy</td>\n",
              "      <td>A</td>\n",
              "      <td>0.95</td>\n",
              "      <td>3.76</td>\n",
              "      <td>2.07</td>\n",
              "      <td>2</td>\n",
              "      <td>5.82</td>\n",
              "      <td>1</td>\n",
              "      <td>0.93</td>\n",
              "    </tr>\n",
              "    <tr>\n",
              "      <th>...</th>\n",
              "      <td>...</td>\n",
              "      <td>...</td>\n",
              "      <td>...</td>\n",
              "      <td>...</td>\n",
              "      <td>...</td>\n",
              "      <td>...</td>\n",
              "      <td>...</td>\n",
              "      <td>...</td>\n",
              "      <td>...</td>\n",
              "      <td>...</td>\n",
              "    </tr>\n",
              "    <tr>\n",
              "      <th>994</th>\n",
              "      <td>join</td>\n",
              "      <td>acquire</td>\n",
              "      <td>V</td>\n",
              "      <td>2.85</td>\n",
              "      <td>2.86</td>\n",
              "      <td>2.93</td>\n",
              "      <td>2</td>\n",
              "      <td>0.00</td>\n",
              "      <td>0</td>\n",
              "      <td>0.99</td>\n",
              "    </tr>\n",
              "    <tr>\n",
              "      <th>995</th>\n",
              "      <td>send</td>\n",
              "      <td>attend</td>\n",
              "      <td>V</td>\n",
              "      <td>1.67</td>\n",
              "      <td>2.70</td>\n",
              "      <td>3.17</td>\n",
              "      <td>2</td>\n",
              "      <td>0.00</td>\n",
              "      <td>0</td>\n",
              "      <td>1.44</td>\n",
              "    </tr>\n",
              "    <tr>\n",
              "      <th>996</th>\n",
              "      <td>gather</td>\n",
              "      <td>attend</td>\n",
              "      <td>V</td>\n",
              "      <td>4.80</td>\n",
              "      <td>2.75</td>\n",
              "      <td>3.17</td>\n",
              "      <td>2</td>\n",
              "      <td>0.00</td>\n",
              "      <td>0</td>\n",
              "      <td>1.97</td>\n",
              "    </tr>\n",
              "    <tr>\n",
              "      <th>997</th>\n",
              "      <td>absorb</td>\n",
              "      <td>withdraw</td>\n",
              "      <td>V</td>\n",
              "      <td>2.97</td>\n",
              "      <td>3.11</td>\n",
              "      <td>3.04</td>\n",
              "      <td>2</td>\n",
              "      <td>0.00</td>\n",
              "      <td>0</td>\n",
              "      <td>1.75</td>\n",
              "    </tr>\n",
              "    <tr>\n",
              "      <th>998</th>\n",
              "      <td>attend</td>\n",
              "      <td>arrive</td>\n",
              "      <td>V</td>\n",
              "      <td>6.08</td>\n",
              "      <td>3.17</td>\n",
              "      <td>3.22</td>\n",
              "      <td>2</td>\n",
              "      <td>0.00</td>\n",
              "      <td>0</td>\n",
              "      <td>1.18</td>\n",
              "    </tr>\n",
              "  </tbody>\n",
              "</table>\n",
              "<p>999 rows × 10 columns</p>\n",
              "</div>\n",
              "      <button class=\"colab-df-convert\" onclick=\"convertToInteractive('df-65eb2588-55c6-45b4-a515-3cf32c778fe2')\"\n",
              "              title=\"Convert this dataframe to an interactive table.\"\n",
              "              style=\"display:none;\">\n",
              "        \n",
              "  <svg xmlns=\"http://www.w3.org/2000/svg\" height=\"24px\"viewBox=\"0 0 24 24\"\n",
              "       width=\"24px\">\n",
              "    <path d=\"M0 0h24v24H0V0z\" fill=\"none\"/>\n",
              "    <path d=\"M18.56 5.44l.94 2.06.94-2.06 2.06-.94-2.06-.94-.94-2.06-.94 2.06-2.06.94zm-11 1L8.5 8.5l.94-2.06 2.06-.94-2.06-.94L8.5 2.5l-.94 2.06-2.06.94zm10 10l.94 2.06.94-2.06 2.06-.94-2.06-.94-.94-2.06-.94 2.06-2.06.94z\"/><path d=\"M17.41 7.96l-1.37-1.37c-.4-.4-.92-.59-1.43-.59-.52 0-1.04.2-1.43.59L10.3 9.45l-7.72 7.72c-.78.78-.78 2.05 0 2.83L4 21.41c.39.39.9.59 1.41.59.51 0 1.02-.2 1.41-.59l7.78-7.78 2.81-2.81c.8-.78.8-2.07 0-2.86zM5.41 20L4 18.59l7.72-7.72 1.47 1.35L5.41 20z\"/>\n",
              "  </svg>\n",
              "      </button>\n",
              "      \n",
              "  <style>\n",
              "    .colab-df-container {\n",
              "      display:flex;\n",
              "      flex-wrap:wrap;\n",
              "      gap: 12px;\n",
              "    }\n",
              "\n",
              "    .colab-df-convert {\n",
              "      background-color: #E8F0FE;\n",
              "      border: none;\n",
              "      border-radius: 50%;\n",
              "      cursor: pointer;\n",
              "      display: none;\n",
              "      fill: #1967D2;\n",
              "      height: 32px;\n",
              "      padding: 0 0 0 0;\n",
              "      width: 32px;\n",
              "    }\n",
              "\n",
              "    .colab-df-convert:hover {\n",
              "      background-color: #E2EBFA;\n",
              "      box-shadow: 0px 1px 2px rgba(60, 64, 67, 0.3), 0px 1px 3px 1px rgba(60, 64, 67, 0.15);\n",
              "      fill: #174EA6;\n",
              "    }\n",
              "\n",
              "    [theme=dark] .colab-df-convert {\n",
              "      background-color: #3B4455;\n",
              "      fill: #D2E3FC;\n",
              "    }\n",
              "\n",
              "    [theme=dark] .colab-df-convert:hover {\n",
              "      background-color: #434B5C;\n",
              "      box-shadow: 0px 1px 3px 1px rgba(0, 0, 0, 0.15);\n",
              "      filter: drop-shadow(0px 1px 2px rgba(0, 0, 0, 0.3));\n",
              "      fill: #FFFFFF;\n",
              "    }\n",
              "  </style>\n",
              "\n",
              "      <script>\n",
              "        const buttonEl =\n",
              "          document.querySelector('#df-65eb2588-55c6-45b4-a515-3cf32c778fe2 button.colab-df-convert');\n",
              "        buttonEl.style.display =\n",
              "          google.colab.kernel.accessAllowed ? 'block' : 'none';\n",
              "\n",
              "        async function convertToInteractive(key) {\n",
              "          const element = document.querySelector('#df-65eb2588-55c6-45b4-a515-3cf32c778fe2');\n",
              "          const dataTable =\n",
              "            await google.colab.kernel.invokeFunction('convertToInteractive',\n",
              "                                                     [key], {});\n",
              "          if (!dataTable) return;\n",
              "\n",
              "          const docLinkHtml = 'Like what you see? Visit the ' +\n",
              "            '<a target=\"_blank\" href=https://colab.research.google.com/notebooks/data_table.ipynb>data table notebook</a>'\n",
              "            + ' to learn more about interactive tables.';\n",
              "          element.innerHTML = '';\n",
              "          dataTable['output_type'] = 'display_data';\n",
              "          await google.colab.output.renderOutput(dataTable, element);\n",
              "          const docLink = document.createElement('div');\n",
              "          docLink.innerHTML = docLinkHtml;\n",
              "          element.appendChild(docLink);\n",
              "        }\n",
              "      </script>\n",
              "    </div>\n",
              "  </div>\n",
              "  "
            ]
          },
          "metadata": {},
          "execution_count": 9
        }
      ]
    },
    {
      "cell_type": "code",
      "source": [
        "from sklearn.metrics.pairwise import cosine_similarity\n",
        "from scipy.stats import spearmanr\n",
        "\n",
        "similarities1 = []\n",
        "similarities2 = []\n",
        "\n",
        "for ind in data.index:\n",
        "  w1, w2 = data['word1'][ind], data['word2'][ind]\n",
        "  v1, v2 = None, None\n",
        "  if w1 in embeddings:\n",
        "    v1 = embeddings.get_vector(w1)\n",
        "  if w2 in embeddings:\n",
        "    v2 = embeddings.get_vector(w2)\n",
        "  if v1 is not None and v2 is not None:\n",
        "    cos_sim = cosine_similarity(v1.reshape(1, -1), v2.reshape(1, -1))\n",
        "    similarities1.append(cos_sim[0][0])\n",
        "    similarities2.append(data['SimLex999'][ind])\n",
        "\n",
        "spearm = spearmanr(similarities1, similarities2)\n",
        "print(spearm)\n"
      ],
      "metadata": {
        "id": "joLvd4jAiGvS",
        "colab": {
          "base_uri": "https://localhost:8080/"
        },
        "outputId": "9616b29a-2892-464d-dd4c-59bf397e77d9"
      },
      "execution_count": null,
      "outputs": [
        {
          "output_type": "stream",
          "name": "stdout",
          "text": [
            "SignificanceResult(statistic=0.44090807476822663, pvalue=9.055669361804216e-49)\n"
          ]
        }
      ]
    },
    {
      "cell_type": "markdown",
      "source": [
        "Compare two different embedding models, see which yields the higher correlation."
      ],
      "metadata": {
        "id": "SqxxhC3E62rw"
      }
    },
    {
      "cell_type": "code",
      "source": [
        "embeddings_twitter = gensim.downloader.load('glove-twitter-25')"
      ],
      "metadata": {
        "id": "n41ddUPaohLN"
      },
      "execution_count": null,
      "outputs": []
    },
    {
      "cell_type": "code",
      "source": [
        "cosine_distances = {}\n",
        "for index, row in data.iterrows():\n",
        "    w1, w2 = row['word1'], row['word2']\n",
        "    if w1 in embeddings_twitter and w2 in embeddings_twitter:\n",
        "        v1 = embeddings_twitter.get_vector(w1)\n",
        "        v2 = embeddings_twitter.get_vector(w2)\n",
        "        cos_sim = cosine_similarity(v1.reshape(1, -1), v2.reshape(1, -1))\n",
        "        cosine_distances[index] = cos_sim[0][0]\n",
        "\n",
        "similarities1 = np.array(list(cosine_distances.values()))\n",
        "similarities2 = np.array(data['SimLex999'][list(cosine_distances.keys())])\n",
        "spearm = stats.spearmanr(similarities1, similarities2)\n",
        "spearm"
      ],
      "metadata": {
        "colab": {
          "base_uri": "https://localhost:8080/"
        },
        "id": "G7iYEbFCzBVM",
        "outputId": "6f71dc04-1a93-4741-f024-9ab7482a80f0"
      },
      "execution_count": null,
      "outputs": [
        {
          "output_type": "execute_result",
          "data": {
            "text/plain": [
              "SignificanceResult(statistic=0.07055713130635184, pvalue=0.025816230752421204)"
            ]
          },
          "metadata": {},
          "execution_count": 12
        }
      ]
    },
    {
      "cell_type": "markdown",
      "source": [
        "3. Take a paragraph from a corpus in NLTK. (e.g. the Brown corpus. Note: first you will need to download it using the downloader). Replace each word in the paragraph with its most similar word in embedding space.\n",
        "\n",
        "AND/OR\n",
        "\n",
        "Take a tweet from the web and replace each word with its most similar word in embedding space, using embeddings trained on Twitter data.\n",
        "\n",
        "Do you get a coherent text?"
      ],
      "metadata": {
        "id": "h7-SoT6Q8jhY"
      }
    },
    {
      "cell_type": "code",
      "source": [
        "nltk.download('brown')\n",
        "from nltk.corpus import brown\n",
        "\n",
        "paragraph = \" \".join(brown.sents()[0])\n",
        "words = nltk.word_tokenize(paragraph)\n",
        "new_words = []\n",
        "for word in words:\n",
        "    if word in embeddings:\n",
        "        most_similar = embeddings.most_similar(word, topn=1)[0][0]\n",
        "        new_words.append(most_similar)\n",
        "    else:\n",
        "        new_words.append(word)\n",
        "new_text = ' '.join(new_words)\n",
        "\n",
        "print(text)\n",
        "print(new_text)"
      ],
      "metadata": {
        "id": "ZZrJGL3HnypO",
        "outputId": "6c6ebecc-37e1-4ac5-af76-ec02c168293a",
        "colab": {
          "base_uri": "https://localhost:8080/"
        }
      },
      "execution_count": null,
      "outputs": [
        {
          "output_type": "stream",
          "name": "stderr",
          "text": [
            "[nltk_data] Downloading package brown to /root/nltk_data...\n",
            "[nltk_data]   Package brown is already up-to-date!\n"
          ]
        },
        {
          "output_type": "stream",
          "name": "stdout",
          "text": [
            "Liverpool were much better in the second half but I only really felt like they were going to score a second goal once Roberto Firmino came on, with 12 minutes to go.\n",
            "-The Fultonham County- Poobah Juryman says Monday An investigations Kira-Kira Atlantan 's--the not-so-recent secondary elections coproduced `` little evidences `` thaty ANY irregularity taken places !\n"
          ]
        }
      ]
    },
    {
      "cell_type": "markdown",
      "source": [
        "Try to first POS-tag the text and only replace nouns and adjectives with their most similar word in embedding space."
      ],
      "metadata": {
        "id": "SWIWGLNmJIun"
      }
    },
    {
      "cell_type": "code",
      "source": [
        "nltk.download('averaged_perceptron_tagger')\n",
        "from nltk.tokenize import word_tokenize, sent_tokenize\n",
        "\n",
        "words_list = word_tokenize(paragraph)\n",
        "tagged = nltk.pos_tag(words_list)\n",
        "\n",
        "new_text = []\n",
        "for word, pos in tagged:\n",
        "    if word in embeddings and pos in ('JJ', 'JJR', 'JJS', 'NN', 'NNP', 'NNS'):\n",
        "        most_similar = embeddings.most_similar(word)[0][0]\n",
        "        new_text.append(most_similar)\n",
        "    else:\n",
        "        new_text.append(word)\n",
        "\n",
        "new_text = \" \".join(new_text)\n",
        "print(text)\n",
        "print(new_text)\n"
      ],
      "metadata": {
        "id": "15Jx3K4-Jqzw",
        "outputId": "8cd8c1b5-4e65-44ff-ca0d-13117d8172cf",
        "colab": {
          "base_uri": "https://localhost:8080/"
        }
      },
      "execution_count": null,
      "outputs": [
        {
          "output_type": "stream",
          "name": "stderr",
          "text": [
            "[nltk_data] Downloading package averaged_perceptron_tagger to\n",
            "[nltk_data]     /root/nltk_data...\n",
            "[nltk_data]   Package averaged_perceptron_tagger is already up-to-\n",
            "[nltk_data]       date!\n"
          ]
        },
        {
          "output_type": "stream",
          "name": "stdout",
          "text": [
            "Liverpool were much better in the second half but I only really felt like they were going to score a second goal once Roberto Firmino came on, with 12 minutes to go.\n",
            "The Fultonham County- Poobah Juryman said Monday an investigations of Atlantan 's not-so-recent secondary elections produced `` no evidences `` that any irregularity took places .\n"
          ]
        }
      ]
    },
    {
      "cell_type": "markdown",
      "source": [
        "4. Open a news website and find two articles on two different topics. Extract pairs of sentences from the two articles:\n",
        "\n",
        "  a. two sentences from the first article\n",
        "\n",
        "  b. two sentences from the second article\n",
        "\n",
        "  c. one sentence from the first and one sentence from the second\n",
        "\n",
        "Compute a semantic representation of each extracted sentence by averaging static (non-contextual) word embeddings for words in the sentence."
      ],
      "metadata": {
        "id": "h6mCvFXtJphy"
      }
    },
    {
      "cell_type": "markdown",
      "source": [
        "Now compute and compare similarities between the obtained representations for sentences in each pair: a, b and c. Which are the most similar?"
      ],
      "metadata": {
        "id": "2BuI-VmM2kxl"
      }
    },
    {
      "cell_type": "code",
      "source": [
        "a11 = \"League leaders Arsenal's 2-2 draw at Liverpool on Sunday has seemingly opened the door for reigning champions Manchester City in what is becoming a dramatic title race.\"\n",
        "a12 = \"While the Gunners, who are chasing their first title since 2004 now have a six point gap over City, Pep Guardiola's side have a game in hand and host Mikel Arteta's team on 26 April in what could be the decisive fixture\"\n",
        "\n",
        "a21 = \"China has finished three days of military drills around Taiwan, which included 'sealing off' the island and simulating targeted strikes.\"\n",
        "a22 = \"Taiwan said it had detected jets to its east, while China said its Shandong aircraft carrier had taken part.\""
      ],
      "metadata": {
        "id": "oBLiiDYW3zz-"
      },
      "execution_count": null,
      "outputs": []
    },
    {
      "cell_type": "code",
      "source": [
        "def get_representation(sentence, embeddings):\n",
        "    words = nltk.word_tokenize(sentence)\n",
        "    emb = np.zeros(embeddings.vector_size)\n",
        "    no_words = 0\n",
        "    for word in words:\n",
        "        if word in embeddings:\n",
        "            emb += embeddings.get_vector(word)\n",
        "            no_words += 1\n",
        "    if no_words != 0:\n",
        "        emb /= no_words\n",
        "    return emb\n"
      ],
      "metadata": {
        "id": "DpUo8JPV7KQ3"
      },
      "execution_count": null,
      "outputs": []
    },
    {
      "cell_type": "code",
      "source": [
        "e11 = get_representation(a11, embeddings)\n",
        "e12 = get_representation(a12, embeddings)\n",
        "\n",
        "e21 = get_representation(a21, embeddings)\n",
        "e22 = get_representation(a22, embeddings)"
      ],
      "metadata": {
        "id": "KmpDZbVJ7LPG"
      },
      "execution_count": null,
      "outputs": []
    },
    {
      "cell_type": "code",
      "source": [
        "sim1 = cosine_similarity(\n",
        "    e11.reshape(1,-1),\n",
        "    e12.reshape(1,-1)\n",
        "    )[0][0]\n",
        "\n",
        "print(\"two sentences from the first article: {}\".format(sim1))"
      ],
      "metadata": {
        "colab": {
          "base_uri": "https://localhost:8080/"
        },
        "id": "faScEl9P7b_9",
        "outputId": "fa2de8d7-ee54-46c2-ea6d-69c7bc61a2c9"
      },
      "execution_count": null,
      "outputs": [
        {
          "output_type": "stream",
          "name": "stdout",
          "text": [
            "two sentences from the first article: 0.9536450640754782\n"
          ]
        }
      ]
    },
    {
      "cell_type": "code",
      "source": [
        "sim2 = cosine_similarity(\n",
        "    e21.reshape(1,-1),\n",
        "    e22.reshape(1,-1)\n",
        "    )[0][0]\n",
        "\n",
        "print(\"two sentences from the second article: {}\".format(sim1))"
      ],
      "metadata": {
        "colab": {
          "base_uri": "https://localhost:8080/"
        },
        "id": "JZ21w_yH7qd1",
        "outputId": "56c85096-fe44-4879-9a81-1f6e5ca790be"
      },
      "execution_count": null,
      "outputs": [
        {
          "output_type": "stream",
          "name": "stdout",
          "text": [
            "two sentences from the second article: 0.9536450640754782\n"
          ]
        }
      ]
    },
    {
      "cell_type": "code",
      "source": [
        "sim3 = cosine_similarity(\n",
        "    e11.reshape(1,-1),\n",
        "    e22.reshape(1,-1)\n",
        "    )[0][0]\n",
        "\n",
        "print(\"one sentence from the first and one sentence from the second: {}\".format(sim3))"
      ],
      "metadata": {
        "colab": {
          "base_uri": "https://localhost:8080/"
        },
        "id": "H1WYpEoR7qSi",
        "outputId": "1f47e6b0-920a-4fc7-f68c-d01b5d317ea1"
      },
      "execution_count": null,
      "outputs": [
        {
          "output_type": "stream",
          "name": "stdout",
          "text": [
            "one sentence from the first and one sentence from the second: 0.8650823891604793\n"
          ]
        }
      ]
    },
    {
      "cell_type": "markdown",
      "source": [
        "Repeat the experiment after removing stopwords from each sentence."
      ],
      "metadata": {
        "id": "yF6OboFb8KOf"
      }
    },
    {
      "cell_type": "code",
      "source": [
        "nltk.download('stopwords')\n",
        "from nltk.corpus import stopwords\n",
        "\n",
        "def get_representation(sentence, embeddings):\n",
        "    stop_words = set(stopwords.words('english'))\n",
        "\n",
        "    words = nltk.word_tokenize(sentence)\n",
        "    emb = np.zeros(embeddings.vector_size)\n",
        "    no_words = 0\n",
        "    for word in words:\n",
        "        if word in embeddings and word not in stop_words:\n",
        "            emb += embeddings.get_vector(word)\n",
        "            no_words += 1\n",
        "    if no_words > 0:\n",
        "        emb /= no_words\n",
        "    return emb\n"
      ],
      "metadata": {
        "id": "huQb3dHI8NbS",
        "colab": {
          "base_uri": "https://localhost:8080/"
        },
        "outputId": "8879e6db-278f-42e1-f0f6-d833f9a41d68"
      },
      "execution_count": null,
      "outputs": [
        {
          "output_type": "stream",
          "name": "stderr",
          "text": [
            "[nltk_data] Downloading package stopwords to /root/nltk_data...\n",
            "[nltk_data]   Package stopwords is already up-to-date!\n"
          ]
        }
      ]
    },
    {
      "cell_type": "code",
      "source": [
        "e11 = get_representation(a11, embeddings)\n",
        "e12 = get_representation(a12, embeddings)\n",
        "\n",
        "e21 = get_representation(a21, embeddings)\n",
        "e22 = get_representation(a22, embeddings)"
      ],
      "metadata": {
        "id": "-ubWHwpXCYrP"
      },
      "execution_count": null,
      "outputs": []
    },
    {
      "cell_type": "code",
      "source": [
        "sim1 = cosine_similarity(\n",
        "    e11.reshape(1,-1),\n",
        "    e12.reshape(1,-1)\n",
        "    )[0][0]\n",
        "\n",
        "print(\"two sentences from the first article: {}\".format(sim1))"
      ],
      "metadata": {
        "colab": {
          "base_uri": "https://localhost:8080/"
        },
        "id": "tQ9GesWMCand",
        "outputId": "e2662f29-9c31-432d-a3ff-af0d7fe4af1e"
      },
      "execution_count": null,
      "outputs": [
        {
          "output_type": "stream",
          "name": "stdout",
          "text": [
            "two sentences from the first article: 0.8930537884718737\n"
          ]
        }
      ]
    },
    {
      "cell_type": "code",
      "source": [
        "sim2 = cosine_similarity(\n",
        "    e21.reshape(1,-1),\n",
        "    e22.reshape(1,-1)\n",
        "    )[0][0]\n",
        "\n",
        "print(\"two sentences from the second article: {}\".format(sim1))"
      ],
      "metadata": {
        "colab": {
          "base_uri": "https://localhost:8080/"
        },
        "id": "kucdvhPzCdH9",
        "outputId": "ae2ce43d-f081-4792-e3a9-4de75647cc8a"
      },
      "execution_count": null,
      "outputs": [
        {
          "output_type": "stream",
          "name": "stdout",
          "text": [
            "two sentences from the second article: 0.8930537884718737\n"
          ]
        }
      ]
    },
    {
      "cell_type": "code",
      "source": [
        "sim3 = cosine_similarity(\n",
        "    e11.reshape(1,-1),\n",
        "    e22.reshape(1,-1)\n",
        "    )[0][0]\n",
        "\n",
        "print(\"one sentence from the first and one sentence from the second: {}\".format(sim3))"
      ],
      "metadata": {
        "colab": {
          "base_uri": "https://localhost:8080/"
        },
        "id": "HFiS6k7jCc-Z",
        "outputId": "27683ba0-dcfe-453c-a900-695783ee9f15"
      },
      "execution_count": null,
      "outputs": [
        {
          "output_type": "stream",
          "name": "stdout",
          "text": [
            "one sentence from the first and one sentence from the second: 0.7171914132674554\n"
          ]
        }
      ]
    },
    {
      "cell_type": "markdown",
      "source": [
        "5. Perform PCA on a subset of word vectors that you expect to find interesting differences/similarities, and plot the first two components.\n"
      ],
      "metadata": {
        "id": "b53A9cCf0_YN"
      }
    },
    {
      "cell_type": "code",
      "source": [
        "from sklearn.decomposition import PCA\n",
        "import matplotlib.pyplot as plt\n",
        "import numpy as np\n",
        "\n",
        "word_list = ['cat', 'dog', 'bird', 'elephant', 'lion', 'banana', 'apple', 'orange', 'car', 'bus',\n",
        "             'train', 'plane', 'bicycle', 'boat', 'rocket']\n",
        "\n",
        "word_vectors = []\n",
        "for word in word_list:\n",
        "    if word in embeddings:\n",
        "        word_vectors.append(embeddings[word])\n",
        "word_vectors = np.array(word_vectors)\n",
        "\n",
        "pca = PCA(n_components=2)\n",
        "pca.fit(word_vectors)\n",
        "pca_word_vectors = pca.transform(word_vectors)\n",
        "\n",
        "plt.scatter(pca_word_vectors[:, 0], pca_word_vectors[:, 1])\n",
        "for i, word in enumerate(word_list):\n",
        "    plt.annotate(word, xy=(pca_word_vectors[i, 0], pca_word_vectors[i, 1]))\n",
        "plt.show()\n"
      ],
      "metadata": {
        "id": "E5DWE5Oj0wkv",
        "colab": {
          "base_uri": "https://localhost:8080/",
          "height": 430
        },
        "outputId": "2d84e84e-7bce-44d8-c9c7-aa34036262bf"
      },
      "execution_count": null,
      "outputs": [
        {
          "output_type": "display_data",
          "data": {
            "text/plain": [
              "<Figure size 640x480 with 1 Axes>"
            ],
            "image/png": "[encoded data removed]"
          },
          "metadata": {}
        }
      ]
    },
    {
      "cell_type": "markdown",
      "source": [
        "6. Retrieve 10 movie reviews (or 50 sentences) from the IMDB reviews corpus in NLTK. Extract embedding vectors for each word, then perform k-means clustering using a similarity measure between the vectors (cosine similarity, or the similarity function provided by gensim), and different values for k (k=3,5,) to cluster similar words together. Ignore words which are not found in the embedding space. What clusters do you get?"
      ],
      "metadata": {
        "id": "3AbN69Iq1MSZ"
      }
    },
    {
      "cell_type": "code",
      "source": [
        "nltk.download('movie_reviews')\n",
        "nltk.download('punkt')\n",
        "corpus = nltk.corpus.movie_reviews"
      ],
      "metadata": {
        "colab": {
          "base_uri": "https://localhost:8080/"
        },
        "id": "CiE62OqR9ZkM",
        "outputId": "50fffa06-5113-4347-f54f-c7df4272c73f"
      },
      "execution_count": null,
      "outputs": [
        {
          "output_type": "stream",
          "name": "stderr",
          "text": [
            "[nltk_data] Downloading package movie_reviews to /root/nltk_data...\n",
            "[nltk_data]   Package movie_reviews is already up-to-date!\n",
            "[nltk_data] Downloading package punkt to /root/nltk_data...\n",
            "[nltk_data]   Package punkt is already up-to-date!\n"
          ]
        }
      ]
    },
    {
      "cell_type": "code",
      "source": [
        "import re\n",
        "from nltk.tokenize import word_tokenize\n",
        "import numpy as np\n",
        "from sklearn.cluster import KMeans\n",
        "\n",
        "reviews = corpus.fileids()[:10]\n",
        "\n",
        "words = []\n",
        "\n",
        "for rev in reviews:\n",
        "    review = str(corpus.raw(rev))\n",
        "    review = re.sub(r'[^\\w\\s]', '', review)\n",
        "    review_words = [word.lower() for word in word_tokenize(review) if word.isalpha()]\n",
        "    for word in review_words:\n",
        "        if word not in words and word in embeddings:\n",
        "            words.append(word)\n",
        "\n",
        "embeddings_filtered = [embeddings[word] for word in words]\n",
        "cosine_similarities = np.dot(embeddings_filtered, np.transpose(embeddings_filtered))\n",
        "kmeans = KMeans(n_clusters=5).fit(cosine_similarities)\n",
        "\n",
        "for i in range(5):\n",
        "    cluster_words = [words[j] for j in np.where(kmeans.labels_ == i)[0]]\n",
        "    print(i, \":\", cluster_words)\n"
      ],
      "metadata": {
        "colab": {
          "base_uri": "https://localhost:8080/"
        },
        "id": "0zNxa_jflick",
        "outputId": "58720be7-8e90-4880-cf07-276e85e94fab"
      },
      "execution_count": null,
      "outputs": [
        {
          "output_type": "stream",
          "name": "stderr",
          "text": [
            "/usr/local/lib/python3.9/dist-packages/sklearn/cluster/_kmeans.py:870: FutureWarning: The default value of `n_init` will change from 10 to 'auto' in 1.4. Set the value of `n_init` explicitly to suppress the warning\n",
            "  warnings.warn(\n"
          ]
        },
        {
          "output_type": "stream",
          "name": "stdout",
          "text": [
            "0 : ['accident', 'girlfriend', 'nightmares', 'mindfuck', 'generation', 'generally', 'downshifts', 'characters', 'apparitions', 'disappearances', 'explained', 'personally', 'completely', 'entertaining', 'thrilling', 'meantime', 'strangeness', 'password', 'understanding', 'melissa', 'throughout', 'offering', 'apparently', 'director', 'themselves', 'somewhere', 'although', 'character', 'american', 'neighborhood', 'unraveling', 'confusing', 'redundant', 'runtime', 'explanation', 'packaged', 'production', 'elm', 'salvation', 'starring', 'curtis', 'regarding', 'tugboat', 'sequences', 'substance', 'sutherland', 'drunkenly', 'halloween', 'cgi', 'occasional', 'otherwise', 'invention', 'television', 'criminals', 'undercover', 'immediately', 'suspicion', 'fifteen', 'costumes', 'described', 'hourlong', 'everything', 'weve', 'spectacular', 'sometimes', 'bordering', 'omar', 'transfers', 'relatively', 'unscathed', 'giovanni', 'resident', 'ultimately', 'unfortunately', 'convoluted', 'occupying', 'soundtrack', 'juvenile', 'information', 'literally', 'spoonfed', 'predictable', 'progresses', 'jeopardy', 'questionable', 'especially', 'considers', 'indication', 'camelot', 'challenger', 'century', 'anastasia', 'hercules', 'animation', 'adventures', 'daughter', 'footsteps', 'excalibur', 'accidentally', 'boobytrapped', 'garrett', 'medieval', 'showmanship', 'differentiates', 'something', 'saturday', 'morning', 'instantly', 'forgettable', 'computerized', 'ogre', 'interesting', 'cloying', 'thrilled', 'bronson', 'providing', 'enthusiastic', 'jane', 'seymour', 'celine', 'dion', 'children', 'personality', 'synopsis', 'undergoing', 'psychotherapy', 'potentially', 'fledgling', 'restauranteur', 'unsuccessfully', 'attempting', 'category', 'industry', 'theatrical', 'proliferation', 'typically', 'inexpensive', 'vehicles', 'latenight', 'contrary', 'exwife', 'exhusband', 'midnight', 'interspersed', 'instance', 'narrator', 'statistics', 'stalkers', 'implicitly', 'jay', 'underwood', 'daryl', 'stalker', 'daniels', 'guesswork', 'sequence', 'together', 'murdered', 'exception', 'inevitable', 'invariably', 'conclusion', 'uniformly', 'melodrama', 'maryam', 'dabo', 'daylights', 'ditzy', 'independent', 'example', 'suspicions', 'episode', 'audiences', 'suspension', 'disbelief', 'questions', 'intelligence', 'derivative', 'thrillers', 'capsule', 'murderer', 'john', 'carpenter', 'precinct', 'supposedly', 'surprisingly', 'addition', 'surprising', 'admittedly', 'experience', 'terraformed', 'breathing', 'mentioned', 'positions', 'carpenters', 'stagnated', 'technological', 'napolean', 'desolation', 'williams', 'hoodlums', 'automatic', 'essentially', 'imagination', 'flashback', 'fugitive', 'wannabes', 'building', 'unimpressive', 'decapitations', 'reviewers', 'following', 'moderately', 'millimeter', 'surveillance', 'enmeshed', 'underworld', 'pornography', 'americana', 'necessarily', 'documentaries', 'brutalized', 'joel', 'schumacher', 'conventional', 'particularly', 'threatening', 'ridiculous', 'selfrighteous', 'unpleasant', 'nicolas', 'investigator', 'philadelphia', 'husbands', 'documents', 'assignment', 'specialized', 'training', 'investigation', 'occasionally', 'flickering', 'sprockets', 'projector', 'catherine', 'cleveland', 'pa', 'andrew', 'kevin', 'hollywood', 'joaquin', 'phoenix', 'bookstore', 'california', 'revelation', 'deviants', 'monsters', 'mr', 'referring', 'jim', 'fistfight', 'culminating', 'joan', 'lapa', 'entendres', 'obstetrician', 'nonetheless', 'cookiecutter', 'originality', 'successful', 'psychiatrist', 'psychologist', 'scriptwriters', 'asshole', 'eyelashes', 'includes', 'needlessly', 'arnold', 'provides', 'cacophonous', 'costumed', 'arnie', 'jeff', 'goldblum', 'simultaneous', 'commitment', 'veterinary', 'medicine', 'obstetrics', 'stereotype', 'volvo', 'simultaneously', 'boulevard', 'theaters', 'unauthentic', 'unfulfilled', 'wounded', 'rd', 'convincingly', 'zombified', 'significance', 'aberdeen', 'sentimental', 'european', 'playwright', 'august', 'families', 'relationships', 'longings', 'reflection', 'alcoholic', 'tomas', 'yuppie', 'kaisa', 'norway', 'scotland', 'automobile', 'charlotte', 'hospital', 'dashboard', 'whenever', 'muttering', 'viewpoint', 'recognizes', 'nosebleeds', 'indifference', 'vindictive', 'repetitively', 'screenwriters', 'kristin', 'fabricate', 'contrivances', 'hooligans', 'schematic', 'convenient', 'narrative', 'simplistic', 'trivialize', 'unimaginative', 'performances', 'cinematography', 'rendering', 'pastoral', 'reference', 'intentional', 'furrowed', 'insouciance', 'attention', 'worthwhile', 'jonathan', 'captivating', 'parental', 'ceremonial', 'wedlock', 'differences', 'presented', 'significant', 'preening', 'rds', 'performance', 'catatonic', 'ferocity', 'sexually', 'understated', 'confrontations', 'complications', 'accompany', 'curiosity', 'thoroughly', 'territory', 'americanization', 'mysticism', 'overloaded', 'traditional', 'sleepwalk', 'rhythms', 'complexities', 'depressing', 'lawrence', 'mogul', 'pronounces', 'answered', 'musketeer', 'fourteen', 'hmmmm', 'chambers', 'uncharismatic', 'version', 'chris', 'dungeons', 'deliveries', 'ms', 'directors', 'definitely', 'irrepressible', 'thousand', 'marketplace', 'yikes', 'accentuate', 'cakewalk', 'kungfu', 'phenomenon', 'carriage', 'championing', 'atrocious', 'musketeers', 'stuntwork', 'swashbuckling', 'beginning', 'regurgitated', 'hullo', 'crouching', 'replacement', 'shanghai']\n",
            "1 : ['two', 'go', 'to', 'they', 'get', 'into', 'an', 'one', 'of', 'the', 'guys', 'his', 'see', 'him', 'in', 'her', 'has', 'deal', 'find', 'out', 'for', 'that', 'on', 'very', 'cool', 'idea', 'it', 'bad', 'is', 'what', 'this', 'mess', 'your', 'lost', 'are', 'good', 'ways', 'all', 'just', 'seem', 'have', 'so', 'well', 'its', 'main', 'too', 'off', 'you', 'as', 'no', 'back', 'dead', 'who', 'look', 'like', 'most', 'not', 'now', 'mind', 'does', 'give', 'me', 'clue', 'kind', 'fed', 'up', 'got', 'big', 'hide', 'seems', 'want', 'do', 'make', 'or', 'sad', 'both', 'dig', 'we', 'by', 'did', 'bit', 'more', 'sure', 'away', 'lazy', 'okay', 'know', 'need', 'how', 'us', 'down', 'took', 'been', 'be', 'he', 'only', 'new', 'my', 'own', 'feels', 'came', 'way', 'hot', 'kids', 'ago', 'ever', 'stir', 'damn', 'bug', 'kick', 'few', 'why', 'was', 'hit', 'hey', 'lets', 'some', 'work', 'hes', 'real', 'shot', 'if', 'turn', 'much', 'show', 'gets', 'ads', 'cuts', 'nice', 'cute', 'car', 'isnt', 'best', 'seen', 'onto', 'man', 'save', 'hip', 'hard', 'wont', 'care', 'any', 'can', 'six', 'them', 'at', 'had', 'beat', 'dull', 'she', 'help', 'don', 'able', 'prove', 'side', 'pure', 'high', 'rest', 'end', 'tie', 'win', 'will', 'must', 'lack', 'goes', 'long', 'boy', 'love', 'gain', 'takes', 'yet', 'may', 'due', 'sets', 'men', 'pet', 'lead', 'pass', 'use', 'left', 'our', 'mood', 'face', 'lot', 'made', 'sue', 'full', 'fit', 'gear', 'less', 'ten', 'red', 'looks', 'jump', 'rate', 'ask', 'sick', 'stop', 'run', 'kill', 'safe', 'fall', 'easy', 'task', 'ugly', 'far', 'felt', 'huge', 'were', 'eye', 'paid', 'could', 'kid', 'finds', 'draw', 'toy', 'hid', 'fear', 'old', 'say', 'take', 'joke', 'low', 'bring', 'bed', 'live', 'step', 'hits', 'open', 'true', 'dark', 'weak', 'busy', 'shed', 'pain', 'come', 'sees', 'used', 'guy', 'god', 'beg', 'day', 'ear', 'test', 'keep', 'top', 'cut', 'fun', 'fat', 'crap', 'tell', 'stay', 'die']\n",
            "2 : ['a', 'i', 'r', 's', 'c', 'q']\n",
            "3 : ['plot', 'teen', 'party', 'drink', 'and', 'then', 'drive', 'dies', 'but', 'life', 'whats', 'watch', 'movie', 'sorta', 'touches', 'makes', 'even', 'harder', 'write', 'films', 'break', 'mold', 'with', 'head', 'such', 'there', 'types', 'these', 'folks', 'didnt', 'snag', 'taken', 'pretty', 'neat', 'starts', 'normal', 'going', 'dreams', 'coming', 'from', 'chase', 'scenes', 'tons', 'weird', 'things', 'happen', 'dont', 'trying', 'film', 'every', 'same', 'over', 'again', 'biggest', 'final', 'five', 'really', 'part', 'arrow', 'point', 'start', 'little', 'sense', 'still', 'guess', 'line', 'should', 'always', 'given', 'enter', 'mean', 'about', 'plain', 'people', 'giving', 'shows', 'decent', 'here', 'suits', 'music', 'video', 'edge', 'would', 'actors', 'wes', 'seemed', 'exact', 'holds', 'entire', 'doesnt', 'stick', 'rarely', 'oh', 'horror', 'flick', 'genre', 'also', 'skip', 'blair', 'witch', 'crow', 'happy', 'quick', 'lee', 'time', 'story', 'crew', 'comes', 'across', 'tech', 'ship', 'power', 'gore', 'empty', 'flash', 'middle', 'pink', 'flashy', 'thing', 'likes', 'youre', 'likely', 'wasted', 'star', 'stan', 'robot', 'brain', 'body', 'parts', 'heres', 'jaded', 'based', 'late', 'name', 'mod', 'tells', 'tale', 'under', 'wrong', 'stolen', 'danes', 'hair', 'chases', 'stuff', 'sounds', 'first', 'slick', 'enough', 'cross', 'cop', 'span', 'hour', 'half', 'their', 'lines', 'bored', 'plays', 'crazy', 'being', 'worth', 'apart', 'young', 'cast', 'geared', 'older', 'poorly', 'youll', 'arent', 'nobody', 'target', 'fact', 'hand', 'thats', 'finger', 'times', 'clear', 'than', 'cash', 'rash', 'awful', 'seeing', 'avoid', 'costs', 'quest', 'bros', 'steal', 'clout', 'other', 'last', 'falls', 'flawed', 'fox', 'crown', 'piece', 'year', 'magic', 'those', 'score', 'king', 'round', 'table', 'dream', 'follow', 'chance', 'evil', 'gary', 'sword', 'loses', 'hunky', 'blind', 'carey', 'idle', 'might', 'sexist', 'climb', 'ranks', 'disney', 'youd', 'songs', 'angry', 'case', 'stink', 'none', 'race', 'least', 'signs', 'pulse', 'fans', 'white', 'nicely', 'im', 'loss', 'voice', 'talent', 'sound', 'strain', 'aside', 'error', 'learn', 'saves', 'fatal', 'boys', 'favor', 'kills', 'type', 'stable', 'theyre', 'stars', 'serve', 'cable', 'norm', 'never', 'doomed', 'dust', 'viewed', 'cause', 'stalk', 'implied', 'shown', 'actor', 'meant', 'quite', 'brings', 'tries', 'woo', 'plans', 'become', 'found', 'cat', 'shower', 'home', 'turns', 'toward', 'words', 'close', 'played', 'bond', 'chick', 'strong', 'needs', 'ensure', 'excuse', 'return', 'place', 'house', 'leave', 'door', 'opens', 'wanders', 'enters', 'danger', 'front', 'right', 'inside', 'whole', 'places', 'boring', 'rated', 'mostly', 'brief', 'strip', 'bar', 'many', 'stake', 'else', 'mars', 'taking', 'menace', 'ideas', 'fight', 'drawn', 'alien', 'chock', 'pieces', 'walk', 'easier', 'women', 'view', 'minor', 'expect', 'change', 'basic', 'common', 'yes', 'tacky', 'rundown', 'facing', 'behave', 'human', 'lapse', 'told', 'filmed', 'tones', 'black', 'scene', 'train', 'heavy', 'sadly', 'rock', 'band', 'kiss', 'bunch', 'sucker', 'scary', 'shock', 'great', 'fights', 'short', 'better', 'scale', 'showed', 'wife', 'liked', 'twice', 'sight', 'seedy', 'sordid', 'kinds', 'snuff', 'robin', 'fairly', 'drama', 'core', 'along', 'think', 'tags', 'drags', 'trust', 'waste', 'snake', 'eyes', 'cage', 'tom', 'hired', 'reel', 'girls', 'skills', 'cops', 'clues', 'digs', 'scott', 'paul', 'whirs', 'hints', 'toll', 'lovely', 'keener', 'irony', 'lane', 'adult', 'max', 'cover', 'horrid', 'sexual', 'super', 'nor', 'werent', 'nine', 'hugh', 'grant', 'dork', 'bugs', 'adam', 'room', 'double', 'pussy', 'size', 'hairs', 'coat', 'humor', 'child', 'dads', 'smile', 'stupid', 'jokes', 'olds', 'shakes', 'usual', 'gag', 'book', 'friend', 'funny', 'beats', 'store', 'nasty', 'heads', 'groan', 'loud', 'failed', 'faces', 'forced', 'sorry', 'money', 'desire', 'spend', 'bucks', 'call', 'road', 'trip', 'loser', 'smelly', 'adds', 'depth', 'built', 'openly', 'havent', 'spoken', 'sand', 'soap', 'twist', 'days', 'foot', 'plane', 'each', 'stops', 'rotten', 'turned', 'apple', 'hasnt', 'tree', 'coke', 'aint', 'pair', 'hans', 'propel', 'flat', 'tires', 'reach', 'past', 'purely', 'sake', 'role', 'coast', 'moody', 'ghost', 'indie', 'using', 'brow', 'doing', 'reveal', 'bound', 'diva', 'solid', 'drunk', 'emote', 'gray', 'zone', 'torn', 'stifled', 'timing', 'driven', 'trite', 'useful', 'grand', 'steve', 'advice', 'heart', 'french', 'tim', 'roth', 'vows', 'dude', 'lacks', 'next', 'range', 'fault', 'ive', 'higher', 'level', 'grace', 'once', 'agent', 'roles', 'gunk', 'yeah', 'hows', 'annoy', 'behind', 'epic', 'shoddy', 'banal', 'stilted', 'horse', 'stand', 'rope', 'tower', 'shirt', 'lake', 'cringe', 'major', 'keeper', 'placed', 'barely', 'small', 'trash', 'gang', 'vow', 'thank', 'tiger', 'hidden']\n",
            "4 : ['couples', 'church', 'continues', 'critique', 'presents', 'package', 'which', 'review', 'since', 'applaud', 'attempt', 'highway', 'memento', 'making', 'correctly', 'concept', 'executed', 'terribly', 'problems', 'problem', 'simply', 'jumbled', 'fantasy', 'world', 'audience', 'member', 'others', 'strange', 'unravel', 'when', 'after', 'while', 'obviously', 'secret', 'until', 'minutes', 'engaging', 'flicks', 'actually', 'figured', 'halfway', 'bottom', 'movies', 'before', 'showing', 'running', 'visions', 'chasing', 'different', 'further', 'insight', 'studio', 'chopped', 'decided', 'turning', 'bentley', 'playing', 'beauty', 'kudos', 'feeling', 'overall', 'because', 'entertain', 'excites', 'despite', 'ending', 'craziness', 'slasher', 'someone', 'assuming', 'wrapped', 'years', 'sitting', 'shelves', 'whatever', 'wheres', 'nightmare', 'street', 'echoes', 'bastards', 'jamie', 'another', 'baldwin', 'brother', 'william', 'deserted', 'russian', 'within', 'bringing', 'action', 'virus', 'nowhere', 'origin', 'mir', 'course', 'donald', 'stumbling', 'around', 'robots', 'acting', 'below', 'average', 'design', 'picking', 'someones', 'sunken', 'viewer', 'thankful', 'squad', 'three', 'reformed', 'employ', 'police', 'however', 'evidence', 'claire', 'outfits', 'blowing', 'quickly', 'becomes', 'apparent', 'certainly', 'looking', 'complete', 'between', 'stretched', 'single', 'clich', 'matter', 'elements', 'recycled', 'already', 'nothing', 'wooden', 'deliver', 'escape', 'watching', 'screen', 'clothes', 'appears', 'towards', 'teenage', 'mindset', 'rating', 'content', 'justify', 'instead', 'telling', 'dialogue', 'written', 'extremely', 'heroes', 'basing', 'remembers', 'wisdom', 'number', 'memorable', 'counted', 'missing', 'checked', 'spending', 'dollar', 'judging', 'warner', 'cartoon', 'empire', 'mouse', 'reason', 'worried', 'recent', 'throne', 'promising', 'lively', 'colorful', 'palate', 'contest', 'arrival', 'kingdom', 'mediocre', 'keeping', 'nearly', 'revolves', 'voiced', 'belated', 'knight', 'fathers', 'warlord', 'ruber', 'oldman', 'steals', 'magical', 'dangerous', 'forest', 'dragon', 'eric', 'arguing', 'itself', 'fighter', 'essential', 'element', 'expected', 'theres', 'subpar', 'footage', 'compare', 'battle', 'hydra', 'remotely', 'dragons', 'comedy', 'shtick', 'awfully', 'lineup', 'sharing', 'realized', 'though', 'recall', 'specific', 'paired', 'singers', 'musical', 'moments', 'through', 'probably', 'adults', 'grievous', 'mentally', 'unstable', 'mother', 'womans', 'pictures', 'comments', 'stalked', 'seemingly', 'endless', 'string', 'produce', 'special', 'effects', 'nudity', 'allowing', 'frequent', 'wavers', 'slightly', 'respect', 'psycho', 'affair', 'rejected', 'rather', 'entry', 'collect', 'provide', 'suspense', 'opening', 'credits', 'spouts', 'ponders', 'snapshot', 'states', 'brooke', 'called', 'required', 'proceeds', 'begins', 'obvious', 'contrived', 'victim', 'obsesses', 'follows', 'desperate', 'elaborate', 'include', 'alltime', 'cliche', 'genres', 'require', 'events', 'showdown', 'where', 'survives', 'turkey', 'adequate', 'anything', 'either', 'overdoes', 'manages', 'creepy', 'demands', 'living', 'equally', 'title', 'proceed', 'decides', 'toolbox', 'answers', 'returns', 'heroine', 'somehow', 'parked', 'oblivious', 'presence', 'incredible', 'validity', 'receives', 'highly', 'somewhat', 'watched', 'several', 'murder', 'offensive', 'planet', 'custody', 'accused', 'fighting', 'reprises', 'previous', 'assault', 'homage', 'himself', 'believes', 'horrible', 'writer', 'expert', 'mistake', 'ghosts', 'humans', 'anybody', 'grounds', 'prince', 'darkness', 'managed', 'novel', 'science', 'fiction', 'surface', 'without', 'budget', 'gravity', 'increased', 'society', 'changed', 'advanced', 'culture', 'control', 'female', 'beyond', 'advances', 'except', 'replaced', 'martian', 'mining', 'colony', 'having', 'criminal', 'wilson', 'weapons', 'nature', 'manner', 'savages', 'entirely', 'night', 'almost', 'yellow', 'powerful', 'rushing', 'buildup', 'terror', 'creates', 'sudden', 'thinking', 'happening', 'standard', 'haunted', 'newer', 'digital', 'stretch', 'release', 'mission', 'panned', 'classic', 'comment', 'yourself', 'eight', 'wholesome', 'values', 'becoming', 'sleazy', 'hardcore', 'business', 'bubbling', 'beneath', 'depraved', 'order', 'satisfy', 'twisted', 'desires', 'position', 'influence', 'demented', 'talking', 'supposed', 'victims', 'killed', 'camera', 'credit', 'batman', 'forever', 'client', 'unwind', 'persons', 'albeit', 'unsavory', 'explodes', 'violence', 'finally', 'finale', 'hours', 'private', 'wealthy', 'widow', 'determine', 'whether', 'puzzle', 'neatly', 'toilet', 'tanks', 'deeper', 'obsessed', 'george', 'winding', 'reminding', 'frustrated', 'husband', 'condemn', 'condone', 'subject', 'exploits', 'seven', 'scribe', 'walkers', 'vision', 'limited', 'product', 'snippets', 'covering', 'later', 'whos', 'flunky', 'screened', 'familiar', 'indeed', 'everyday', 'neither', 'shocking', 'banality', 'exactly', 'laughs', 'months', 'terrible', 'annoying', 'flutters', 'nervous', 'smiles', 'slapstick', 'delivery', 'grants', 'included', 'obscene', 'pregnant', 'exchange', 'inject', 'unfunny', 'offers', 'responds', 'english', 'accent', 'attitude', 'possibly', 'beside', 'everyone', 'anyway', 'reaction', 'fluttered', 'paves', 'possible', 'birth', 'friends', 'dinosaur', 'parallels', 'dreadful', 'hideaway', 'artist', 'longing', 'doctor', 'recently', 'switch', 'favorite', 'vodka', 'hence', 'unamusing', 'failure', 'uninspired', 'lunacy', 'sunset', 'arrest', 'please', 'anyone', 'walking', 'drunken', 'difficult', 'swedish', 'plodding', 'painfully', 'mundane', 'career', 'paralyzed', 'secrets', 'unable', 'express', 'accurate', 'strives', 'focusing', 'pairing', 'father', 'alienated', 'hostile', 'lena', 'gossip', 'wouldnt', 'rotting', 'cancer', 'opera', 'blitzed', 'loathing', 'periodic', 'puke', 'sloshed', 'fallen', 'snorting', 'sabotages', 'personal', 'restrain', 'temper', 'notes', 'unspoken', 'familial', 'empathy', 'bitchy', 'petter', 'series', 'forward', 'roving', 'drunks', 'nosy', 'figure', 'unveil', 'devices', 'conflict', 'mainstays', 'wannabe', 'exists', 'casting', 'thwarts', 'pivotal', 'stronger', 'actress', 'perhaps', 'haunting', 'certain', 'superior', 'convey', 'twitch', 'paying', 'maybe', 'earlier', 'released', 'wonders', 'disturbed', 'figures', 'luminous', 'static', 'pathetic', 'besides', 'sorrow', 'genuine', 'charged', 'frisson', 'during', 'suggest', 'romance', 'explores', 'neurotic', 'delving', 'greece', 'illusion', 'deflect', 'willing', 'ambitious', 'stories', 'answer', 'canyon', 'martins', 'lifes', 'riddles', 'foreign', 'parents', 'oops', 'revenge', 'taught', 'arrgh', 'original', 'energy', 'justin', 'basically', 'mena', 'thora', 'birch', 'miscast', 'pisspoor', 'modern', 'romantic', 'alright', 'notches', 'fellas', 'blares', 'important', 'recognize', 'fluffy', 'rehashed', 'created', 'shrewd', 'advantage', 'dudes', 'reading', 'editing', 'plentiful', 'opponent', 'scampering', 'jumping', 'chords', 'hanging', 'says', 'strayed', 'stretches', 'reminded', 'school', 'numbers', 'hoping', 'packed', 'promoted', 'trailer', 'finishes', 'juggling', 'ladders', 'ladder', 'definite', 'ugh', 'annoyed', 'knights', 'outlaws', 'matrix', 'killers', 'romeo', 'noon']\n"
          ]
        }
      ]
    },
    {
      "cell_type": "code",
      "source": [
        "import matplotlib.pyplot as plt\n",
        "from sklearn.decomposition import PCA\n",
        "\n",
        "pca = PCA(n_components=2)\n",
        "embeddings_2d = pca.fit_transform(embeddings_filtered)\n",
        "\n",
        "for i in range(5):\n",
        "    cluster_embeddings = embeddings_2d[kmeans.labels_ == i]\n",
        "    plt.scatter(cluster_embeddings[:, 0], cluster_embeddings[:, 1], label=f\"Cluster {i+1}\")\n",
        "\n",
        "plt.legend()\n",
        "plt.title(\"K-means clustering of movie review embeddings\")\n",
        "plt.show()\n"
      ],
      "metadata": {
        "colab": {
          "base_uri": "https://localhost:8080/",
          "height": 452
        },
        "id": "yl039Tr9mxvq",
        "outputId": "51f75cbd-1790-4eed-e52b-eeeed0910baf"
      },
      "execution_count": null,
      "outputs": [
        {
          "output_type": "display_data",
          "data": {
            "text/plain": [
              "<Figure size 640x480 with 1 Axes>"
            ],
            "image/png": "[encoded data removed]"
          },
          "metadata": {}
        }
      ]
    }
  ]
}