{
  "cells": [
    {
      "cell_type": "markdown",
      "source": [
        "Web interfaces & documentation:\n",
        "\n",
        "https://wordnet.princeton.edu/\n",
        "\n",
        "http://wordvis.com/\n",
        "\n",
        "Paper/documentation: https://dl.acm.org/doi/pdf/10.1145/219717.219748\n",
        "\n"
      ],
      "metadata": {
        "id": "2tAKgBJB2utH"
      }
    },
    {
      "cell_type": "code",
      "execution_count": null,
      "metadata": {
        "colab": {
          "base_uri": "https://localhost:8080/"
        },
        "id": "R7VDMGaY2I7Z",
        "outputId": "271770da-0331-46a3-de50-c29741be59d7"
      },
      "outputs": [
        {
          "output_type": "stream",
          "name": "stderr",
          "text": [
            "[nltk_data] Downloading package wordnet to /root/nltk_data...\n"
          ]
        }
      ],
      "source": [
        "from nltk import download\n",
        "download('wordnet')\n",
        "\n",
        "from nltk.corpus import wordnet as wn"
      ]
    },
    {
      "cell_type": "markdown",
      "metadata": {
        "id": "-oiXlCvj2I7f"
      },
      "source": [
        "### Synsets"
      ]
    },
    {
      "cell_type": "code",
      "execution_count": null,
      "metadata": {
        "colab": {
          "base_uri": "https://localhost:8080/"
        },
        "id": "baU3BKbd2I7g",
        "outputId": "02d01525-3a4c-445d-d71b-3953885d7399"
      },
      "outputs": [
        {
          "output_type": "execute_result",
          "data": {
            "text/plain": [
              "[Synset('child.n.01'),\n",
              " Synset('kid.n.02'),\n",
              " Synset('kyd.n.01'),\n",
              " Synset('child.n.02'),\n",
              " Synset('kid.n.05'),\n",
              " Synset('pull_the_leg_of.v.01'),\n",
              " Synset('kid.v.02')]"
            ]
          },
          "metadata": {},
          "execution_count": 2
        }
      ],
      "source": [
        "kid_synsets = wn.synsets('kid')\n",
        "kid_synsets"
      ]
    },
    {
      "cell_type": "markdown",
      "metadata": {
        "id": "DbEfT5aT2I7i"
      },
      "source": [
        "Parts of speech"
      ]
    },
    {
      "cell_type": "code",
      "execution_count": null,
      "metadata": {
        "colab": {
          "base_uri": "https://localhost:8080/"
        },
        "id": "-xzDpwpY2I7j",
        "outputId": "4eb2edcc-60b6-44a7-a458-bd27fcb676fb"
      },
      "outputs": [
        {
          "output_type": "execute_result",
          "data": {
            "text/plain": [
              "['n', 'n', 'n', 'n', 'n', 'v', 'v']"
            ]
          },
          "metadata": {},
          "execution_count": 3
        }
      ],
      "source": [
        "[s.pos() for s in kid_synsets]\n"
      ]
    },
    {
      "cell_type": "markdown",
      "metadata": {
        "id": "oGLW3-yf2I7j"
      },
      "source": [
        "Example usages"
      ]
    },
    {
      "cell_type": "code",
      "source": [
        "kid_synsets[0].definition()"
      ],
      "metadata": {
        "colab": {
          "base_uri": "https://localhost:8080/",
          "height": 35
        },
        "id": "y3yMYw9G5UCe",
        "outputId": "c3352e3a-93e0-47a0-f835-938863ee6c7e"
      },
      "execution_count": null,
      "outputs": [
        {
          "output_type": "execute_result",
          "data": {
            "text/plain": [
              "'a young person of either sex'"
            ],
            "application/vnd.google.colaboratory.intrinsic+json": {
              "type": "string"
            }
          },
          "metadata": {},
          "execution_count": 4
        }
      ]
    },
    {
      "cell_type": "code",
      "execution_count": null,
      "metadata": {
        "colab": {
          "base_uri": "https://localhost:8080/"
        },
        "id": "jHQHgwJV2I7j",
        "outputId": "a6f6f3f6-a3d8-4ccf-b270-bc54ef7cada8"
      },
      "outputs": [
        {
          "output_type": "execute_result",
          "data": {
            "text/plain": [
              "['she writes books for children',\n",
              " \"they're just kids\",\n",
              " \"`tiddler' is a British term for youngster\"]"
            ]
          },
          "metadata": {},
          "execution_count": 5
        }
      ],
      "source": [
        "kid_synsets[0].examples()"
      ]
    },
    {
      "cell_type": "code",
      "source": [
        "kid_synsets[0].lemma_names()"
      ],
      "metadata": {
        "colab": {
          "base_uri": "https://localhost:8080/"
        },
        "id": "rIog0y6B5gWs",
        "outputId": "019de394-2240-4eba-d642-8f2a745aef70"
      },
      "execution_count": null,
      "outputs": [
        {
          "output_type": "execute_result",
          "data": {
            "text/plain": [
              "['child',\n",
              " 'kid',\n",
              " 'youngster',\n",
              " 'minor',\n",
              " 'shaver',\n",
              " 'nipper',\n",
              " 'small_fry',\n",
              " 'tiddler',\n",
              " 'tike',\n",
              " 'tyke',\n",
              " 'fry',\n",
              " 'nestling']"
            ]
          },
          "metadata": {},
          "execution_count": 6
        }
      ]
    },
    {
      "cell_type": "code",
      "source": [
        "kid_synsets[6].examples()"
      ],
      "metadata": {
        "colab": {
          "base_uri": "https://localhost:8080/"
        },
        "id": "BD-wJbJ1Um-9",
        "outputId": "b376121a-4b18-4187-ab25-0ef9a4bb2089"
      },
      "execution_count": null,
      "outputs": [
        {
          "output_type": "execute_result",
          "data": {
            "text/plain": [
              "['After we relaxed, we just kidded around']"
            ]
          },
          "metadata": {},
          "execution_count": 7
        }
      ]
    },
    {
      "cell_type": "code",
      "source": [
        "kid_synsets[5].examples()"
      ],
      "metadata": {
        "colab": {
          "base_uri": "https://localhost:8080/"
        },
        "id": "CBSHQfX3dFOm",
        "outputId": "9ce9c70e-505c-408a-88dd-ae20395db64a"
      },
      "execution_count": null,
      "outputs": [
        {
          "output_type": "execute_result",
          "data": {
            "text/plain": [
              "['Are you pulling my leg?']"
            ]
          },
          "metadata": {},
          "execution_count": 8
        }
      ]
    },
    {
      "cell_type": "markdown",
      "metadata": {
        "id": "YjLv5Q9u2I7k"
      },
      "source": [
        "### Semantic relationships"
      ]
    },
    {
      "cell_type": "markdown",
      "source": [
        "#### Nouns"
      ],
      "metadata": {
        "id": "e9NYmUWG4t3y"
      }
    },
    {
      "cell_type": "markdown",
      "metadata": {
        "id": "PaWp5i6I2I7m"
      },
      "source": [
        "\n",
        "Hyponyms / hypernyms"
      ]
    },
    {
      "cell_type": "code",
      "execution_count": null,
      "metadata": {
        "colab": {
          "base_uri": "https://localhost:8080/"
        },
        "id": "pbYByZ8P2I7n",
        "outputId": "7475607d-2929-4e38-cdc0-781a6409f9a6"
      },
      "outputs": [
        {
          "output_type": "execute_result",
          "data": {
            "text/plain": [
              "[Synset('bairn.n.01'),\n",
              " Synset('buster.n.02'),\n",
              " Synset('changeling.n.02'),\n",
              " Synset('child_prodigy.n.01'),\n",
              " Synset('foster-child.n.01'),\n",
              " Synset('imp.n.02'),\n",
              " Synset('kiddy.n.01'),\n",
              " Synset('orphan.n.01'),\n",
              " Synset('peanut.n.03'),\n",
              " Synset('pickaninny.n.01'),\n",
              " Synset('poster_child.n.01'),\n",
              " Synset('preschooler.n.01'),\n",
              " Synset('silly.n.01'),\n",
              " Synset('sprog.n.02'),\n",
              " Synset('toddler.n.01'),\n",
              " Synset('urchin.n.01'),\n",
              " Synset('waif.n.01')]"
            ]
          },
          "metadata": {},
          "execution_count": 9
        }
      ],
      "source": [
        "kid_synsets[0].hyponyms()"
      ]
    },
    {
      "cell_type": "code",
      "source": [
        "wn.synsets('tree')[0].hyponyms()"
      ],
      "metadata": {
        "colab": {
          "base_uri": "https://localhost:8080/"
        },
        "id": "7nNxZHnKd8BM",
        "outputId": "2c127be0-e492-4d48-fb30-7bef75650141"
      },
      "execution_count": null,
      "outputs": [
        {
          "output_type": "execute_result",
          "data": {
            "text/plain": [
              "[Synset('aalii.n.01'),\n",
              " Synset('acacia.n.01'),\n",
              " Synset('african_walnut.n.01'),\n",
              " Synset('albizzia.n.01'),\n",
              " Synset('alder.n.02'),\n",
              " Synset('angelim.n.01'),\n",
              " Synset('angiospermous_tree.n.01'),\n",
              " Synset('anise_tree.n.01'),\n",
              " Synset('arbor.n.01'),\n",
              " Synset('aroeira_blanca.n.01'),\n",
              " Synset('ash.n.02'),\n",
              " Synset('australian_nettle.n.01'),\n",
              " Synset('balata.n.02'),\n",
              " Synset('bayberry.n.01'),\n",
              " Synset('bean_tree.n.01'),\n",
              " Synset('beech.n.01'),\n",
              " Synset('birch.n.02'),\n",
              " Synset('bitterwood_tree.n.01'),\n",
              " Synset('black_mangrove.n.01'),\n",
              " Synset('blackwood.n.02'),\n",
              " Synset('bloodwood_tree.n.01'),\n",
              " Synset('bonduc.n.02'),\n",
              " Synset('bonsai.n.01'),\n",
              " Synset('bottle-tree.n.01'),\n",
              " Synset('brazilian_ironwood.n.01'),\n",
              " Synset('brazilian_pepper_tree.n.01'),\n",
              " Synset('brazilwood.n.02'),\n",
              " Synset('breakax.n.01'),\n",
              " Synset('burma_padauk.n.01'),\n",
              " Synset('button_tree.n.01'),\n",
              " Synset('cabbage_tree.n.03'),\n",
              " Synset('calaba.n.01'),\n",
              " Synset('calabash.n.02'),\n",
              " Synset('camwood.n.01'),\n",
              " Synset('caracolito.n.01'),\n",
              " Synset('carib_wood.n.01'),\n",
              " Synset('cassia.n.01'),\n",
              " Synset('casuarina.n.01'),\n",
              " Synset('chaulmoogra.n.01'),\n",
              " Synset('chestnut.n.02'),\n",
              " Synset('chinaberry.n.02'),\n",
              " Synset('chinese_parasol_tree.n.01'),\n",
              " Synset('christmas_bush.n.01'),\n",
              " Synset('cinchona.n.02'),\n",
              " Synset('clusia.n.01'),\n",
              " Synset('cockspur.n.02'),\n",
              " Synset('cocobolo.n.01'),\n",
              " Synset('coffee.n.02'),\n",
              " Synset('conacaste.n.01'),\n",
              " Synset('coral_tree.n.01'),\n",
              " Synset('coralwood.n.01'),\n",
              " Synset('cork_tree.n.01'),\n",
              " Synset('dagame.n.01'),\n",
              " Synset('devilwood.n.01'),\n",
              " Synset('dhak.n.01'),\n",
              " Synset('dhawa.n.01'),\n",
              " Synset('dipterocarp.n.01'),\n",
              " Synset('dita.n.01'),\n",
              " Synset('divi-divi.n.02'),\n",
              " Synset('ebony.n.03'),\n",
              " Synset('elm.n.01'),\n",
              " Synset('fever_tree.n.01'),\n",
              " Synset('fig_tree.n.01'),\n",
              " Synset('fringe_tree.n.01'),\n",
              " Synset('giant_chinkapin.n.01'),\n",
              " Synset('gliricidia.n.01'),\n",
              " Synset('granadilla_tree.n.01'),\n",
              " Synset('guama.n.01'),\n",
              " Synset('guinea_pepper.n.02'),\n",
              " Synset('gum_tree.n.01'),\n",
              " Synset('gutta-percha_tree.n.01'),\n",
              " Synset('gutta-percha_tree.n.02'),\n",
              " Synset('gymnospermous_tree.n.01'),\n",
              " Synset('hackberry.n.01'),\n",
              " Synset('hazel.n.01'),\n",
              " Synset('hop_hornbeam.n.01'),\n",
              " Synset('hornbeam.n.01'),\n",
              " Synset('hydnocarpus_laurifolia.n.01'),\n",
              " Synset('ice-cream_bean.n.01'),\n",
              " Synset('idesia.n.01'),\n",
              " Synset('incense_tree.n.01'),\n",
              " Synset('indian_beech.n.01'),\n",
              " Synset('inga.n.01'),\n",
              " Synset('ivory_tree.n.01'),\n",
              " Synset('jamaica_dogwood.n.01'),\n",
              " Synset('jamaican_cherry.n.01'),\n",
              " Synset('japanese_pagoda_tree.n.01'),\n",
              " Synset('kentucky_coffee_tree.n.01'),\n",
              " Synset('ketembilla.n.01'),\n",
              " Synset('keurboom.n.01'),\n",
              " Synset('keurboom.n.02'),\n",
              " Synset('kingwood.n.02'),\n",
              " Synset('kino.n.02'),\n",
              " Synset('kowhai.n.01'),\n",
              " Synset('lacebark.n.01'),\n",
              " Synset('lancewood.n.02'),\n",
              " Synset('lanseh_tree.n.01'),\n",
              " Synset('laurelwood.n.01'),\n",
              " Synset('lead_tree.n.01'),\n",
              " Synset('lemonwood.n.02'),\n",
              " Synset('lepidobotrys.n.01'),\n",
              " Synset('linden.n.02'),\n",
              " Synset('locust_tree.n.01'),\n",
              " Synset('mahogany.n.02'),\n",
              " Synset('manila_tamarind.n.01'),\n",
              " Synset('marblewood.n.02'),\n",
              " Synset('maria.n.02'),\n",
              " Synset('marmalade_tree.n.01'),\n",
              " Synset('mayeng.n.01'),\n",
              " Synset('mescal_bean.n.01'),\n",
              " Synset('millettia.n.01'),\n",
              " Synset('montezuma.n.01'),\n",
              " Synset('msasa.n.01'),\n",
              " Synset('nakedwood.n.01'),\n",
              " Synset('necklace_tree.n.01'),\n",
              " Synset('neem.n.01'),\n",
              " Synset('nitta_tree.n.01'),\n",
              " Synset('oak.n.02'),\n",
              " Synset('oak_chestnut.n.01'),\n",
              " Synset('obeche.n.02'),\n",
              " Synset('opepe.n.01'),\n",
              " Synset('padauk.n.01'),\n",
              " Synset('palm.n.03'),\n",
              " Synset('palo_verde.n.01'),\n",
              " Synset('pandanus.n.02'),\n",
              " Synset('pepper_tree.n.01'),\n",
              " Synset('pepper_tree.n.02'),\n",
              " Synset('peruvian_balsam.n.01'),\n",
              " Synset('plane_tree.n.01'),\n",
              " Synset('pollard.n.01'),\n",
              " Synset('poon.n.02'),\n",
              " Synset('prickly_ash.n.01'),\n",
              " Synset('prickly_ash.n.02'),\n",
              " Synset('princewood.n.01'),\n",
              " Synset('puka.n.02'),\n",
              " Synset('quandong.n.01'),\n",
              " Synset('quandong.n.03'),\n",
              " Synset('quira.n.02'),\n",
              " Synset('red_sandalwood.n.02'),\n",
              " Synset('red_silk-cotton_tree.n.01'),\n",
              " Synset('ribbon_tree.n.01'),\n",
              " Synset('rose_chestnut.n.01'),\n",
              " Synset('rosewood.n.02'),\n",
              " Synset('sandalwood_tree.n.01'),\n",
              " Synset('sapling.n.01'),\n",
              " Synset('satinwood.n.03'),\n",
              " Synset('scarlet_wisteria_tree.n.01'),\n",
              " Synset('scrub_beefwood.n.01'),\n",
              " Synset('shade_tree.n.01'),\n",
              " Synset('shaving-brush_tree.n.01'),\n",
              " Synset('shingle_tree.n.01'),\n",
              " Synset('silver_ash.n.01'),\n",
              " Synset('silver_tree.n.01'),\n",
              " Synset('silver_tree.n.02'),\n",
              " Synset('sissoo.n.01'),\n",
              " Synset('snag.n.02'),\n",
              " Synset('soapberry.n.01'),\n",
              " Synset('souari.n.01'),\n",
              " Synset('southern_beech.n.01'),\n",
              " Synset('spanish_tamarind.n.01'),\n",
              " Synset('tanbark_oak.n.01'),\n",
              " Synset('teak.n.02'),\n",
              " Synset('timber_tree.n.01'),\n",
              " Synset('tipu.n.01'),\n",
              " Synset('tolu_tree.n.01'),\n",
              " Synset('tree_of_knowledge.n.01'),\n",
              " Synset('treelet.n.01'),\n",
              " Synset('trifoliate_orange.n.01'),\n",
              " Synset('tulipwood_tree.n.01'),\n",
              " Synset('turreae.n.01'),\n",
              " Synset('wheel_tree.n.01'),\n",
              " Synset('white_mangrove.n.01'),\n",
              " Synset('white_mangrove.n.02'),\n",
              " Synset('wild_fig.n.02'),\n",
              " Synset('wild_medlar.n.01'),\n",
              " Synset('wild_tamarind.n.02'),\n",
              " Synset('willow.n.01'),\n",
              " Synset('winter's_bark.n.02'),\n",
              " Synset('yellowwood.n.02'),\n",
              " Synset('zebrawood.n.02')]"
            ]
          },
          "metadata": {},
          "execution_count": 10
        }
      ]
    },
    {
      "cell_type": "code",
      "source": [
        "wn.synsets('tree')[0].hypernyms()"
      ],
      "metadata": {
        "colab": {
          "base_uri": "https://localhost:8080/"
        },
        "id": "Jp0JdesbeHAB",
        "outputId": "ef5b09bf-f1b8-4941-ba80-cf3b17654140"
      },
      "execution_count": null,
      "outputs": [
        {
          "output_type": "execute_result",
          "data": {
            "text/plain": [
              "[Synset('woody_plant.n.01')]"
            ]
          },
          "metadata": {},
          "execution_count": 11
        }
      ]
    },
    {
      "cell_type": "code",
      "source": [
        "kid_synsets[0].hyponyms()[-1].definition()"
      ],
      "metadata": {
        "colab": {
          "base_uri": "https://localhost:8080/",
          "height": 35
        },
        "id": "vgrHpPicciDI",
        "outputId": "951915ac-bf10-4380-eb12-87ff10316b63"
      },
      "execution_count": null,
      "outputs": [
        {
          "output_type": "execute_result",
          "data": {
            "text/plain": [
              "'a homeless child especially one forsaken or orphaned'"
            ],
            "application/vnd.google.colaboratory.intrinsic+json": {
              "type": "string"
            }
          },
          "metadata": {},
          "execution_count": 12
        }
      ]
    },
    {
      "cell_type": "code",
      "source": [
        "kid_synsets[0].lemmas()"
      ],
      "metadata": {
        "colab": {
          "base_uri": "https://localhost:8080/"
        },
        "id": "latZB4qAedcN",
        "outputId": "a5f4c027-285d-458c-9c38-2864c63b363e"
      },
      "execution_count": null,
      "outputs": [
        {
          "output_type": "execute_result",
          "data": {
            "text/plain": [
              "[Lemma('child.n.01.child'),\n",
              " Lemma('child.n.01.kid'),\n",
              " Lemma('child.n.01.youngster'),\n",
              " Lemma('child.n.01.minor'),\n",
              " Lemma('child.n.01.shaver'),\n",
              " Lemma('child.n.01.nipper'),\n",
              " Lemma('child.n.01.small_fry'),\n",
              " Lemma('child.n.01.tiddler'),\n",
              " Lemma('child.n.01.tike'),\n",
              " Lemma('child.n.01.tyke'),\n",
              " Lemma('child.n.01.fry'),\n",
              " Lemma('child.n.01.nestling')]"
            ]
          },
          "metadata": {},
          "execution_count": 13
        }
      ]
    },
    {
      "cell_type": "code",
      "execution_count": null,
      "metadata": {
        "colab": {
          "base_uri": "https://localhost:8080/"
        },
        "id": "7TDl1jso2I7o",
        "outputId": "1266278b-0e9a-4c77-e828-47a5eec0a0bd"
      },
      "outputs": [
        {
          "output_type": "execute_result",
          "data": {
            "text/plain": [
              "['child',\n",
              " 'kid',\n",
              " 'youngster',\n",
              " 'minor',\n",
              " 'shaver',\n",
              " 'nipper',\n",
              " 'small_fry',\n",
              " 'tiddler',\n",
              " 'tike',\n",
              " 'tyke',\n",
              " 'fry',\n",
              " 'nestling']"
            ]
          },
          "metadata": {},
          "execution_count": 14
        }
      ],
      "source": [
        "[l.name() for l in kid_synsets[0].lemmas()]"
      ]
    },
    {
      "cell_type": "code",
      "source": [
        "kid_synsets[0].hypernyms()"
      ],
      "metadata": {
        "colab": {
          "base_uri": "https://localhost:8080/"
        },
        "id": "gSfqzT-ZUw6Z",
        "outputId": "b75190b5-2596-4a77-d3c2-66fac26e512d"
      },
      "execution_count": null,
      "outputs": [
        {
          "output_type": "execute_result",
          "data": {
            "text/plain": [
              "[Synset('juvenile.n.01')]"
            ]
          },
          "metadata": {},
          "execution_count": 15
        }
      ]
    },
    {
      "cell_type": "code",
      "source": [
        "wn.synsets(\"tree\")"
      ],
      "metadata": {
        "colab": {
          "base_uri": "https://localhost:8080/"
        },
        "id": "-X2ZhgH4TgO7",
        "outputId": "4ea5e522-1ce0-4b08-dd9d-efb9c3acd275"
      },
      "execution_count": null,
      "outputs": [
        {
          "output_type": "execute_result",
          "data": {
            "text/plain": [
              "[Synset('tree.n.01'),\n",
              " Synset('tree.n.02'),\n",
              " Synset('tree.n.03'),\n",
              " Synset('corner.v.02'),\n",
              " Synset('tree.v.02'),\n",
              " Synset('tree.v.03'),\n",
              " Synset('tree.v.04')]"
            ]
          },
          "metadata": {},
          "execution_count": 16
        }
      ]
    },
    {
      "cell_type": "code",
      "source": [
        "[s.definition() for s in wn.synsets(\"tree\")]"
      ],
      "metadata": {
        "colab": {
          "base_uri": "https://localhost:8080/"
        },
        "id": "GfV3sfxAexWA",
        "outputId": "29cb8089-de1d-4438-8dbd-51455886b874"
      },
      "execution_count": null,
      "outputs": [
        {
          "output_type": "execute_result",
          "data": {
            "text/plain": [
              "['a tall perennial woody plant having a main trunk and branches forming a distinct elevated crown; includes both gymnosperms and angiosperms',\n",
              " 'a figure that branches from a single root',\n",
              " 'English actor and theatrical producer noted for his lavish productions of Shakespeare (1853-1917)',\n",
              " 'force a person or an animal into a position from which he cannot escape',\n",
              " 'plant with trees',\n",
              " 'chase an animal up a tree',\n",
              " 'stretch (a shoe) on a shoetree']"
            ]
          },
          "metadata": {},
          "execution_count": 17
        }
      ]
    },
    {
      "cell_type": "code",
      "source": [
        "tree_synset = wn.synsets(\"tree\")[0]\n",
        "tree_synset.hyponyms()"
      ],
      "metadata": {
        "colab": {
          "base_uri": "https://localhost:8080/"
        },
        "id": "M2SVgpORTpEV",
        "outputId": "fcc1b56a-014b-41b8-a55d-c034a9b43463"
      },
      "execution_count": null,
      "outputs": [
        {
          "output_type": "execute_result",
          "data": {
            "text/plain": [
              "[Synset('aalii.n.01'),\n",
              " Synset('acacia.n.01'),\n",
              " Synset('african_walnut.n.01'),\n",
              " Synset('albizzia.n.01'),\n",
              " Synset('alder.n.02'),\n",
              " Synset('angelim.n.01'),\n",
              " Synset('angiospermous_tree.n.01'),\n",
              " Synset('anise_tree.n.01'),\n",
              " Synset('arbor.n.01'),\n",
              " Synset('aroeira_blanca.n.01'),\n",
              " Synset('ash.n.02'),\n",
              " Synset('australian_nettle.n.01'),\n",
              " Synset('balata.n.02'),\n",
              " Synset('bayberry.n.01'),\n",
              " Synset('bean_tree.n.01'),\n",
              " Synset('beech.n.01'),\n",
              " Synset('birch.n.02'),\n",
              " Synset('bitterwood_tree.n.01'),\n",
              " Synset('black_mangrove.n.01'),\n",
              " Synset('blackwood.n.02'),\n",
              " Synset('bloodwood_tree.n.01'),\n",
              " Synset('bonduc.n.02'),\n",
              " Synset('bonsai.n.01'),\n",
              " Synset('bottle-tree.n.01'),\n",
              " Synset('brazilian_ironwood.n.01'),\n",
              " Synset('brazilian_pepper_tree.n.01'),\n",
              " Synset('brazilwood.n.02'),\n",
              " Synset('breakax.n.01'),\n",
              " Synset('burma_padauk.n.01'),\n",
              " Synset('button_tree.n.01'),\n",
              " Synset('cabbage_tree.n.03'),\n",
              " Synset('calaba.n.01'),\n",
              " Synset('calabash.n.02'),\n",
              " Synset('camwood.n.01'),\n",
              " Synset('caracolito.n.01'),\n",
              " Synset('carib_wood.n.01'),\n",
              " Synset('cassia.n.01'),\n",
              " Synset('casuarina.n.01'),\n",
              " Synset('chaulmoogra.n.01'),\n",
              " Synset('chestnut.n.02'),\n",
              " Synset('chinaberry.n.02'),\n",
              " Synset('chinese_parasol_tree.n.01'),\n",
              " Synset('christmas_bush.n.01'),\n",
              " Synset('cinchona.n.02'),\n",
              " Synset('clusia.n.01'),\n",
              " Synset('cockspur.n.02'),\n",
              " Synset('cocobolo.n.01'),\n",
              " Synset('coffee.n.02'),\n",
              " Synset('conacaste.n.01'),\n",
              " Synset('coral_tree.n.01'),\n",
              " Synset('coralwood.n.01'),\n",
              " Synset('cork_tree.n.01'),\n",
              " Synset('dagame.n.01'),\n",
              " Synset('devilwood.n.01'),\n",
              " Synset('dhak.n.01'),\n",
              " Synset('dhawa.n.01'),\n",
              " Synset('dipterocarp.n.01'),\n",
              " Synset('dita.n.01'),\n",
              " Synset('divi-divi.n.02'),\n",
              " Synset('ebony.n.03'),\n",
              " Synset('elm.n.01'),\n",
              " Synset('fever_tree.n.01'),\n",
              " Synset('fig_tree.n.01'),\n",
              " Synset('fringe_tree.n.01'),\n",
              " Synset('giant_chinkapin.n.01'),\n",
              " Synset('gliricidia.n.01'),\n",
              " Synset('granadilla_tree.n.01'),\n",
              " Synset('guama.n.01'),\n",
              " Synset('guinea_pepper.n.02'),\n",
              " Synset('gum_tree.n.01'),\n",
              " Synset('gutta-percha_tree.n.01'),\n",
              " Synset('gutta-percha_tree.n.02'),\n",
              " Synset('gymnospermous_tree.n.01'),\n",
              " Synset('hackberry.n.01'),\n",
              " Synset('hazel.n.01'),\n",
              " Synset('hop_hornbeam.n.01'),\n",
              " Synset('hornbeam.n.01'),\n",
              " Synset('hydnocarpus_laurifolia.n.01'),\n",
              " Synset('ice-cream_bean.n.01'),\n",
              " Synset('idesia.n.01'),\n",
              " Synset('incense_tree.n.01'),\n",
              " Synset('indian_beech.n.01'),\n",
              " Synset('inga.n.01'),\n",
              " Synset('ivory_tree.n.01'),\n",
              " Synset('jamaica_dogwood.n.01'),\n",
              " Synset('jamaican_cherry.n.01'),\n",
              " Synset('japanese_pagoda_tree.n.01'),\n",
              " Synset('kentucky_coffee_tree.n.01'),\n",
              " Synset('ketembilla.n.01'),\n",
              " Synset('keurboom.n.01'),\n",
              " Synset('keurboom.n.02'),\n",
              " Synset('kingwood.n.02'),\n",
              " Synset('kino.n.02'),\n",
              " Synset('kowhai.n.01'),\n",
              " Synset('lacebark.n.01'),\n",
              " Synset('lancewood.n.02'),\n",
              " Synset('lanseh_tree.n.01'),\n",
              " Synset('laurelwood.n.01'),\n",
              " Synset('lead_tree.n.01'),\n",
              " Synset('lemonwood.n.02'),\n",
              " Synset('lepidobotrys.n.01'),\n",
              " Synset('linden.n.02'),\n",
              " Synset('locust_tree.n.01'),\n",
              " Synset('mahogany.n.02'),\n",
              " Synset('manila_tamarind.n.01'),\n",
              " Synset('marblewood.n.02'),\n",
              " Synset('maria.n.02'),\n",
              " Synset('marmalade_tree.n.01'),\n",
              " Synset('mayeng.n.01'),\n",
              " Synset('mescal_bean.n.01'),\n",
              " Synset('millettia.n.01'),\n",
              " Synset('montezuma.n.01'),\n",
              " Synset('msasa.n.01'),\n",
              " Synset('nakedwood.n.01'),\n",
              " Synset('necklace_tree.n.01'),\n",
              " Synset('neem.n.01'),\n",
              " Synset('nitta_tree.n.01'),\n",
              " Synset('oak.n.02'),\n",
              " Synset('oak_chestnut.n.01'),\n",
              " Synset('obeche.n.02'),\n",
              " Synset('opepe.n.01'),\n",
              " Synset('padauk.n.01'),\n",
              " Synset('palm.n.03'),\n",
              " Synset('palo_verde.n.01'),\n",
              " Synset('pandanus.n.02'),\n",
              " Synset('pepper_tree.n.01'),\n",
              " Synset('pepper_tree.n.02'),\n",
              " Synset('peruvian_balsam.n.01'),\n",
              " Synset('plane_tree.n.01'),\n",
              " Synset('pollard.n.01'),\n",
              " Synset('poon.n.02'),\n",
              " Synset('prickly_ash.n.01'),\n",
              " Synset('prickly_ash.n.02'),\n",
              " Synset('princewood.n.01'),\n",
              " Synset('puka.n.02'),\n",
              " Synset('quandong.n.01'),\n",
              " Synset('quandong.n.03'),\n",
              " Synset('quira.n.02'),\n",
              " Synset('red_sandalwood.n.02'),\n",
              " Synset('red_silk-cotton_tree.n.01'),\n",
              " Synset('ribbon_tree.n.01'),\n",
              " Synset('rose_chestnut.n.01'),\n",
              " Synset('rosewood.n.02'),\n",
              " Synset('sandalwood_tree.n.01'),\n",
              " Synset('sapling.n.01'),\n",
              " Synset('satinwood.n.03'),\n",
              " Synset('scarlet_wisteria_tree.n.01'),\n",
              " Synset('scrub_beefwood.n.01'),\n",
              " Synset('shade_tree.n.01'),\n",
              " Synset('shaving-brush_tree.n.01'),\n",
              " Synset('shingle_tree.n.01'),\n",
              " Synset('silver_ash.n.01'),\n",
              " Synset('silver_tree.n.01'),\n",
              " Synset('silver_tree.n.02'),\n",
              " Synset('sissoo.n.01'),\n",
              " Synset('snag.n.02'),\n",
              " Synset('soapberry.n.01'),\n",
              " Synset('souari.n.01'),\n",
              " Synset('southern_beech.n.01'),\n",
              " Synset('spanish_tamarind.n.01'),\n",
              " Synset('tanbark_oak.n.01'),\n",
              " Synset('teak.n.02'),\n",
              " Synset('timber_tree.n.01'),\n",
              " Synset('tipu.n.01'),\n",
              " Synset('tolu_tree.n.01'),\n",
              " Synset('tree_of_knowledge.n.01'),\n",
              " Synset('treelet.n.01'),\n",
              " Synset('trifoliate_orange.n.01'),\n",
              " Synset('tulipwood_tree.n.01'),\n",
              " Synset('turreae.n.01'),\n",
              " Synset('wheel_tree.n.01'),\n",
              " Synset('white_mangrove.n.01'),\n",
              " Synset('white_mangrove.n.02'),\n",
              " Synset('wild_fig.n.02'),\n",
              " Synset('wild_medlar.n.01'),\n",
              " Synset('wild_tamarind.n.02'),\n",
              " Synset('willow.n.01'),\n",
              " Synset('winter's_bark.n.02'),\n",
              " Synset('yellowwood.n.02'),\n",
              " Synset('zebrawood.n.02')]"
            ]
          },
          "metadata": {},
          "execution_count": 18
        }
      ]
    },
    {
      "cell_type": "markdown",
      "source": [
        "### Meronyms / holonyms"
      ],
      "metadata": {
        "id": "LDZyN8MgPtnO"
      }
    },
    {
      "cell_type": "code",
      "source": [
        "tree_synset.part_meronyms()"
      ],
      "metadata": {
        "colab": {
          "base_uri": "https://localhost:8080/"
        },
        "id": "VpRT2z20Vre_",
        "outputId": "32860029-080b-4529-f136-303903533ff3"
      },
      "execution_count": null,
      "outputs": [
        {
          "output_type": "execute_result",
          "data": {
            "text/plain": [
              "[Synset('burl.n.02'),\n",
              " Synset('crown.n.07'),\n",
              " Synset('limb.n.02'),\n",
              " Synset('stump.n.01'),\n",
              " Synset('trunk.n.01')]"
            ]
          },
          "metadata": {},
          "execution_count": 19
        }
      ]
    },
    {
      "cell_type": "code",
      "source": [
        "tree_synset.member_meronyms()"
      ],
      "metadata": {
        "colab": {
          "base_uri": "https://localhost:8080/"
        },
        "id": "8ou26OSiVsR4",
        "outputId": "caa850ea-f78c-4e18-9de8-ae32961c85ca"
      },
      "execution_count": null,
      "outputs": [
        {
          "output_type": "execute_result",
          "data": {
            "text/plain": [
              "[]"
            ]
          },
          "metadata": {},
          "execution_count": 20
        }
      ]
    },
    {
      "cell_type": "code",
      "source": [
        "tree_synset.member_holonyms()"
      ],
      "metadata": {
        "colab": {
          "base_uri": "https://localhost:8080/"
        },
        "id": "7cJm6A4LWsGh",
        "outputId": "1b230b93-9596-49ab-df6d-a04f6f7d0100"
      },
      "execution_count": null,
      "outputs": [
        {
          "output_type": "execute_result",
          "data": {
            "text/plain": [
              "[Synset('forest.n.01')]"
            ]
          },
          "metadata": {},
          "execution_count": 21
        }
      ]
    },
    {
      "cell_type": "code",
      "source": [
        "tree_synset.substance_meronyms()"
      ],
      "metadata": {
        "colab": {
          "base_uri": "https://localhost:8080/"
        },
        "id": "tmRyZfhuW45B",
        "outputId": "cc74b1df-666c-4c41-eba8-1c3ffa24fa71"
      },
      "execution_count": null,
      "outputs": [
        {
          "output_type": "execute_result",
          "data": {
            "text/plain": [
              "[Synset('heartwood.n.01'), Synset('sapwood.n.01')]"
            ]
          },
          "metadata": {},
          "execution_count": 22
        }
      ]
    },
    {
      "cell_type": "code",
      "source": [
        "wn.synsets('forest')[0].member_meronyms()"
      ],
      "metadata": {
        "colab": {
          "base_uri": "https://localhost:8080/"
        },
        "id": "-7UzS2_bWEuz",
        "outputId": "8fb26b8f-b9b7-417d-a3ed-362d7fb44d43"
      },
      "execution_count": null,
      "outputs": [
        {
          "output_type": "execute_result",
          "data": {
            "text/plain": [
              "[Synset('tree.n.01'), Synset('underbrush.n.01')]"
            ]
          },
          "metadata": {},
          "execution_count": 23
        }
      ]
    },
    {
      "cell_type": "code",
      "source": [
        "[s.definition() for s in wn.synsets(\"flock\")]"
      ],
      "metadata": {
        "colab": {
          "base_uri": "https://localhost:8080/"
        },
        "id": "7O00cfoKWXYr",
        "outputId": "058baf2f-addc-4ffa-d8e0-35afcae10fc1"
      },
      "execution_count": null,
      "outputs": [
        {
          "output_type": "execute_result",
          "data": {
            "text/plain": [
              "['a church congregation guided by a pastor',\n",
              " 'a group of birds',\n",
              " \"(often followed by `of') a large number or amount or extent\",\n",
              " 'an orderly crowd',\n",
              " 'a group of sheep or goats',\n",
              " 'move as a crowd or in a group',\n",
              " 'come together as in a cluster or flock']"
            ]
          },
          "metadata": {},
          "execution_count": 24
        }
      ]
    },
    {
      "cell_type": "code",
      "source": [
        "wn.synsets(\"flock\")[1].member_meronyms()"
      ],
      "metadata": {
        "colab": {
          "base_uri": "https://localhost:8080/"
        },
        "id": "giSsH9wiVyoI",
        "outputId": "bc337512-757a-461a-b4fd-a8862eddd6f0"
      },
      "execution_count": null,
      "outputs": [
        {
          "output_type": "execute_result",
          "data": {
            "text/plain": [
              "[Synset('bird.n.01')]"
            ]
          },
          "metadata": {},
          "execution_count": 25
        }
      ]
    },
    {
      "cell_type": "code",
      "source": [
        "wn.synsets(\"flock\")[4].member_meronyms()"
      ],
      "metadata": {
        "colab": {
          "base_uri": "https://localhost:8080/"
        },
        "id": "VHtkE9FBWiJi",
        "outputId": "9e379912-e351-49fb-84dd-1b1bcc9fd983"
      },
      "execution_count": null,
      "outputs": [
        {
          "output_type": "execute_result",
          "data": {
            "text/plain": [
              "[Synset('sheep.n.01')]"
            ]
          },
          "metadata": {},
          "execution_count": 26
        }
      ]
    },
    {
      "cell_type": "code",
      "source": [
        "wn.synsets(\"flock\")[1].definition()"
      ],
      "metadata": {
        "colab": {
          "base_uri": "https://localhost:8080/",
          "height": 35
        },
        "id": "HG7yEUW4XINN",
        "outputId": "1f0738f6-cb25-4743-9305-da1e38fffe71"
      },
      "execution_count": null,
      "outputs": [
        {
          "output_type": "execute_result",
          "data": {
            "text/plain": [
              "'a group of birds'"
            ],
            "application/vnd.google.colaboratory.intrinsic+json": {
              "type": "string"
            }
          },
          "metadata": {},
          "execution_count": 27
        }
      ]
    },
    {
      "cell_type": "code",
      "source": [
        "bird_synset = wn.synsets(\"flock\")[1].member_meronyms()[0]"
      ],
      "metadata": {
        "id": "QUnLbchyc78r"
      },
      "execution_count": null,
      "outputs": []
    },
    {
      "cell_type": "markdown",
      "source": [
        "#### Back to hypernyms"
      ],
      "metadata": {
        "id": "ARuzJVkt7oZp"
      }
    },
    {
      "cell_type": "code",
      "source": [
        "s = bird_synset\n",
        "for i in range(5):\n",
        "  print((\"%%%ds%%s %%s\" % (5-i)) % (\"\", s.name(), s.definition()))\n",
        "  s = s.hypernyms()[0]\n"
      ],
      "metadata": {
        "colab": {
          "base_uri": "https://localhost:8080/"
        },
        "id": "86pjuFi4dHt7",
        "outputId": "00b9786c-76aa-44ea-a4bb-25c45888d608"
      },
      "execution_count": null,
      "outputs": [
        {
          "output_type": "stream",
          "name": "stdout",
          "text": [
            "     bird.n.01 warm-blooded egg-laying vertebrates characterized by feathers and forelimbs modified as wings\n",
            "    vertebrate.n.01 animals having a bony or cartilaginous skeleton with a segmented spinal column and a large brain enclosed in a skull or cranium\n",
            "   chordate.n.01 any animal of the phylum Chordata having a notochord or spinal column\n",
            "  animal.n.01 a living organism characterized by voluntary movement\n",
            " organism.n.01 a living thing that has (or can develop) the ability to act or function independently\n"
          ]
        }
      ]
    },
    {
      "cell_type": "code",
      "source": [
        "sorted(bird_synset.hypernym_distances(), key=lambda t: t[1])"
      ],
      "metadata": {
        "colab": {
          "base_uri": "https://localhost:8080/"
        },
        "id": "zClZLkB8dE_c",
        "outputId": "5dd49dcf-18e8-43f3-aeaa-4ef2f0fb9255"
      },
      "execution_count": null,
      "outputs": [
        {
          "output_type": "execute_result",
          "data": {
            "text/plain": [
              "[(Synset('bird.n.01'), 0),\n",
              " (Synset('vertebrate.n.01'), 1),\n",
              " (Synset('chordate.n.01'), 2),\n",
              " (Synset('animal.n.01'), 3),\n",
              " (Synset('organism.n.01'), 4),\n",
              " (Synset('living_thing.n.01'), 5),\n",
              " (Synset('whole.n.02'), 6),\n",
              " (Synset('object.n.01'), 7),\n",
              " (Synset('physical_entity.n.01'), 8),\n",
              " (Synset('entity.n.01'), 9)]"
            ]
          },
          "metadata": {},
          "execution_count": 30
        }
      ]
    },
    {
      "cell_type": "code",
      "source": [
        "[(s, s.definition()) for s in wn.synsets(\"human\")]"
      ],
      "metadata": {
        "colab": {
          "base_uri": "https://localhost:8080/"
        },
        "id": "R-8xVmqtkuZW",
        "outputId": "245f5b69-cd4c-45ea-e66a-bf99206422c2"
      },
      "execution_count": null,
      "outputs": [
        {
          "output_type": "execute_result",
          "data": {
            "text/plain": [
              "[(Synset('homo.n.02'),\n",
              "  'any living or extinct member of the family Hominidae characterized by superior intelligence, articulate speech, and erect carriage'),\n",
              " (Synset('human.a.01'), 'characteristic of humanity'),\n",
              " (Synset('human.a.02'), 'relating to a person'),\n",
              " (Synset('human.a.03'),\n",
              "  'having human form or attributes as opposed to those of animals or divine beings')]"
            ]
          },
          "metadata": {},
          "execution_count": 31
        }
      ]
    },
    {
      "cell_type": "code",
      "source": [
        "human_synset = wn.synsets(\"human\", pos=\"n\")[0]"
      ],
      "metadata": {
        "id": "Qei7umFulzrK"
      },
      "execution_count": null,
      "outputs": []
    },
    {
      "cell_type": "code",
      "source": [
        "wn.synsets(\"human\", pos=wn.NOUN)"
      ],
      "metadata": {
        "colab": {
          "base_uri": "https://localhost:8080/"
        },
        "id": "_fsJr4C7X4cU",
        "outputId": "e2498a8b-a629-4478-bb27-17af8922f9c9"
      },
      "execution_count": null,
      "outputs": [
        {
          "output_type": "execute_result",
          "data": {
            "text/plain": [
              "[Synset('homo.n.02')]"
            ]
          },
          "metadata": {},
          "execution_count": 33
        }
      ]
    },
    {
      "cell_type": "code",
      "source": [
        "sorted(human_synset.hypernym_distances(), key=lambda t: t[1])"
      ],
      "metadata": {
        "colab": {
          "base_uri": "https://localhost:8080/"
        },
        "id": "bx-8ofNpWEXC",
        "outputId": "0479196a-c32f-4868-8a47-aa5e1c352439"
      },
      "execution_count": null,
      "outputs": [
        {
          "output_type": "execute_result",
          "data": {
            "text/plain": [
              "[(Synset('homo.n.02'), 0),\n",
              " (Synset('hominid.n.01'), 1),\n",
              " (Synset('primate.n.02'), 2),\n",
              " (Synset('placental.n.01'), 3),\n",
              " (Synset('mammal.n.01'), 4),\n",
              " (Synset('vertebrate.n.01'), 5),\n",
              " (Synset('chordate.n.01'), 6),\n",
              " (Synset('animal.n.01'), 7),\n",
              " (Synset('organism.n.01'), 8),\n",
              " (Synset('living_thing.n.01'), 9),\n",
              " (Synset('whole.n.02'), 10),\n",
              " (Synset('object.n.01'), 11),\n",
              " (Synset('physical_entity.n.01'), 12),\n",
              " (Synset('entity.n.01'), 13)]"
            ]
          },
          "metadata": {},
          "execution_count": 34
        }
      ]
    },
    {
      "cell_type": "code",
      "source": [
        "human_synset.lowest_common_hypernyms(bird_synset)"
      ],
      "metadata": {
        "colab": {
          "base_uri": "https://localhost:8080/"
        },
        "id": "BRwfJsDWl-BS",
        "outputId": "bff80326-543f-4027-d50e-3498b58ce2d2"
      },
      "execution_count": null,
      "outputs": [
        {
          "output_type": "execute_result",
          "data": {
            "text/plain": [
              "[Synset('vertebrate.n.01')]"
            ]
          },
          "metadata": {},
          "execution_count": 35
        }
      ]
    },
    {
      "cell_type": "code",
      "source": [
        "oyster_synset = wn.synsets(\"oyster\", pos=\"n\")[0]"
      ],
      "metadata": {
        "id": "ccdMTzIz9WCa"
      },
      "execution_count": null,
      "outputs": []
    },
    {
      "cell_type": "code",
      "source": [
        "oyster_synset.lowest_common_hypernyms(bird_synset)"
      ],
      "metadata": {
        "colab": {
          "base_uri": "https://localhost:8080/"
        },
        "id": "-vPOOTZ19e4V",
        "outputId": "f6a31319-9acf-4e01-bba2-2864a6c5863d"
      },
      "execution_count": null,
      "outputs": [
        {
          "output_type": "execute_result",
          "data": {
            "text/plain": [
              "[Synset('animal.n.01')]"
            ]
          },
          "metadata": {},
          "execution_count": 37
        }
      ]
    },
    {
      "cell_type": "code",
      "source": [
        "human_synset.lowest_common_hypernyms(wn.synsets(\"monkey\")[0])"
      ],
      "metadata": {
        "colab": {
          "base_uri": "https://localhost:8080/"
        },
        "id": "esfquGajmHTM",
        "outputId": "e8e22589-8606-49d9-8e89-ab03687325f1"
      },
      "execution_count": null,
      "outputs": [
        {
          "output_type": "execute_result",
          "data": {
            "text/plain": [
              "[Synset('primate.n.02')]"
            ]
          },
          "metadata": {},
          "execution_count": 38
        }
      ]
    },
    {
      "cell_type": "code",
      "source": [
        "human_synset.lowest_common_hypernyms(wn.synsets(\"plant\")[1])"
      ],
      "metadata": {
        "colab": {
          "base_uri": "https://localhost:8080/"
        },
        "id": "vMZECRn7_V7Z",
        "outputId": "247d0343-615a-4ae4-a29b-63dfda49f7f2"
      },
      "execution_count": null,
      "outputs": [
        {
          "output_type": "execute_result",
          "data": {
            "text/plain": [
              "[Synset('organism.n.01')]"
            ]
          },
          "metadata": {},
          "execution_count": 39
        }
      ]
    },
    {
      "cell_type": "code",
      "source": [
        "god_synsets = wn.synsets(\"God\")\n",
        "[s.definition() for s in god_synsets]"
      ],
      "metadata": {
        "colab": {
          "base_uri": "https://localhost:8080/"
        },
        "id": "gOnVzu6xWe-2",
        "outputId": "2ca602e2-2b8c-4346-ee36-b208c8fb547b"
      },
      "execution_count": null,
      "outputs": [
        {
          "output_type": "execute_result",
          "data": {
            "text/plain": [
              "['the supernatural being conceived as the perfect and omnipotent and omniscient originator and ruler of the universe; the object of worship in monotheistic religions',\n",
              " 'any supernatural being worshipped as controlling some part of the world or some aspect of life or who is the personification of a force',\n",
              " 'a man of such superior qualities that he seems like a deity to other people',\n",
              " 'a material effigy that is worshipped']"
            ]
          },
          "metadata": {},
          "execution_count": 40
        }
      ]
    },
    {
      "cell_type": "code",
      "source": [
        "human_synset.lowest_common_hypernyms(god_synsets[0])"
      ],
      "metadata": {
        "colab": {
          "base_uri": "https://localhost:8080/"
        },
        "id": "SkE5UU5TWb1n",
        "outputId": "f5cfd7bb-c373-45c8-a616-ff94a082d095"
      },
      "execution_count": null,
      "outputs": [
        {
          "output_type": "execute_result",
          "data": {
            "text/plain": [
              "[Synset('entity.n.01')]"
            ]
          },
          "metadata": {},
          "execution_count": 41
        }
      ]
    },
    {
      "cell_type": "code",
      "source": [
        "human_synset.lowest_common_hypernyms(god_synsets[3])\n",
        "human_synset.lowest_common_hypernyms(god_synsets[3])[0].definition()"
      ],
      "metadata": {
        "colab": {
          "base_uri": "https://localhost:8080/",
          "height": 35
        },
        "id": "sjGSq-ThW9IY",
        "outputId": "e1b66c8f-8a6e-4ff7-a0b9-173bbb41c254"
      },
      "execution_count": null,
      "outputs": [
        {
          "output_type": "execute_result",
          "data": {
            "text/plain": [
              "'an assemblage of parts that is regarded as a single entity'"
            ],
            "application/vnd.google.colaboratory.intrinsic+json": {
              "type": "string"
            }
          },
          "metadata": {},
          "execution_count": 42
        }
      ]
    },
    {
      "cell_type": "code",
      "source": [
        "god_synsets[1]"
      ],
      "metadata": {
        "colab": {
          "base_uri": "https://localhost:8080/"
        },
        "id": "4OHPE_j-SIbY",
        "outputId": "19e98089-c1f9-406c-cbf6-843d3b8d202a"
      },
      "execution_count": null,
      "outputs": [
        {
          "output_type": "execute_result",
          "data": {
            "text/plain": [
              "Synset('deity.n.01')"
            ]
          },
          "metadata": {},
          "execution_count": 43
        }
      ]
    },
    {
      "cell_type": "code",
      "source": [
        "god_synsets[1].hyponyms()"
      ],
      "metadata": {
        "colab": {
          "base_uri": "https://localhost:8080/"
        },
        "id": "m7MMuWdNXVxP",
        "outputId": "ed0f72dd-8798-4c7d-922c-dbc04e18e8d7"
      },
      "execution_count": null,
      "outputs": [
        {
          "output_type": "execute_result",
          "data": {
            "text/plain": [
              "[Synset('anglo-saxon_deity.n.01'),\n",
              " Synset('celtic_deity.n.01'),\n",
              " Synset('chinese_deity.n.01'),\n",
              " Synset('daemon.n.02'),\n",
              " Synset('demiurge.n.01'),\n",
              " Synset('earth-god.n.01'),\n",
              " Synset('egyptian_deity.n.01'),\n",
              " Synset('goddess.n.01'),\n",
              " Synset('greco-roman_deity.n.01'),\n",
              " Synset('greek_deity.n.01'),\n",
              " Synset('hindu_deity.n.01'),\n",
              " Synset('japanese_deity.n.01'),\n",
              " Synset('norse_deity.n.01'),\n",
              " Synset('persian_deity.n.01'),\n",
              " Synset('phrygian_deity.n.01'),\n",
              " Synset('roman_deity.n.01'),\n",
              " Synset('saint.n.01'),\n",
              " Synset('sea_god.n.01'),\n",
              " Synset('semitic_deity.n.01'),\n",
              " Synset('sun_god.n.01'),\n",
              " Synset('teutonic_deity.n.01'),\n",
              " Synset('war_god.n.01'),\n",
              " Synset('zombi.n.02')]"
            ]
          },
          "metadata": {},
          "execution_count": 44
        }
      ]
    },
    {
      "cell_type": "code",
      "source": [
        "god_synsets[1].hyponyms()[10].hyponyms()"
      ],
      "metadata": {
        "colab": {
          "base_uri": "https://localhost:8080/"
        },
        "id": "RaoUSQpLXqjq",
        "outputId": "28e5de0c-5bd7-4ea7-8fef-6e986e99f421"
      },
      "execution_count": null,
      "outputs": [
        {
          "output_type": "execute_result",
          "data": {
            "text/plain": [
              "[Synset('aditya.n.01'),\n",
              " Synset('ahura.n.01'),\n",
              " Synset('asvins.n.01'),\n",
              " Synset('avatar.n.02'),\n",
              " Synset('dharma.n.01'),\n",
              " Synset('garuda.n.01'),\n",
              " Synset('marut.n.01'),\n",
              " Synset('ribhus.n.01'),\n",
              " Synset('soma.n.02'),\n",
              " Synset('vajra.n.01')]"
            ]
          },
          "metadata": {},
          "execution_count": 45
        }
      ]
    },
    {
      "cell_type": "code",
      "source": [
        "[s.lemma_names() for s in god_synsets[1].hyponyms()[10].hyponyms()]"
      ],
      "metadata": {
        "colab": {
          "base_uri": "https://localhost:8080/"
        },
        "id": "XlHOKLLTX2y3",
        "outputId": "7734c697-1ea4-4683-fccd-30c82b0fdd61"
      },
      "execution_count": null,
      "outputs": [
        {
          "output_type": "execute_result",
          "data": {
            "text/plain": [
              "[['Aditya'],\n",
              " ['Ahura'],\n",
              " ['Asvins'],\n",
              " ['avatar'],\n",
              " ['Dharma'],\n",
              " ['Garuda'],\n",
              " ['Marut'],\n",
              " ['Ribhus', 'Rhibhus'],\n",
              " ['Soma'],\n",
              " ['Vajra']]"
            ]
          },
          "metadata": {},
          "execution_count": 46
        }
      ]
    },
    {
      "cell_type": "code",
      "source": [
        "god_synsets[1].hyponyms()[10].instance_hyponyms()"
      ],
      "metadata": {
        "colab": {
          "base_uri": "https://localhost:8080/"
        },
        "id": "bPUp3qHkaA7p",
        "outputId": "da4f76b3-bdf0-40b4-e537-ee544e028c86"
      },
      "execution_count": null,
      "outputs": [
        {
          "output_type": "execute_result",
          "data": {
            "text/plain": [
              "[Synset('aditi.n.01'),\n",
              " Synset('agni.n.01'),\n",
              " Synset('asura.n.01'),\n",
              " Synset('bhaga.n.01'),\n",
              " Synset('bhumi_devi.n.01'),\n",
              " Synset('brahma.n.01'),\n",
              " Synset('brihaspati.n.01'),\n",
              " Synset('chandi.n.01'),\n",
              " Synset('devi.n.01'),\n",
              " Synset('durga.n.01'),\n",
              " Synset('dyaus.n.01'),\n",
              " Synset('ganesh.n.01'),\n",
              " Synset('gauri.n.01'),\n",
              " Synset('hanuman.n.01'),\n",
              " Synset('indra.n.01'),\n",
              " Synset('ka.n.01'),\n",
              " Synset('kali.n.02'),\n",
              " Synset('kama.n.01'),\n",
              " Synset('kartikeya.n.01'),\n",
              " Synset('lakshmi.n.01'),\n",
              " Synset('mara.n.01'),\n",
              " Synset('mitra.n.01'),\n",
              " Synset('parjanya.n.01'),\n",
              " Synset('parvati.n.01'),\n",
              " Synset('prajapati.n.01'),\n",
              " Synset('pushan.n.01'),\n",
              " Synset('rahu.n.01'),\n",
              " Synset('rudra.n.01'),\n",
              " Synset('sarasvati.n.01'),\n",
              " Synset('savitar.n.01'),\n",
              " Synset('shakti.n.01'),\n",
              " Synset('siva.n.01'),\n",
              " Synset('skanda.n.01'),\n",
              " Synset('surya.n.01'),\n",
              " Synset('uma.n.01'),\n",
              " Synset('ushas.n.01'),\n",
              " Synset('varuna.n.01'),\n",
              " Synset('vayu.n.01'),\n",
              " Synset('vishnu.n.01'),\n",
              " Synset('yama.n.01')]"
            ]
          },
          "metadata": {},
          "execution_count": 47
        }
      ]
    },
    {
      "cell_type": "code",
      "source": [
        "tree_synset.hyponyms??"
      ],
      "metadata": {
        "id": "d0phMMcxavjw"
      },
      "execution_count": null,
      "outputs": []
    },
    {
      "cell_type": "code",
      "source": [
        "[s.instance_hyponyms() for s in god_synsets[1].hyponyms()[10].hyponyms()]"
      ],
      "metadata": {
        "colab": {
          "base_uri": "https://localhost:8080/"
        },
        "id": "ze0yhjX4Zz9D",
        "outputId": "8409fd32-d068-4bac-f842-b46ea990748b"
      },
      "execution_count": null,
      "outputs": [
        {
          "output_type": "execute_result",
          "data": {
            "text/plain": [
              "[[],\n",
              " [],\n",
              " [],\n",
              " [Synset('jagannath.n.01'),\n",
              "  Synset('kalki.n.01'),\n",
              "  Synset('krishna.n.01'),\n",
              "  Synset('rama.n.01')],\n",
              " [],\n",
              " [],\n",
              " [],\n",
              " [],\n",
              " [],\n",
              " []]"
            ]
          },
          "metadata": {},
          "execution_count": 49
        }
      ]
    },
    {
      "cell_type": "code",
      "source": [
        "shiva_synset = wn.synsets('shiva')[1]\n",
        "shiva_synset.instance_hypernyms()\n"
      ],
      "metadata": {
        "colab": {
          "base_uri": "https://localhost:8080/"
        },
        "id": "tAwwKyzaZH4I",
        "outputId": "9eceef43-7602-4f2f-ef47-da7681d33b1d"
      },
      "execution_count": null,
      "outputs": [
        {
          "output_type": "execute_result",
          "data": {
            "text/plain": [
              "[Synset('hindu_deity.n.01')]"
            ]
          },
          "metadata": {},
          "execution_count": 50
        }
      ]
    },
    {
      "cell_type": "code",
      "source": [
        "[s.definition() for s in wn.synsets('zombi')]"
      ],
      "metadata": {
        "colab": {
          "base_uri": "https://localhost:8080/"
        },
        "id": "GyQUCg0eYul3",
        "outputId": "1ea60e82-995b-4528-e1b8-980028fe54fc"
      },
      "execution_count": null,
      "outputs": [
        {
          "output_type": "execute_result",
          "data": {
            "text/plain": [
              "['(voodooism) a spirit or supernatural force that reanimates a dead body',\n",
              " 'a god of voodoo cults of African origin worshipped especially in West Indies',\n",
              " 'a dead body that has been brought back to life by a supernatural force',\n",
              " 'someone who acts or responds in a mechanical or apathetic way',\n",
              " 'several kinds of rum with fruit juice and usually apricot liqueur']"
            ]
          },
          "metadata": {},
          "execution_count": 51
        }
      ]
    },
    {
      "cell_type": "code",
      "source": [
        "[s.lowest_common_hypernyms(god_synsets[1]) for s in wn.synsets('zombi')]"
      ],
      "metadata": {
        "colab": {
          "base_uri": "https://localhost:8080/"
        },
        "id": "9DYt4H8wYLyo",
        "outputId": "57461850-c791-4a6c-c896-0fd63cf8a234"
      },
      "execution_count": null,
      "outputs": [
        {
          "output_type": "execute_result",
          "data": {
            "text/plain": [
              "[[Synset('spiritual_being.n.01')],\n",
              " [Synset('deity.n.01')],\n",
              " [Synset('entity.n.01')],\n",
              " [Synset('entity.n.01')],\n",
              " [Synset('abstraction.n.06')]]"
            ]
          },
          "metadata": {},
          "execution_count": 52
        }
      ]
    },
    {
      "cell_type": "code",
      "source": [
        "wn.synsets('zombi')[2].hyponyms()"
      ],
      "metadata": {
        "colab": {
          "base_uri": "https://localhost:8080/"
        },
        "id": "M0Ow9HuOYXD5",
        "outputId": "fe9f069f-e53a-4662-e949-cd7f37b6a9d0"
      },
      "execution_count": null,
      "outputs": [
        {
          "output_type": "execute_result",
          "data": {
            "text/plain": [
              "[]"
            ]
          },
          "metadata": {},
          "execution_count": 53
        }
      ]
    },
    {
      "cell_type": "code",
      "source": [
        "[s.definition() for s in wn.synsets('weed')]"
      ],
      "metadata": {
        "colab": {
          "base_uri": "https://localhost:8080/"
        },
        "id": "DPeP69MZcqKf",
        "outputId": "cda83faf-9f81-4675-dfdd-1ffecead927a"
      },
      "execution_count": null,
      "outputs": [
        {
          "output_type": "execute_result",
          "data": {
            "text/plain": [
              "['any plant that crowds out cultivated plants',\n",
              " 'a black band worn by a man (on the arm or hat) as a sign of mourning',\n",
              " 'street names for marijuana',\n",
              " 'clear of weeds']"
            ]
          },
          "metadata": {},
          "execution_count": 54
        }
      ]
    },
    {
      "cell_type": "code",
      "source": [
        "[s.definition() for s in wn.synsets('boomer')]"
      ],
      "metadata": {
        "colab": {
          "base_uri": "https://localhost:8080/"
        },
        "id": "T_pYDWVUczfJ",
        "outputId": "093ae939-91bb-479b-83fe-b986a3409bc8"
      },
      "execution_count": null,
      "outputs": [
        {
          "output_type": "execute_result",
          "data": {
            "text/plain": [
              "['a member of the baby boom generation in the 1950s']"
            ]
          },
          "metadata": {},
          "execution_count": 55
        }
      ]
    },
    {
      "cell_type": "code",
      "source": [
        "[s.definition() for s in wn.synsets('lit')]"
      ],
      "metadata": {
        "colab": {
          "base_uri": "https://localhost:8080/"
        },
        "id": "CXoYfeb6iY09",
        "outputId": "d8ecd2b9-61b4-4158-b060-e2d87882683d"
      },
      "execution_count": null,
      "outputs": [
        {
          "output_type": "execute_result",
          "data": {
            "text/plain": [
              "['the humanistic study of a body of literature',\n",
              " 'make lighter or brighter',\n",
              " 'begin to smoke',\n",
              " 'to come to rest, settle',\n",
              " 'cause to start burning; subject to fire or great heat',\n",
              " 'fall to somebody by assignment or lot',\n",
              " 'alight from (a horse)',\n",
              " 'provided with artificial light',\n",
              " 'set afire or burning']"
            ]
          },
          "metadata": {},
          "execution_count": 56
        }
      ]
    },
    {
      "cell_type": "code",
      "source": [
        "# Other ideas?\n",
        "#"
      ],
      "metadata": {
        "id": "ou9CYkj1Xf06"
      },
      "execution_count": null,
      "outputs": []
    },
    {
      "cell_type": "markdown",
      "source": [
        "### Verbs"
      ],
      "metadata": {
        "id": "7A6SMWXKXg1B"
      }
    },
    {
      "cell_type": "code",
      "source": [
        "wn.synsets('walk') # polysemy - multiple POS (morphological ambiguity)\n"
      ],
      "metadata": {
        "colab": {
          "base_uri": "https://localhost:8080/"
        },
        "id": "mP3zOimcXixF",
        "outputId": "802858fc-4456-426a-bd57-a063f93ab5ff"
      },
      "execution_count": null,
      "outputs": [
        {
          "output_type": "execute_result",
          "data": {
            "text/plain": [
              "[Synset('walk.n.01'),\n",
              " Synset('base_on_balls.n.01'),\n",
              " Synset('walk.n.03'),\n",
              " Synset('walk.n.04'),\n",
              " Synset('walk.n.05'),\n",
              " Synset('walk.n.06'),\n",
              " Synset('walk_of_life.n.01'),\n",
              " Synset('walk.v.01'),\n",
              " Synset('walk.v.02'),\n",
              " Synset('walk.v.03'),\n",
              " Synset('walk.v.04'),\n",
              " Synset('walk.v.05'),\n",
              " Synset('walk.v.06'),\n",
              " Synset('walk.v.07'),\n",
              " Synset('walk.v.08'),\n",
              " Synset('walk.v.09'),\n",
              " Synset('walk.v.10')]"
            ]
          },
          "metadata": {},
          "execution_count": 58
        }
      ]
    },
    {
      "cell_type": "code",
      "source": [
        "# wn.synsets('key')\n"
      ],
      "metadata": {
        "id": "8cvQ1-K1eHP3"
      },
      "execution_count": null,
      "outputs": []
    },
    {
      "cell_type": "code",
      "source": [
        "synsets_walk = wn.synsets('walk', pos='v')\n",
        "synsets_walk"
      ],
      "metadata": {
        "colab": {
          "base_uri": "https://localhost:8080/"
        },
        "id": "YHFQmUO-nDFe",
        "outputId": "b93c6789-e1ca-41a9-fe6a-8dcd6583148a"
      },
      "execution_count": null,
      "outputs": [
        {
          "output_type": "execute_result",
          "data": {
            "text/plain": [
              "[Synset('walk.v.01'),\n",
              " Synset('walk.v.02'),\n",
              " Synset('walk.v.03'),\n",
              " Synset('walk.v.04'),\n",
              " Synset('walk.v.05'),\n",
              " Synset('walk.v.06'),\n",
              " Synset('walk.v.07'),\n",
              " Synset('walk.v.08'),\n",
              " Synset('walk.v.09'),\n",
              " Synset('walk.v.10')]"
            ]
          },
          "metadata": {},
          "execution_count": 60
        }
      ]
    },
    {
      "cell_type": "code",
      "source": [
        "for i, s in enumerate(synsets_walk):\n",
        "  if s.pos() == 'v':\n",
        "    print(\"%d. %s: %s\" % (i, s.definition(), [l.name() for l in s.lemmas()]))"
      ],
      "metadata": {
        "colab": {
          "base_uri": "https://localhost:8080/"
        },
        "id": "o_AFUU1uZemE",
        "outputId": "342a370c-ef0f-46fa-d34d-c9eb545aa828"
      },
      "execution_count": null,
      "outputs": [
        {
          "output_type": "stream",
          "name": "stdout",
          "text": [
            "0. use one's feet to advance; advance by steps: ['walk']\n",
            "1. accompany or escort: ['walk']\n",
            "2. obtain a base on balls: ['walk']\n",
            "3. traverse or cover by walking: ['walk']\n",
            "4. give a base on balls to: ['walk']\n",
            "5. live or behave in a specified manner: ['walk']\n",
            "6. be or act in association with: ['walk']\n",
            "7. walk at a pace: ['walk']\n",
            "8. make walk: ['walk']\n",
            "9. take a walk; go for a walk; walk for pleasure: ['walk', 'take_the_air']\n"
          ]
        }
      ]
    },
    {
      "cell_type": "code",
      "source": [
        "synsets_walk[0].hypernyms()"
      ],
      "metadata": {
        "colab": {
          "base_uri": "https://localhost:8080/"
        },
        "id": "ulbRYL-bZ77g",
        "outputId": "70c15b23-cda7-4085-d9d0-c956a3966a1e"
      },
      "execution_count": null,
      "outputs": [
        {
          "output_type": "execute_result",
          "data": {
            "text/plain": [
              "[Synset('travel.v.01')]"
            ]
          },
          "metadata": {},
          "execution_count": 62
        }
      ]
    },
    {
      "cell_type": "code",
      "source": [
        "synset_eat = wn.synsets('eat')[0]\n",
        "synset_eat.entailments()"
      ],
      "metadata": {
        "colab": {
          "base_uri": "https://localhost:8080/"
        },
        "id": "MO3NL0DScEKj",
        "outputId": "ff498785-5035-4d67-9743-226c4c97cdd6"
      },
      "execution_count": null,
      "outputs": [
        {
          "output_type": "execute_result",
          "data": {
            "text/plain": [
              "[Synset('chew.v.01'), Synset('swallow.v.01')]"
            ]
          },
          "metadata": {},
          "execution_count": 63
        }
      ]
    },
    {
      "cell_type": "code",
      "source": [
        "bird_synset.entailments() # no sense"
      ],
      "metadata": {
        "colab": {
          "base_uri": "https://localhost:8080/"
        },
        "id": "Qx0QERhUe4vH",
        "outputId": "47dbd4c4-a401-4ead-c73f-53644096b69d"
      },
      "execution_count": null,
      "outputs": [
        {
          "output_type": "execute_result",
          "data": {
            "text/plain": [
              "[]"
            ]
          },
          "metadata": {},
          "execution_count": 64
        }
      ]
    },
    {
      "cell_type": "code",
      "source": [
        "s = [synset_eat]\n",
        "while s:\n",
        "  print(s[0].name(), end = \" -> \")\n",
        "  s = s[0].entailments()"
      ],
      "metadata": {
        "colab": {
          "base_uri": "https://localhost:8080/"
        },
        "id": "Piniy2jCnni-",
        "outputId": "57d87f31-0e85-428e-b398-dc2dccc41eb6"
      },
      "execution_count": null,
      "outputs": [
        {
          "output_type": "stream",
          "name": "stdout",
          "text": [
            "eat.v.01 -> chew.v.01 -> "
          ]
        }
      ]
    },
    {
      "cell_type": "code",
      "source": [
        "s = [synsets_walk[0]]\n",
        "while s:\n",
        "  print(s[0].name(), end = \" -> \")\n",
        "  s = s[0].entailments()"
      ],
      "metadata": {
        "colab": {
          "base_uri": "https://localhost:8080/"
        },
        "id": "2_KsAjPjAW8Y",
        "outputId": "263c2c6a-fb38-4462-da9f-7e85612f371f"
      },
      "execution_count": null,
      "outputs": [
        {
          "output_type": "stream",
          "name": "stdout",
          "text": [
            "walk.v.01 -> step.v.01 -> "
          ]
        }
      ]
    },
    {
      "cell_type": "code",
      "source": [
        "walk_lemma = synsets_walk[0].lemmas()[0]"
      ],
      "metadata": {
        "id": "brDPD15GfoTR"
      },
      "execution_count": null,
      "outputs": []
    },
    {
      "cell_type": "code",
      "source": [
        "walk_synset = synsets_walk[0]"
      ],
      "metadata": {
        "id": "3nNSzqhQf_0f"
      },
      "execution_count": null,
      "outputs": []
    },
    {
      "cell_type": "code",
      "source": [
        "god_synsets[0].also_sees()"
      ],
      "metadata": {
        "colab": {
          "base_uri": "https://localhost:8080/"
        },
        "id": "E48eaEM8fsi5",
        "outputId": "779fe412-b760-4c75-c782-4408a37e6ef7"
      },
      "execution_count": null,
      "outputs": [
        {
          "output_type": "execute_result",
          "data": {
            "text/plain": [
              "[]"
            ]
          },
          "metadata": {},
          "execution_count": 69
        }
      ]
    },
    {
      "cell_type": "code",
      "source": [
        "synset_eat.also_sees()"
      ],
      "metadata": {
        "colab": {
          "base_uri": "https://localhost:8080/"
        },
        "id": "UzZiAdqRjkZM",
        "outputId": "693707fe-1a38-4215-8c4e-bf655ffabe56"
      },
      "execution_count": null,
      "outputs": [
        {
          "output_type": "execute_result",
          "data": {
            "text/plain": [
              "[]"
            ]
          },
          "metadata": {},
          "execution_count": 70
        }
      ]
    },
    {
      "cell_type": "markdown",
      "source": [],
      "metadata": {
        "id": "41j0eAy2Z7Fa"
      }
    },
    {
      "cell_type": "markdown",
      "source": [
        "## Adjectives"
      ],
      "metadata": {
        "id": "XfRHObaOpeqM"
      }
    },
    {
      "cell_type": "code",
      "source": [
        "wn.synsets(\"pretty\", pos=\"a\")"
      ],
      "metadata": {
        "colab": {
          "base_uri": "https://localhost:8080/"
        },
        "id": "xHyU5aevpwzl",
        "outputId": "d49f678d-f50c-4471-bde2-ea5b2096ca63"
      },
      "execution_count": null,
      "outputs": [
        {
          "output_type": "execute_result",
          "data": {
            "text/plain": [
              "[Synset('pretty.s.01'), Synset('pretty.s.02')]"
            ]
          },
          "metadata": {},
          "execution_count": 71
        }
      ]
    },
    {
      "cell_type": "code",
      "source": [
        "print(wn.synsets(\"pretty\")[0].definition())\n",
        "print(wn.synsets(\"pretty\")[1].definition())\n",
        "pretty_synset = wn.synsets(\"pretty\")[0]"
      ],
      "metadata": {
        "colab": {
          "base_uri": "https://localhost:8080/"
        },
        "id": "foJeB4k1p8M7",
        "outputId": "72d6fae5-9cba-44ae-d7da-75a53de594c6"
      },
      "execution_count": null,
      "outputs": [
        {
          "output_type": "stream",
          "name": "stdout",
          "text": [
            "pleasing by delicacy or grace; not imposing\n",
            "(used ironically) unexpectedly bad\n"
          ]
        }
      ]
    },
    {
      "cell_type": "code",
      "source": [
        "wn.synsets(\"pretty\")[1].examples()"
      ],
      "metadata": {
        "colab": {
          "base_uri": "https://localhost:8080/"
        },
        "id": "bK2vn-HUaiCr",
        "outputId": "c3bb9c59-2788-4a6e-d172-6d9ed0de6655"
      },
      "execution_count": null,
      "outputs": [
        {
          "output_type": "execute_result",
          "data": {
            "text/plain": [
              "['a pretty mess', 'a pretty kettle of fish']"
            ]
          },
          "metadata": {},
          "execution_count": 73
        }
      ]
    },
    {
      "cell_type": "code",
      "source": [
        "pretty_synset.definition()"
      ],
      "metadata": {
        "colab": {
          "base_uri": "https://localhost:8080/",
          "height": 35
        },
        "id": "FkwrbUxdv6-V",
        "outputId": "54562a1a-2d0e-4f0c-e475-42db3074f286"
      },
      "execution_count": null,
      "outputs": [
        {
          "output_type": "execute_result",
          "data": {
            "text/plain": [
              "'pleasing by delicacy or grace; not imposing'"
            ],
            "application/vnd.google.colaboratory.intrinsic+json": {
              "type": "string"
            }
          },
          "metadata": {},
          "execution_count": 74
        }
      ]
    },
    {
      "cell_type": "code",
      "source": [
        "lemmas = wn.synsets(\"good\", pos='a')[0].lemmas()\n",
        "for l in lemmas:\n",
        "  print(l.antonyms())"
      ],
      "metadata": {
        "colab": {
          "base_uri": "https://localhost:8080/"
        },
        "id": "MX-ckQZiwFVP",
        "outputId": "b0e3d954-996c-4766-bbae-27b7171f4425"
      },
      "execution_count": null,
      "outputs": [
        {
          "output_type": "stream",
          "name": "stdout",
          "text": [
            "[Lemma('bad.a.01.bad')]\n"
          ]
        }
      ]
    },
    {
      "cell_type": "code",
      "source": [
        "lemmas = sum([s.lemmas() for s in wn.synsets(\"good\")], [])\n",
        "for l in lemmas:\n",
        "  print(l.antonyms())"
      ],
      "metadata": {
        "colab": {
          "base_uri": "https://localhost:8080/"
        },
        "id": "nkVLPxvegy_w",
        "outputId": "91fee1a9-7681-4c95-d036-4626b136425e"
      },
      "execution_count": null,
      "outputs": [
        {
          "output_type": "stream",
          "name": "stdout",
          "text": [
            "[]\n",
            "[Lemma('evil.n.03.evil')]\n",
            "[Lemma('evil.n.03.evilness')]\n",
            "[Lemma('bad.n.01.bad')]\n",
            "[Lemma('bad.n.01.badness')]\n",
            "[]\n",
            "[]\n",
            "[]\n",
            "[Lemma('bad.a.01.bad')]\n",
            "[]\n",
            "[]\n",
            "[Lemma('evil.a.01.evil')]\n",
            "[]\n",
            "[]\n",
            "[]\n",
            "[]\n",
            "[]\n",
            "[]\n",
            "[]\n",
            "[]\n",
            "[]\n",
            "[]\n",
            "[]\n",
            "[]\n",
            "[]\n",
            "[]\n",
            "[]\n",
            "[]\n",
            "[]\n",
            "[]\n",
            "[]\n",
            "[]\n",
            "[]\n",
            "[]\n",
            "[]\n",
            "[]\n",
            "[]\n",
            "[]\n",
            "[]\n",
            "[]\n",
            "[]\n",
            "[]\n",
            "[]\n",
            "[]\n",
            "[]\n",
            "[]\n",
            "[]\n",
            "[]\n",
            "[]\n",
            "[]\n",
            "[]\n",
            "[]\n",
            "[]\n",
            "[]\n",
            "[]\n",
            "[]\n",
            "[]\n",
            "[]\n",
            "[]\n",
            "[]\n",
            "[Lemma('ill.r.01.ill')]\n",
            "[]\n",
            "[]\n",
            "[]\n",
            "[]\n"
          ]
        }
      ]
    },
    {
      "cell_type": "code",
      "source": [
        "lemmas = wn.synsets(\"good\")[1].lemmas()\n",
        "for l in lemmas:\n",
        "  print(l.antonyms())"
      ],
      "metadata": {
        "id": "3NBS5Xzxgeyx",
        "colab": {
          "base_uri": "https://localhost:8080/"
        },
        "outputId": "77106450-ee74-4ea8-9a70-81c8aa9052b0"
      },
      "execution_count": null,
      "outputs": [
        {
          "output_type": "stream",
          "name": "stdout",
          "text": [
            "[Lemma('evil.n.03.evil')]\n",
            "[Lemma('evil.n.03.evilness')]\n"
          ]
        }
      ]
    },
    {
      "cell_type": "code",
      "source": [],
      "metadata": {
        "id": "tU-mLcfYhoDn"
      },
      "execution_count": null,
      "outputs": []
    },
    {
      "cell_type": "markdown",
      "source": [
        "## Morphological forms\n",
        "\n"
      ],
      "metadata": {
        "id": "yXfyMGDrqb9C"
      }
    },
    {
      "cell_type": "code",
      "source": [
        "wn.morphy(\"walking\", pos=\"v\")"
      ],
      "metadata": {
        "colab": {
          "base_uri": "https://localhost:8080/",
          "height": 35
        },
        "id": "LS35D38Qr6aP",
        "outputId": "f31f1b6b-a633-4aee-bda8-e8c4478e7854"
      },
      "execution_count": null,
      "outputs": [
        {
          "output_type": "execute_result",
          "data": {
            "text/plain": [
              "'walk'"
            ],
            "application/vnd.google.colaboratory.intrinsic+json": {
              "type": "string"
            }
          },
          "metadata": {},
          "execution_count": 78
        }
      ]
    },
    {
      "cell_type": "code",
      "source": [
        "wn.morphy(\"was\", pos=\"v\")"
      ],
      "metadata": {
        "id": "xgr45-tewbeP",
        "colab": {
          "base_uri": "https://localhost:8080/",
          "height": 35
        },
        "outputId": "011fc09b-c6a5-4354-d5c8-06a7bbaff282"
      },
      "execution_count": null,
      "outputs": [
        {
          "output_type": "execute_result",
          "data": {
            "text/plain": [
              "'be'"
            ],
            "application/vnd.google.colaboratory.intrinsic+json": {
              "type": "string"
            }
          },
          "metadata": {},
          "execution_count": 79
        }
      ]
    },
    {
      "cell_type": "markdown",
      "metadata": {
        "id": "ToJO9XtZ2I7o"
      },
      "source": [
        "## Other languages"
      ]
    },
    {
      "cell_type": "markdown",
      "source": [
        "### Open Multilingual WordNet\n"
      ],
      "metadata": {
        "id": "XaZ9REw74JPo"
      }
    },
    {
      "cell_type": "code",
      "source": [
        "download('omw-1.4')"
      ],
      "metadata": {
        "colab": {
          "base_uri": "https://localhost:8080/"
        },
        "id": "g0qrh7ah3_nK",
        "outputId": "afb1f30b-2f34-4447-ec89-212ecdad3b3d"
      },
      "execution_count": null,
      "outputs": [
        {
          "output_type": "stream",
          "name": "stderr",
          "text": [
            "[nltk_data] Downloading package omw-1.4 to /root/nltk_data...\n"
          ]
        },
        {
          "output_type": "execute_result",
          "data": {
            "text/plain": [
              "True"
            ]
          },
          "metadata": {},
          "execution_count": 80
        }
      ]
    },
    {
      "cell_type": "code",
      "execution_count": null,
      "metadata": {
        "colab": {
          "base_uri": "https://localhost:8080/"
        },
        "id": "-7wi3QUp2I7p",
        "outputId": "cfb9453c-92ac-42ff-bb13-18dffad6e9e5"
      },
      "outputs": [
        {
          "output_type": "execute_result",
          "data": {
            "text/plain": [
              "['eng']"
            ]
          },
          "metadata": {},
          "execution_count": 81
        }
      ],
      "source": [
        "sorted(wn.langs())"
      ]
    },
    {
      "cell_type": "code",
      "execution_count": null,
      "metadata": {
        "colab": {
          "base_uri": "https://localhost:8080/"
        },
        "id": "P9nfAtop2I7q",
        "outputId": "360dd2f6-1d07-4099-d132-89927c943edb"
      },
      "outputs": [
        {
          "output_type": "execute_result",
          "data": {
            "text/plain": [
              "['alevín',\n",
              " 'chaval',\n",
              " 'chico',\n",
              " 'chiquillo',\n",
              " 'chiqüelo',\n",
              " 'criatura',\n",
              " 'cría',\n",
              " 'crío',\n",
              " 'jovenzuelo',\n",
              " 'menor_de_edad',\n",
              " 'mozalbete',\n",
              " 'muchachuelo',\n",
              " 'nene',\n",
              " 'niño',\n",
              " 'pececillo']"
            ]
          },
          "metadata": {},
          "execution_count": 82
        }
      ],
      "source": [
        "spanish_lemmas = kid_synsets[0].lemmas(lang='spa')\n",
        "[l.name() for l in spanish_lemmas]"
      ]
    },
    {
      "cell_type": "code",
      "source": [
        "from nltk.corpus import wordnet as wn\n",
        "wn.langs()"
      ],
      "metadata": {
        "colab": {
          "base_uri": "https://localhost:8080/"
        },
        "id": "_kif5BbEk_2H",
        "outputId": "177e6346-1c3d-441c-9172-0ed1b9bf0033"
      },
      "execution_count": null,
      "outputs": [
        {
          "output_type": "execute_result",
          "data": {
            "text/plain": [
              "['eng',\n",
              " 'als',\n",
              " 'arb',\n",
              " 'bul',\n",
              " 'cmn',\n",
              " 'dan',\n",
              " 'ell',\n",
              " 'fin',\n",
              " 'fra',\n",
              " 'heb',\n",
              " 'hrv',\n",
              " 'isl',\n",
              " 'ita',\n",
              " 'ita_iwn',\n",
              " 'jpn',\n",
              " 'cat',\n",
              " 'eus',\n",
              " 'glg',\n",
              " 'spa',\n",
              " 'ind',\n",
              " 'zsm',\n",
              " 'nld',\n",
              " 'nno',\n",
              " 'nob',\n",
              " 'pol',\n",
              " 'por',\n",
              " 'ron',\n",
              " 'lit',\n",
              " 'slk',\n",
              " 'slv',\n",
              " 'swe',\n",
              " 'tha']"
            ]
          },
          "metadata": {},
          "execution_count": 83
        }
      ]
    },
    {
      "cell_type": "markdown",
      "source": [
        "#### Romanian\n",
        "\n",
        "Romanian WordNet: https://github.com/dumitrescustefan/RoWordNet"
      ],
      "metadata": {
        "id": "96qilkNnDJl2"
      }
    },
    {
      "cell_type": "code",
      "source": [
        "!pip install rowordnet\n",
        "import rowordnet\n",
        "rown = rowordnet.RoWordNet()\n"
      ],
      "metadata": {
        "colab": {
          "base_uri": "https://localhost:8080/"
        },
        "id": "SadfhJ2JDLss",
        "outputId": "6728ffcb-1330-4c07-fb16-6ab98d688f4c"
      },
      "execution_count": null,
      "outputs": [
        {
          "output_type": "stream",
          "name": "stdout",
          "text": [
            "Looking in indexes: https://pypi.org/simple, https://us-python.pkg.dev/colab-wheels/public/simple/\n",
            "Collecting rowordnet\n",
            "  Downloading rowordnet-1.1.0-py3-none-any.whl (11.8 MB)\n",
            "\u001b[2K     \u001b[90m━━━━━━━━━━━━━━━━━━━━━━━━━━━━━━━━━━━━━━━━\u001b[0m \u001b[32m11.8/11.8 MB\u001b[0m \u001b[31m15.6 MB/s\u001b[0m eta \u001b[36m0:00:00\u001b[0m\n",
            "\u001b[?25hRequirement already satisfied: lxml in /usr/local/lib/python3.9/dist-packages (from rowordnet) (4.9.2)\n",
            "Requirement already satisfied: networkx in /usr/local/lib/python3.9/dist-packages (from rowordnet) (3.1)\n",
            "Installing collected packages: rowordnet\n",
            "Successfully installed rowordnet-1.1.0\n"
          ]
        }
      ]
    },
    {
      "cell_type": "code",
      "source": [
        "word = 'arbore'\n",
        "synset_ids = rown.synsets(literal=word)\n",
        "print(\"Total number of synsets containing literal '{}': {}\".format(word, len(synset_ids)))\n",
        "print(synset_ids)"
      ],
      "metadata": {
        "colab": {
          "base_uri": "https://localhost:8080/"
        },
        "id": "PpRcagfPDQ72",
        "outputId": "3a374d9c-4580-4ec7-cc19-52f005d445ec"
      },
      "execution_count": null,
      "outputs": [
        {
          "output_type": "stream",
          "name": "stdout",
          "text": [
            "Total number of synsets containing literal 'arbore': 23\n",
            "['ENG30-08102402-n', 'ENG30-12339526-n', 'ENG30-03726760-n', 'ENG30-13912260-n', 'ENG30-12752039-n', 'ENG30-13104059-n', 'ENG30-02946824-n', 'ENG30-02946824-n', 'ENG30-12402840-n', 'ENG30-12690653-n', 'ENG30-12662772-n', 'ENG30-12662772-n', 'ENG30-03127408-n', 'ENG30-11712282-n', 'ENG30-11704791-n', 'ENG30-11640132-n', 'ENG30-12334293-n', 'ENG30-03244231-n', 'ENG30-04472563-n', 'ENG30-04111190-n', 'ENG30-04111190-n', 'ENG30-13111174-n', 'ENG30-04316924-n']\n"
          ]
        }
      ]
    },
    {
      "cell_type": "code",
      "source": [
        "synset_id = synset_ids[4]\n",
        "rown.print_synset(synset_id)"
      ],
      "metadata": {
        "colab": {
          "base_uri": "https://localhost:8080/"
        },
        "id": "BndAAh8XUNfA",
        "outputId": "f2d1adba-4373-4c8e-90ac-d8d3380167c5"
      },
      "execution_count": null,
      "outputs": [
        {
          "output_type": "stream",
          "name": "stdout",
          "text": [
            "Synset: \n",
            "\t  id=ENG30-12752039-n\n",
            "\t  pos=NOUN\n",
            "\t  nonlexicalized=None\n",
            "\t  stamp=None\n",
            "\t  domain=biology\n",
            "\t  definition=Expresie : (Aceraceae); arbore sau arbust din acest gen;\n",
            "\t  sumo=FloweringPlant \n",
            "\t  sumoType=HYPERNYM\n",
            "\t  sentiwn=[0.0, 0.0, 1.0]\n",
            "\t  Literals:\n",
            "\t\t  arbore - 2.6\n",
            "\t\t  arbust - 3.1\n",
            "\t  Outbound relations: \n",
            "\t\t  ENG30-11567411-n - hypernym\n",
            "\t\t  ENG30-12752205-n - member_meronym\n",
            "\t  Inbound relations: \n",
            "\t\t  ENG30-12752205-n - member_holonym\n",
            "\t\t  ENG30-11567411-n - hyponym\n"
          ]
        }
      ]
    },
    {
      "cell_type": "code",
      "source": [
        "synset_object = rown.synset(synset_id)\n",
        "print(synset_object)\n",
        "synset_object = rown(synset_id)\n",
        "print(synset_object)"
      ],
      "metadata": {
        "colab": {
          "base_uri": "https://localhost:8080/"
        },
        "id": "o9dVtoYnURgm",
        "outputId": "3afecdd1-115d-4c39-96f0-519ea0fac289"
      },
      "execution_count": null,
      "outputs": [
        {
          "output_type": "stream",
          "name": "stdout",
          "text": [
            "Synset(id='ENG30-12752039-n', literals=['arbore', 'arbust'], definition='Expresie : (Aceraceae); arbore sau arbust din acest gen;')\n",
            "Synset(id='ENG30-12752039-n', literals=['arbore', 'arbust'], definition='Expresie : (Aceraceae); arbore sau arbust din acest gen;')\n"
          ]
        }
      ]
    },
    {
      "cell_type": "code",
      "source": [
        "literals = synset_object.literals\n",
        "print(\"Synset with id {} has {} literals: {}\".format(synset_object.id, len(literals), literals))"
      ],
      "metadata": {
        "colab": {
          "base_uri": "https://localhost:8080/"
        },
        "id": "mmc1A1tMUSIf",
        "outputId": "2cf2a902-754f-4e52-d49e-68a9c9dffead"
      },
      "execution_count": null,
      "outputs": [
        {
          "output_type": "stream",
          "name": "stdout",
          "text": [
            "Synset with id ENG30-12752039-n has 2 literals: ['arbore', 'arbust']\n"
          ]
        }
      ]
    },
    {
      "cell_type": "code",
      "source": [
        "definition = synset_object.definition\n",
        "print(\"Defitionion of the synset with id {}: {}\".format(synset_object.id, definition))\n",
        "new_definition = \"This is a new defition\"\n",
        "synset_object.definition = new_definition\n",
        "print(\"New definition of the synset with id {}: {}\".format(synset_object.id, synset_object.definition))"
      ],
      "metadata": {
        "colab": {
          "base_uri": "https://localhost:8080/"
        },
        "id": "fMvAiftdUVi-",
        "outputId": "a4040282-4532-491f-b3f3-89d2051d8ead"
      },
      "execution_count": null,
      "outputs": [
        {
          "output_type": "stream",
          "name": "stdout",
          "text": [
            "Defitionion of the synset with id ENG30-12752039-n: Expresie : (Aceraceae); arbore sau arbust din acest gen;\n",
            "New definition of the synset with id ENG30-12752039-n: This is a new defition\n"
          ]
        }
      ]
    },
    {
      "cell_type": "code",
      "source": [
        "synsets_id = rown.synsets()\n",
        "print(\"Total number of synsets: {} \\n\".format(len(synsets_id)))"
      ],
      "metadata": {
        "colab": {
          "base_uri": "https://localhost:8080/"
        },
        "id": "LclAOYJyUWH4",
        "outputId": "978c569f-4861-45d6-b8b4-50319afddc62"
      },
      "execution_count": null,
      "outputs": [
        {
          "output_type": "stream",
          "name": "stdout",
          "text": [
            "Total number of synsets: 59348 \n",
            "\n"
          ]
        }
      ]
    },
    {
      "cell_type": "code",
      "source": [
        "from rowordnet import Synset\n",
        "\n",
        "# return all noun synsets\n",
        "synsets_id_nouns = rown.synsets(pos=Synset.Pos.NOUN)\n",
        "print(\"Total number of noun synsets: {}\".format(len(synsets_id_nouns)))\n",
        "# return all verb synsets\n",
        "synsets_id_verbs = rown.synsets(pos=Synset.Pos.VERB)\n",
        "print(\"Total number of verb synsets: {}\".format(len(synsets_id_verbs)))\n",
        "# return all adjective synsets\n",
        "synsets_id_adjectives = rown.synsets(pos=Synset.Pos.ADJECTIVE)\n",
        "print(\"Total number of adjective synsets: {}\".format(len(synsets_id_adjectives)))\n",
        "# return all adverb synsets\n",
        "synsets_id_adverbs = rown.synsets(pos=Synset.Pos.ADVERB)\n",
        "print(\"Total number of adverb synsets: {}\".format(len(synsets_id_adverbs)))"
      ],
      "metadata": {
        "colab": {
          "base_uri": "https://localhost:8080/"
        },
        "id": "G8NS0xC2UXs3",
        "outputId": "ccdab2ca-22f7-4d91-a0c1-ef99001b8d51"
      },
      "execution_count": null,
      "outputs": [
        {
          "output_type": "stream",
          "name": "stdout",
          "text": [
            "Total number of noun synsets: 41063\n",
            "Total number of verb synsets: 10397\n",
            "Total number of adjective synsets: 4822\n",
            "Total number of adverb synsets: 3066\n"
          ]
        }
      ]
    },
    {
      "cell_type": "code",
      "source": [
        "# Match with English synset\n",
        "matched_acer_synset = wn.synset_from_pos_and_offset('n', 12752039)\n",
        "matched_acer_synset.definition()"
      ],
      "metadata": {
        "colab": {
          "base_uri": "https://localhost:8080/",
          "height": 35
        },
        "id": "cmUgZQwjxIrO",
        "outputId": "1495a32a-16ef-48ce-8841-32b86225b8ec"
      },
      "execution_count": null,
      "outputs": [
        {
          "output_type": "execute_result",
          "data": {
            "text/plain": [
              "'type genus of the Aceraceae; trees or shrubs having winged fruit'"
            ],
            "application/vnd.google.colaboratory.intrinsic+json": {
              "type": "string"
            }
          },
          "metadata": {},
          "execution_count": 92
        }
      ]
    },
    {
      "cell_type": "markdown",
      "source": [
        "## Distances"
      ],
      "metadata": {
        "id": "svFnn0bCytaq"
      }
    },
    {
      "cell_type": "markdown",
      "source": [
        "\"Leacock-Chodorow Similarity: Return a score denoting how similar two word senses are, based on the shortest path that connects the senses \""
      ],
      "metadata": {
        "id": "6bAwtOzo2ztg"
      }
    },
    {
      "cell_type": "markdown",
      "source": [
        "\n",
        "https://www.academia.edu/download/4162626/10.1.1.29.2985.pdf"
      ],
      "metadata": {
        "id": "_V8KCxhAE5Sn"
      }
    },
    {
      "cell_type": "code",
      "source": [
        "tree_synset.lch_similarity(matched_acer_synset, verbose=True)"
      ],
      "metadata": {
        "colab": {
          "base_uri": "https://localhost:8080/"
        },
        "id": "GJFV2W0VyvB7",
        "outputId": "e00b13e6-c496-4f0c-9147-e873d82da851"
      },
      "execution_count": null,
      "outputs": [
        {
          "output_type": "execute_result",
          "data": {
            "text/plain": [
              "0.8043728156701697"
            ]
          },
          "metadata": {},
          "execution_count": 93
        }
      ]
    },
    {
      "cell_type": "code",
      "source": [
        "tree_synset.lch_similarity??"
      ],
      "metadata": {
        "id": "4YmBXvFSlBtZ"
      },
      "execution_count": null,
      "outputs": []
    },
    {
      "cell_type": "code",
      "source": [
        "human_synset.lch_similarity(bird_synset,  verbose=True)"
      ],
      "metadata": {
        "colab": {
          "base_uri": "https://localhost:8080/"
        },
        "id": "pouEuhbgy-EV",
        "outputId": "5d2a1840-6abc-4faf-eaa6-5d7b470daf39"
      },
      "execution_count": null,
      "outputs": [
        {
          "output_type": "execute_result",
          "data": {
            "text/plain": [
              "1.6916760106710724"
            ]
          },
          "metadata": {},
          "execution_count": 95
        }
      ]
    },
    {
      "cell_type": "code",
      "source": [
        "human_synset.lch_similarity(wn.synsets('monkey')[0],  verbose=True)"
      ],
      "metadata": {
        "colab": {
          "base_uri": "https://localhost:8080/"
        },
        "id": "EKS80e7VEDs8",
        "outputId": "adf8b35a-f5a0-4d51-dd87-a7184dc4a3ae"
      },
      "execution_count": null,
      "outputs": [
        {
          "output_type": "execute_result",
          "data": {
            "text/plain": [
              "2.2512917986064953"
            ]
          },
          "metadata": {},
          "execution_count": 96
        }
      ]
    },
    {
      "cell_type": "code",
      "source": [
        "human_synset.lch_similarity(wn.synsets('god')[2],  verbose=True)"
      ],
      "metadata": {
        "colab": {
          "base_uri": "https://localhost:8080/"
        },
        "id": "n0ikHQhtlXeo",
        "outputId": "513b38f9-6f50-4b2c-cb47-dd5933f2fff1"
      },
      "execution_count": null,
      "outputs": [
        {
          "output_type": "execute_result",
          "data": {
            "text/plain": [
              "1.072636802264849"
            ]
          },
          "metadata": {},
          "execution_count": 97
        }
      ]
    },
    {
      "cell_type": "code",
      "source": [
        "human_synset.lch_similarity(tree_synset)"
      ],
      "metadata": {
        "colab": {
          "base_uri": "https://localhost:8080/"
        },
        "id": "-ZAfItx9EJ-a",
        "outputId": "3e0f61ea-99b5-4b9f-bd92-e24693ffb00a"
      },
      "execution_count": null,
      "outputs": [
        {
          "output_type": "execute_result",
          "data": {
            "text/plain": [
              "1.072636802264849"
            ]
          },
          "metadata": {},
          "execution_count": 98
        }
      ]
    },
    {
      "cell_type": "code",
      "source": [
        "tree_synset.lch_similarity(wn.synsets('god')[2],  verbose=True)"
      ],
      "metadata": {
        "colab": {
          "base_uri": "https://localhost:8080/"
        },
        "id": "OY8C9KD1lsep",
        "outputId": "1d85d4d1-5c99-42b4-b480-c9ed354ca8d0"
      },
      "execution_count": null,
      "outputs": [
        {
          "output_type": "execute_result",
          "data": {
            "text/plain": [
              "1.4403615823901665"
            ]
          },
          "metadata": {},
          "execution_count": 99
        }
      ]
    },
    {
      "cell_type": "code",
      "source": [
        "tree_synset.lch_similarity(human_synset)"
      ],
      "metadata": {
        "colab": {
          "base_uri": "https://localhost:8080/"
        },
        "id": "NgN7IsVKDtOz",
        "outputId": "37445e07-df98-47ba-8a41-1cd5e048f769"
      },
      "execution_count": null,
      "outputs": [
        {
          "output_type": "execute_result",
          "data": {
            "text/plain": [
              "1.072636802264849"
            ]
          },
          "metadata": {},
          "execution_count": 100
        }
      ]
    },
    {
      "cell_type": "code",
      "source": [
        "tree_synset.jcn_similarity??"
      ],
      "metadata": {
        "id": "8pCvfIl3EPaZ"
      },
      "execution_count": null,
      "outputs": []
    },
    {
      "cell_type": "code",
      "source": [
        "tree_synset.res_similarity??"
      ],
      "metadata": {
        "id": "OEJLT87ZET4O"
      },
      "execution_count": null,
      "outputs": []
    },
    {
      "cell_type": "markdown",
      "source": [
        "# Exercises (1p)"
      ],
      "metadata": {
        "id": "d-zfzm9l4TNd"
      }
    },
    {
      "cell_type": "markdown",
      "source": [
        "1. Write a function that returns all synonyms for a word in WordNet, given the word string and its language. Return as a list of strings, irrespective of the sense of each word (if word has multiple senses, all synonyms are stil grouped together)"
      ],
      "metadata": {
        "id": "YOvawZcFU3v1"
      }
    },
    {
      "cell_type": "code",
      "source": [
        "import nltk\n",
        "nltk.download('wordnet')\n",
        "nltk.download('omw-1.4')"
      ],
      "metadata": {
        "colab": {
          "base_uri": "https://localhost:8080/"
        },
        "id": "5-9wwGf4MXwM",
        "outputId": "3771a54e-58c7-41b9-f5ba-863e55f0b881"
      },
      "execution_count": null,
      "outputs": [
        {
          "output_type": "stream",
          "name": "stderr",
          "text": [
            "[nltk_data] Downloading package wordnet to /root/nltk_data...\n",
            "[nltk_data]   Package wordnet is already up-to-date!\n",
            "[nltk_data] Downloading package omw-1.4 to /root/nltk_data...\n"
          ]
        },
        {
          "output_type": "execute_result",
          "data": {
            "text/plain": [
              "True"
            ]
          },
          "metadata": {},
          "execution_count": 5
        }
      ]
    },
    {
      "cell_type": "code",
      "source": [
        "from nltk.corpus import wordnet as wn\n",
        "\n",
        "def get_synonyms(word, lang='eng'):\n",
        "    synonyms = []\n",
        "    for synset in wn.synsets(word, lang=lang):\n",
        "        for lemma in synset.lemmas():\n",
        "            synonyms.append(lemma.name())\n",
        "    return list(set(synonyms))\n",
        "\n",
        "synonyms = get_synonyms('fight')\n",
        "print(synonyms)"
      ],
      "metadata": {
        "id": "-bfjVLHP4U3O",
        "colab": {
          "base_uri": "https://localhost:8080/"
        },
        "outputId": "a6c0a84d-826b-4fb9-f0d4-fc640e9cbade"
      },
      "execution_count": null,
      "outputs": [
        {
          "output_type": "stream",
          "name": "stdout",
          "text": [
            "['battle', 'press', 'fight_down', 'fight_back', 'fighting', 'fight', 'contend', 'conflict', 'crusade', 'engagement', 'struggle', 'competitiveness', 'push', 'agitate', 'combat', 'defend', 'scrap', 'campaign', 'oppose']\n"
          ]
        }
      ]
    },
    {
      "cell_type": "markdown",
      "source": [
        "2. Write a function that retrieves the \"translation\" of an English word to a different language (one supported by OMW), according to WordNet. (could return multiple words)"
      ],
      "metadata": {
        "id": "LtL5GHCXVQl3"
      }
    },
    {
      "cell_type": "code",
      "source": [
        "def get_word_translation(word, lang='spa'):\n",
        "    translations = []\n",
        "    for synset in wn.synsets(word):\n",
        "        for lemma in synset.lemma_names(lang=lang):\n",
        "            translations.extend(lemma.split('_'))\n",
        "    return list(set(translations))\n",
        "\n",
        "translations = get_word_translation('fight', lang='spa')\n",
        "print(translations)"
      ],
      "metadata": {
        "id": "0VM-ZaiTVP49",
        "colab": {
          "base_uri": "https://localhost:8080/"
        },
        "outputId": "72ab0ce7-1b80-468f-c41c-7f3d892d44a6"
      },
      "execution_count": null,
      "outputs": [
        {
          "output_type": "stream",
          "name": "stdout",
          "text": [
            "['batalla', 'lucha', 'lidiar', 'luchar', 'conflicto', 'oponerse', 'enfrentarse', 'competitividad', 'combate', 'derrotar', 'defenderse', 'acción', 'pelea', 'defender', 'pelear']\n"
          ]
        }
      ]
    },
    {
      "cell_type": "markdown",
      "source": [
        "3. Write a function that retrieves the \"sibling\" terms of a noun in WordNet. A sister term is one that shares a hypernym. (e.g. \"oak tree\" and \"fir tree\")."
      ],
      "metadata": {
        "id": "ORzpzklLVbnH"
      }
    },
    {
      "cell_type": "code",
      "source": [
        "def get_siblings(noun):\n",
        "    synsets = wn.synsets(noun, pos=wn.NOUN)\n",
        "    hypernyms = synsets[0].hypernyms()\n",
        "\n",
        "    sibling_terms = []\n",
        "    for hypernym in hypernyms:\n",
        "        for hyponym in hypernym.hyponyms():\n",
        "           for lemma in hyponym.lemmas():\n",
        "                sibling_terms.append(lemma.name())\n",
        "    return sibling_terms\n",
        "\n",
        "get_siblings(\"tree\")"
      ],
      "metadata": {
        "id": "6ixS2CXSV4Yp",
        "colab": {
          "base_uri": "https://localhost:8080/"
        },
        "outputId": "b5fc31ea-f55c-4ad0-867f-9f8e13b8283c"
      },
      "execution_count": null,
      "outputs": [
        {
          "output_type": "execute_result",
          "data": {
            "text/plain": [
              "['aralia',\n",
              " 'arborescent_plant',\n",
              " 'bignoniad',\n",
              " 'bramble',\n",
              " 'bugbane',\n",
              " 'bush_clover',\n",
              " 'lespedeza',\n",
              " 'combretum',\n",
              " 'figwort',\n",
              " 'gesneriad',\n",
              " 'lignosae',\n",
              " 'lupine',\n",
              " 'lupin',\n",
              " 'melilotus',\n",
              " 'melilot',\n",
              " 'sweet_clover',\n",
              " 'milk_vetch',\n",
              " 'milk-vetch',\n",
              " 'nightshade',\n",
              " 'Queensland_grass-cloth_plant',\n",
              " 'Pipturus_argenteus',\n",
              " 'shrub',\n",
              " 'bush',\n",
              " \"traveler's_tree\",\n",
              " \"traveller's_tree\",\n",
              " 'ravenala',\n",
              " 'Ravenala_madagascariensis',\n",
              " 'tree',\n",
              " 'wild_indigo',\n",
              " 'false_indigo']"
            ]
          },
          "metadata": {},
          "execution_count": 21
        }
      ]
    },
    {
      "cell_type": "markdown",
      "source": [
        "4. Write a function that computes the degree of polysemy for a word, as the number of synsets it belongs to."
      ],
      "metadata": {
        "id": "ZGPzNWbeV4r6"
      }
    },
    {
      "cell_type": "code",
      "source": [
        "def get_polysemy(word):\n",
        "    synsets = wn.synsets(word)\n",
        "    return len(synsets)\n",
        "\n",
        "get_polysemy(\"sun\")"
      ],
      "metadata": {
        "id": "1p1J0CySVbHf",
        "colab": {
          "base_uri": "https://localhost:8080/"
        },
        "outputId": "b5aadb6d-2d83-4183-db82-490cc84e3e64"
      },
      "execution_count": null,
      "outputs": [
        {
          "output_type": "execute_result",
          "data": {
            "text/plain": [
              "7"
            ]
          },
          "metadata": {},
          "execution_count": 25
        }
      ]
    },
    {
      "cell_type": "markdown",
      "source": [
        "5. Select a few paragraphs of text from a NLTK corpus. Build a vocabulary containing all the unique word forms found in the text. Using the function above, compute the polysemy degree of each word. Illustrate the distribution of polysemy using a histogram."
      ],
      "metadata": {
        "id": "DpcWEUNoXpTN"
      }
    },
    {
      "cell_type": "code",
      "source": [
        "nltk.download('brown')\n",
        "nltk.download('punkt')"
      ],
      "metadata": {
        "colab": {
          "base_uri": "https://localhost:8080/"
        },
        "id": "DvOX1lI7Yo7Q",
        "outputId": "1d0bbc44-02a6-42e1-ab50-bfa9bda53eb2"
      },
      "execution_count": null,
      "outputs": [
        {
          "output_type": "stream",
          "name": "stderr",
          "text": [
            "[nltk_data] Downloading package brown to /root/nltk_data...\n",
            "[nltk_data]   Package brown is already up-to-date!\n",
            "[nltk_data] Downloading package punkt to /root/nltk_data...\n",
            "[nltk_data]   Unzipping tokenizers/punkt.zip.\n"
          ]
        },
        {
          "output_type": "execute_result",
          "data": {
            "text/plain": [
              "True"
            ]
          },
          "metadata": {},
          "execution_count": 35
        }
      ]
    },
    {
      "cell_type": "code",
      "source": [
        "from tkinter import Text\n",
        "import pandas as pd\n",
        "from nltk.corpus import brown\n",
        "from nltk.tokenize import word_tokenize\n",
        "\n",
        "\n",
        "text = ' '.join(brown.words()[:100])\n",
        "text = text.lower()\n",
        "words = word_tokenize(text)\n",
        "words = set(words)\n",
        "\n",
        "polysemy = [get_polysemy(word) for word in words]\n",
        "pd.Series(polysemy).hist()"
      ],
      "metadata": {
        "id": "0JUbqi5RYOCm",
        "colab": {
          "base_uri": "https://localhost:8080/",
          "height": 447
        },
        "outputId": "0cd87c8b-b81d-481c-f230-c9eaf9489afe"
      },
      "execution_count": null,
      "outputs": [
        {
          "output_type": "execute_result",
          "data": {
            "text/plain": [
              "<Axes: >"
            ]
          },
          "metadata": {},
          "execution_count": 39
        },
        {
          "output_type": "display_data",
          "data": {
            "text/plain": [
              "<Figure size 640x480 with 1 Axes>"
            ],
            "image/png": "[encoded data removed]"
          },
          "metadata": {}
        }
      ]
    },
    {
      "cell_type": "markdown",
      "source": [
        "6. Write a function to compute the similarity between two words, using one of the similarity metrics defined in WordNet. If a word has more than one sense, use a method to aggregate the per-synset similarities (e.g. average the distance across all pairs).\n"
      ],
      "metadata": {
        "id": "QSvFkejLVorP"
      }
    },
    {
      "cell_type": "code",
      "source": [
        "def word_similarity(word1, word2):\n",
        "    synsets1 = wn.synsets(word1)\n",
        "    synsets2 = wn.synsets(word2)\n",
        "\n",
        "    sim_score = 0.0\n",
        "\n",
        "    if not synsets1 or not synsets2:\n",
        "        return sim_score\n",
        "\n",
        "    for syn1 in synsets1:\n",
        "      for syn2 in synsets2:\n",
        "        if syn1.pos() == syn2.pos():\n",
        "          score = syn1.lch_similarity(syn2)\n",
        "          if score is not None:\n",
        "            sim_score += score\n",
        "\n",
        "    sim_score /= len(synsets1) + len(synsets2)\n",
        "    return sim_score\n",
        "\n",
        "word_similarity('child', 'kid')"
      ],
      "metadata": {
        "id": "qhUKBLN9VbLg",
        "colab": {
          "base_uri": "https://localhost:8080/"
        },
        "outputId": "1345501d-0e0b-42bd-c3b9-5b21fa2b4fdb"
      },
      "execution_count": null,
      "outputs": [
        {
          "output_type": "execute_result",
          "data": {
            "text/plain": [
              "3.059496932503212"
            ]
          },
          "metadata": {},
          "execution_count": 56
        }
      ]
    },
    {
      "cell_type": "markdown",
      "source": [
        "7. Compare with word2vec similarity. (Load an embeddings model to be able to retrieve similarities between words). Then take the vocabulary from Ex 5, or a custom vocabulary of your choice (e.g. the SimLex set of word pairs) and compute similarities between all word pairs using the function from Ex 6. Then compute the same similarities with word2vec, and finally compute the Spearman correlation between them."
      ],
      "metadata": {
        "id": "Cvu37eXhHATY"
      }
    },
    {
      "cell_type": "code",
      "source": [
        "import gensim.downloader\n",
        "embeddings_twitter = gensim.downloader.load('glove-twitter-25')"
      ],
      "metadata": {
        "id": "TH6hpWGNVycG"
      },
      "execution_count": null,
      "outputs": []
    },
    {
      "cell_type": "code",
      "source": [
        "text = ' '.join(brown.words()[:200])\n",
        "text = text.lower()\n",
        "words = word_tokenize(text)\n",
        "words = list(set(words))"
      ],
      "metadata": {
        "id": "WRg_4ys9h1OL"
      },
      "execution_count": null,
      "outputs": []
    },
    {
      "cell_type": "code",
      "source": [
        "import itertools\n",
        "pairs = list(itertools.combinations(words, 2))"
      ],
      "metadata": {
        "id": "eiSCk4WEh1E0"
      },
      "execution_count": null,
      "outputs": []
    },
    {
      "cell_type": "code",
      "source": [
        "from scipy.stats import spearmanr\n",
        "\n",
        "lch_sim = [word_similarity(pair[0], pair[1]) for pair in pairs if all(w in embeddings_twitter for w in pair)]\n",
        "emb_sim = [embeddings_twitter.similarity(pair[0], pair[1]) for pair in pairs if all(w in embeddings_twitter for w in pair)]\n",
        "\n",
        "coef, p = spearmanr(lch_sim, emb_sim)\n",
        "print(\"Spearman Correlation: {}\".format(coef))\n"
      ],
      "metadata": {
        "colab": {
          "base_uri": "https://localhost:8080/"
        },
        "id": "F964VEGojL51",
        "outputId": "d08f5ebd-3d6c-4fd7-e609-6418f32a51d6"
      },
      "execution_count": null,
      "outputs": [
        {
          "output_type": "stream",
          "name": "stdout",
          "text": [
            "Spearman Correlation: 0.11217522393269148\n"
          ]
        }
      ]
    },
    {
      "cell_type": "markdown",
      "source": [
        "8. Using the same text from exercise 5, select all nouns (according to WordNet, choose words which are part of any noun Synsets) and find their hypernyms. Reconstruct the text replacing each noun with one of its hypernyms. Is it coherent? Pinpoint some examples where the replacement did not make sense (in a text cell or a comment)"
      ],
      "metadata": {
        "id": "n0zbXERpVzAZ"
      }
    },
    {
      "cell_type": "code",
      "source": [
        "new_text = \"\"\n",
        "for word in words:\n",
        "    synsets = wn.synsets(word, pos='n')\n",
        "    if not synsets:\n",
        "        new_text += word + ' '\n",
        "    else:\n",
        "        hypernyms = synsets[0].hypernyms()\n",
        "        if not hypernyms:\n",
        "            new_text += word + ' '\n",
        "        else:\n",
        "            new_text += hypernyms[0].lemmas()[0].name() + ' '\n",
        "\n",
        "print(f\"Original text: {text}\")\n",
        "print(f\"New text: {new_text}\")"
      ],
      "metadata": {
        "id": "JsKt4Re3Y4-n",
        "colab": {
          "base_uri": "https://localhost:8080/"
        },
        "outputId": "c62dce32-7924-4a37-b53c-2a3e329018bc"
      },
      "execution_count": null,
      "outputs": [
        {
          "output_type": "stream",
          "name": "stdout",
          "text": [
            "Original text: the fulton county grand jury said friday an investigation of atlanta's recent primary election produced `` no evidence '' that any irregularities took place . the jury further said in term-end presentments that the city executive committee , which had over-all charge of the election , `` deserves the praise and thanks of the city of atlanta '' for the manner in which the election was conducted . the september-october term jury had been charged by fulton superior court judge durwood pye to investigate reports of possible `` irregularities '' in the hard-fought primary which was won by mayor-nominate ivan allen jr. . `` only a relative handful of such reports was received '' , the jury said , `` considering the widespread interest in the election , the number of voters and the size of this city '' . the jury said it did find that many of georgia's registration and election laws `` are outmoded or inadequate and often ambiguous '' . it recommended that fulton legislators act `` to have these laws studied and revised to the end of modernizing and improving them '' . the grand jury commented on a number of other topics , among\n",
            "New text: charged possibility over-all 's leader citizen hard-fought for conducted recent engineering assembly attack due_process such large_integer atlanta lawgiver , entrance only information pye amount further adjudicator recommended among administrative_unit . commented insight studied outmoded them many magnitude that extremity considering other person and laws inquiry modernizing election improving often took revised durwood said misbehavior ivan document legal_document these associate_degree metric_linear_unit widespread South_Korean_monetary_unit investigate weekday mayor-nominate september-october fulton had or term-end produced this deserves area_unit georgia by received was region word jr. ambiguous administrator vote point which inadequate message to on `` negative municipality the allen person property body any curiosity did been small_indefinite_quantity linear_unit approval of acknowledgment \n"
          ]
        }
      ]
    },
    {
      "cell_type": "markdown",
      "source": [
        "Examples of replacements which don't work: ..."
      ],
      "metadata": {
        "id": "UuJAPYpDIEH8"
      }
    },
    {
      "cell_type": "markdown",
      "source": [
        "9. Repeat the same procedure from exercise 8, but replace with hyponyms instead."
      ],
      "metadata": {
        "id": "qh3bD49YY5yI"
      }
    },
    {
      "cell_type": "code",
      "source": [
        "new_text = \"\"\n",
        "for word in words:\n",
        "    synsets = wn.synsets(word, pos='n')\n",
        "    if not synsets:\n",
        "        new_text += word + ' '\n",
        "    else:\n",
        "        hyponyms = synsets[0].hyponyms()\n",
        "        if not hyponyms:\n",
        "            new_text += word + ' '\n",
        "        else:\n",
        "            new_text += hyponyms[0].lemmas()[0].name() + ' '\n",
        "\n",
        "print(f\"Original text: {text}\")\n",
        "print(f\"New text: {new_text}\")"
      ],
      "metadata": {
        "id": "2iruYxbBY-KL",
        "colab": {
          "base_uri": "https://localhost:8080/"
        },
        "outputId": "02feed30-b2f7-4dc4-90d2-fb5bc35c0ca8"
      },
      "execution_count": null,
      "outputs": [
        {
          "output_type": "stream",
          "name": "stdout",
          "text": [
            "Original text: the fulton county grand jury said friday an investigation of atlanta's recent primary election produced `` no evidence '' that any irregularities took place . the jury further said in term-end presentments that the city executive committee , which had over-all charge of the election , `` deserves the praise and thanks of the city of atlanta '' for the manner in which the election was conducted . the september-october term jury had been charged by fulton superior court judge durwood pye to investigate reports of possible `` irregularities '' in the hard-fought primary which was won by mayor-nominate ivan allen jr. . `` only a relative handful of such reports was received '' , the jury said , `` considering the widespread interest in the election , the number of voters and the size of this city '' . the jury said it did find that many of georgia's registration and election laws `` are outmoded or inadequate and often ambiguous '' . it recommended that fulton legislators act `` to have these laws studied and revised to the end of modernizing and improving them '' . the grand jury commented on a number of other topics , among\n",
            "New text: charged possible over-all 's better constituent hard-fought for conducted recent it appellate_court countercharge presentments such millenary atlanta backbencher , registration only disproof pye fewness further alcalde recommended among blue_ribbon_commission . commented find studied outmoded them many circumference that bitter_end considering other agnate and laws fishing_expedition modernizing direct_primary improving often took revised durwood said deviation ivan assay decree these an a widespread won investigate friday mayor-nominate september-october fulton had or term-end produced this deserves are georgia by received was Wight referent jr. ambiguous corporate_executive by-election birthplace which inadequate bone_of_contention to on `` no national_capital the allen affluent artistic_style grand_jury any concern did been handful in compliment of appreciation \n"
          ]
        }
      ]
    },
    {
      "cell_type": "code",
      "source": [],
      "metadata": {
        "id": "UnfWuGt9y4Cq"
      },
      "execution_count": null,
      "outputs": []
    }
  ],
  "metadata": {
    "kernelspec": {
      "display_name": "Python 3",
      "language": "python",
      "name": "python3"
    },
    "language_info": {
      "codemirror_mode": {
        "name": "ipython",
        "version": 3
      },
      "file_extension": ".py",
      "mimetype": "text/x-python",
      "name": "python",
      "nbconvert_exporter": "python",
      "pygments_lexer": "ipython3",
      "version": "3.5.2"
    },
    "toc": {
      "base_numbering": 1,
      "nav_menu": {},
      "number_sections": true,
      "sideBar": true,
      "skip_h1_title": false,
      "title_cell": "Table of Contents",
      "title_sidebar": "Contents",
      "toc_cell": false,
      "toc_position": {},
      "toc_section_display": true,
      "toc_window_display": false
    },
    "colab": {
      "provenance": []
    }
  },
  "nbformat": 4,
  "nbformat_minor": 0
}